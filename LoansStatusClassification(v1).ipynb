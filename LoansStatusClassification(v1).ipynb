{
  "cells": [
    {
      "cell_type": "code",
      "execution_count": 1,
      "metadata": {
        "id": "qVVL08E8FQWK"
      },
      "outputs": [],
      "source": [
        "import pandas as pd\n",
        "import matplotlib.pyplot as plt\n",
        "from scipy.stats import binom\n",
        "import seaborn as sns\n",
        "import numpy as np\n",
        "\n",
        "#import matplotlib.ticker as ticker\n",
        "#from matplotlib.ticker import NullFormatter\n",
        "#from bokeh.plotting import show\n",
        "#from bokeh.layouts import gridplot\n",
        "#from sklearn import metrics\n",
        "#from sklearn.metrics import classification_report, confusion_matrix, jaccard_score, f1_score, log_loss, accuracy_score, roc_curve, roc_auc_score, plot_roc_curve\n",
        "#from matplotlib.pyplot import matshow\n",
        "%matplotlib inline"
      ]
    },
    {
      "attachments": {},
      "cell_type": "markdown",
      "metadata": {
        "id": "I7N-FbHMFlLV"
      },
      "source": [
        "# Selection, transformation, pre-processing and visualization of data loaded from CSV file"
      ]
    },
    {
      "attachments": {},
      "cell_type": "markdown",
      "metadata": {},
      "source": [
        "## Let's get to know the data set we are working with"
      ]
    },
    {
      "cell_type": "code",
      "execution_count": 2,
      "metadata": {
        "colab": {
          "base_uri": "https://localhost:8080/",
          "height": 363
        },
        "id": "jILVON7mFkho",
        "outputId": "6444afe8-c78b-4ac6-922d-cabefb26c93e"
      },
      "outputs": [
        {
          "data": {
            "text/html": [
              "<div>\n",
              "<style scoped>\n",
              "    .dataframe tbody tr th:only-of-type {\n",
              "        vertical-align: middle;\n",
              "    }\n",
              "\n",
              "    .dataframe tbody tr th {\n",
              "        vertical-align: top;\n",
              "    }\n",
              "\n",
              "    .dataframe thead th {\n",
              "        text-align: right;\n",
              "    }\n",
              "</style>\n",
              "<table border=\"1\" class=\"dataframe\">\n",
              "  <thead>\n",
              "    <tr style=\"text-align: right;\">\n",
              "      <th></th>\n",
              "      <th>Unnamed: 0.1</th>\n",
              "      <th>Unnamed: 0</th>\n",
              "      <th>loan_status</th>\n",
              "      <th>Principal</th>\n",
              "      <th>terms</th>\n",
              "      <th>effective_date</th>\n",
              "      <th>due_date</th>\n",
              "      <th>age</th>\n",
              "      <th>education</th>\n",
              "      <th>Gender</th>\n",
              "    </tr>\n",
              "  </thead>\n",
              "  <tbody>\n",
              "    <tr>\n",
              "      <th>234</th>\n",
              "      <td>272</td>\n",
              "      <td>272</td>\n",
              "      <td>PAIDOFF</td>\n",
              "      <td>1000</td>\n",
              "      <td>30</td>\n",
              "      <td>9/14/2016</td>\n",
              "      <td>11/12/2016</td>\n",
              "      <td>28</td>\n",
              "      <td>college</td>\n",
              "      <td>male</td>\n",
              "    </tr>\n",
              "    <tr>\n",
              "      <th>42</th>\n",
              "      <td>51</td>\n",
              "      <td>51</td>\n",
              "      <td>PAIDOFF</td>\n",
              "      <td>1000</td>\n",
              "      <td>30</td>\n",
              "      <td>9/11/2016</td>\n",
              "      <td>10/10/2016</td>\n",
              "      <td>35</td>\n",
              "      <td>Bechalor</td>\n",
              "      <td>female</td>\n",
              "    </tr>\n",
              "    <tr>\n",
              "      <th>303</th>\n",
              "      <td>354</td>\n",
              "      <td>354</td>\n",
              "      <td>COLLECTION</td>\n",
              "      <td>1000</td>\n",
              "      <td>30</td>\n",
              "      <td>9/11/2016</td>\n",
              "      <td>10/10/2016</td>\n",
              "      <td>37</td>\n",
              "      <td>High School or Below</td>\n",
              "      <td>male</td>\n",
              "    </tr>\n",
              "    <tr>\n",
              "      <th>155</th>\n",
              "      <td>183</td>\n",
              "      <td>183</td>\n",
              "      <td>PAIDOFF</td>\n",
              "      <td>800</td>\n",
              "      <td>15</td>\n",
              "      <td>9/12/2016</td>\n",
              "      <td>9/26/2016</td>\n",
              "      <td>30</td>\n",
              "      <td>High School or Below</td>\n",
              "      <td>male</td>\n",
              "    </tr>\n",
              "    <tr>\n",
              "      <th>342</th>\n",
              "      <td>395</td>\n",
              "      <td>395</td>\n",
              "      <td>COLLECTION</td>\n",
              "      <td>1000</td>\n",
              "      <td>30</td>\n",
              "      <td>9/11/2016</td>\n",
              "      <td>10/10/2016</td>\n",
              "      <td>25</td>\n",
              "      <td>High School or Below</td>\n",
              "      <td>male</td>\n",
              "    </tr>\n",
              "    <tr>\n",
              "      <th>309</th>\n",
              "      <td>360</td>\n",
              "      <td>360</td>\n",
              "      <td>COLLECTION</td>\n",
              "      <td>1000</td>\n",
              "      <td>30</td>\n",
              "      <td>9/11/2016</td>\n",
              "      <td>10/10/2016</td>\n",
              "      <td>34</td>\n",
              "      <td>college</td>\n",
              "      <td>male</td>\n",
              "    </tr>\n",
              "    <tr>\n",
              "      <th>54</th>\n",
              "      <td>65</td>\n",
              "      <td>65</td>\n",
              "      <td>PAIDOFF</td>\n",
              "      <td>900</td>\n",
              "      <td>15</td>\n",
              "      <td>9/11/2016</td>\n",
              "      <td>9/25/2016</td>\n",
              "      <td>28</td>\n",
              "      <td>college</td>\n",
              "      <td>male</td>\n",
              "    </tr>\n",
              "    <tr>\n",
              "      <th>287</th>\n",
              "      <td>336</td>\n",
              "      <td>336</td>\n",
              "      <td>COLLECTION</td>\n",
              "      <td>1000</td>\n",
              "      <td>30</td>\n",
              "      <td>9/11/2016</td>\n",
              "      <td>10/10/2016</td>\n",
              "      <td>31</td>\n",
              "      <td>college</td>\n",
              "      <td>male</td>\n",
              "    </tr>\n",
              "    <tr>\n",
              "      <th>378</th>\n",
              "      <td>222</td>\n",
              "      <td>222</td>\n",
              "      <td>PAIDOFF</td>\n",
              "      <td>1000</td>\n",
              "      <td>30</td>\n",
              "      <td>9/12/2016</td>\n",
              "      <td>11/10/2016</td>\n",
              "      <td>29</td>\n",
              "      <td>college</td>\n",
              "      <td>male</td>\n",
              "    </tr>\n",
              "    <tr>\n",
              "      <th>91</th>\n",
              "      <td>112</td>\n",
              "      <td>112</td>\n",
              "      <td>PAIDOFF</td>\n",
              "      <td>1000</td>\n",
              "      <td>30</td>\n",
              "      <td>9/11/2016</td>\n",
              "      <td>10/10/2016</td>\n",
              "      <td>27</td>\n",
              "      <td>college</td>\n",
              "      <td>male</td>\n",
              "    </tr>\n",
              "  </tbody>\n",
              "</table>\n",
              "</div>"
            ],
            "text/plain": [
              "     Unnamed: 0.1  Unnamed: 0 loan_status  Principal  terms effective_date  \\\n",
              "234           272         272     PAIDOFF       1000     30      9/14/2016   \n",
              "42             51          51     PAIDOFF       1000     30      9/11/2016   \n",
              "303           354         354  COLLECTION       1000     30      9/11/2016   \n",
              "155           183         183     PAIDOFF        800     15      9/12/2016   \n",
              "342           395         395  COLLECTION       1000     30      9/11/2016   \n",
              "309           360         360  COLLECTION       1000     30      9/11/2016   \n",
              "54             65          65     PAIDOFF        900     15      9/11/2016   \n",
              "287           336         336  COLLECTION       1000     30      9/11/2016   \n",
              "378           222         222     PAIDOFF       1000     30      9/12/2016   \n",
              "91            112         112     PAIDOFF       1000     30      9/11/2016   \n",
              "\n",
              "       due_date  age             education  Gender  \n",
              "234  11/12/2016   28               college    male  \n",
              "42   10/10/2016   35              Bechalor  female  \n",
              "303  10/10/2016   37  High School or Below    male  \n",
              "155   9/26/2016   30  High School or Below    male  \n",
              "342  10/10/2016   25  High School or Below    male  \n",
              "309  10/10/2016   34               college    male  \n",
              "54    9/25/2016   28               college    male  \n",
              "287  10/10/2016   31               college    male  \n",
              "378  11/10/2016   29               college    male  \n",
              "91   10/10/2016   27               college    male  "
            ]
          },
          "execution_count": 2,
          "metadata": {},
          "output_type": "execute_result"
        }
      ],
      "source": [
        "# Set the seed for reproducible results\n",
        "np.random.seed(123)\n",
        "\n",
        "# Load the data and get a sample of it\n",
        "df = pd.read_csv(\"loans.csv\")\n",
        "df.sample(10)"
      ]
    },
    {
      "cell_type": "code",
      "execution_count": 3,
      "metadata": {
        "colab": {
          "base_uri": "https://localhost:8080/",
          "height": 300
        },
        "id": "Dd9w_WNITzmH",
        "outputId": "e3e1a90c-75eb-4284-b18e-bf8db14120aa"
      },
      "outputs": [
        {
          "data": {
            "text/html": [
              "<div>\n",
              "<style scoped>\n",
              "    .dataframe tbody tr th:only-of-type {\n",
              "        vertical-align: middle;\n",
              "    }\n",
              "\n",
              "    .dataframe tbody tr th {\n",
              "        vertical-align: top;\n",
              "    }\n",
              "\n",
              "    .dataframe thead th {\n",
              "        text-align: right;\n",
              "    }\n",
              "</style>\n",
              "<table border=\"1\" class=\"dataframe\">\n",
              "  <thead>\n",
              "    <tr style=\"text-align: right;\">\n",
              "      <th></th>\n",
              "      <th>Unnamed: 0.1</th>\n",
              "      <th>Unnamed: 0</th>\n",
              "      <th>Principal</th>\n",
              "      <th>terms</th>\n",
              "      <th>age</th>\n",
              "    </tr>\n",
              "  </thead>\n",
              "  <tbody>\n",
              "    <tr>\n",
              "      <th>count</th>\n",
              "      <td>400.000000</td>\n",
              "      <td>400.000000</td>\n",
              "      <td>400.00000</td>\n",
              "      <td>400.000000</td>\n",
              "      <td>400.000000</td>\n",
              "    </tr>\n",
              "    <tr>\n",
              "      <th>mean</th>\n",
              "      <td>199.500000</td>\n",
              "      <td>199.500000</td>\n",
              "      <td>939.75000</td>\n",
              "      <td>22.550000</td>\n",
              "      <td>31.060000</td>\n",
              "    </tr>\n",
              "    <tr>\n",
              "      <th>std</th>\n",
              "      <td>115.614301</td>\n",
              "      <td>115.614301</td>\n",
              "      <td>120.33761</td>\n",
              "      <td>8.100094</td>\n",
              "      <td>6.033441</td>\n",
              "    </tr>\n",
              "    <tr>\n",
              "      <th>min</th>\n",
              "      <td>0.000000</td>\n",
              "      <td>0.000000</td>\n",
              "      <td>300.00000</td>\n",
              "      <td>7.000000</td>\n",
              "      <td>18.000000</td>\n",
              "    </tr>\n",
              "    <tr>\n",
              "      <th>25%</th>\n",
              "      <td>99.750000</td>\n",
              "      <td>99.750000</td>\n",
              "      <td>800.00000</td>\n",
              "      <td>15.000000</td>\n",
              "      <td>27.000000</td>\n",
              "    </tr>\n",
              "    <tr>\n",
              "      <th>50%</th>\n",
              "      <td>199.500000</td>\n",
              "      <td>199.500000</td>\n",
              "      <td>1000.00000</td>\n",
              "      <td>30.000000</td>\n",
              "      <td>30.000000</td>\n",
              "    </tr>\n",
              "    <tr>\n",
              "      <th>75%</th>\n",
              "      <td>299.250000</td>\n",
              "      <td>299.250000</td>\n",
              "      <td>1000.00000</td>\n",
              "      <td>30.000000</td>\n",
              "      <td>35.000000</td>\n",
              "    </tr>\n",
              "    <tr>\n",
              "      <th>max</th>\n",
              "      <td>399.000000</td>\n",
              "      <td>399.000000</td>\n",
              "      <td>1000.00000</td>\n",
              "      <td>30.000000</td>\n",
              "      <td>51.000000</td>\n",
              "    </tr>\n",
              "  </tbody>\n",
              "</table>\n",
              "</div>"
            ],
            "text/plain": [
              "       Unnamed: 0.1  Unnamed: 0   Principal       terms         age\n",
              "count    400.000000  400.000000   400.00000  400.000000  400.000000\n",
              "mean     199.500000  199.500000   939.75000   22.550000   31.060000\n",
              "std      115.614301  115.614301   120.33761    8.100094    6.033441\n",
              "min        0.000000    0.000000   300.00000    7.000000   18.000000\n",
              "25%       99.750000   99.750000   800.00000   15.000000   27.000000\n",
              "50%      199.500000  199.500000  1000.00000   30.000000   30.000000\n",
              "75%      299.250000  299.250000  1000.00000   30.000000   35.000000\n",
              "max      399.000000  399.000000  1000.00000   30.000000   51.000000"
            ]
          },
          "execution_count": 3,
          "metadata": {},
          "output_type": "execute_result"
        }
      ],
      "source": [
        "# Let's check the summary statistics for numeric features\n",
        "df.describe()"
      ]
    },
    {
      "cell_type": "code",
      "execution_count": 4,
      "metadata": {},
      "outputs": [
        {
          "data": {
            "text/html": [
              "<div>\n",
              "<style scoped>\n",
              "    .dataframe tbody tr th:only-of-type {\n",
              "        vertical-align: middle;\n",
              "    }\n",
              "\n",
              "    .dataframe tbody tr th {\n",
              "        vertical-align: top;\n",
              "    }\n",
              "\n",
              "    .dataframe thead th {\n",
              "        text-align: right;\n",
              "    }\n",
              "</style>\n",
              "<table border=\"1\" class=\"dataframe\">\n",
              "  <thead>\n",
              "    <tr style=\"text-align: right;\">\n",
              "      <th></th>\n",
              "      <th>Principal</th>\n",
              "      <th>terms</th>\n",
              "      <th>age</th>\n",
              "    </tr>\n",
              "  </thead>\n",
              "  <tbody>\n",
              "    <tr>\n",
              "      <th>median</th>\n",
              "      <td>1000.000000</td>\n",
              "      <td>30.000000</td>\n",
              "      <td>30.000000</td>\n",
              "    </tr>\n",
              "    <tr>\n",
              "      <th>var</th>\n",
              "      <td>14481.140351</td>\n",
              "      <td>65.611529</td>\n",
              "      <td>36.402406</td>\n",
              "    </tr>\n",
              "    <tr>\n",
              "      <th>std</th>\n",
              "      <td>120.337610</td>\n",
              "      <td>8.100094</td>\n",
              "      <td>6.033441</td>\n",
              "    </tr>\n",
              "  </tbody>\n",
              "</table>\n",
              "</div>"
            ],
            "text/plain": [
              "           Principal      terms        age\n",
              "median   1000.000000  30.000000  30.000000\n",
              "var     14481.140351  65.611529  36.402406\n",
              "std       120.337610   8.100094   6.033441"
            ]
          },
          "execution_count": 4,
          "metadata": {},
          "output_type": "execute_result"
        }
      ],
      "source": [
        "# Let's check the skewness and spread of the variables\n",
        "df.drop(\n",
        "    [\n",
        "        \"Unnamed: 0.1\",\n",
        "        \"Unnamed: 0\",\n",
        "        \"loan_status\",\n",
        "        \"effective_date\",\n",
        "        \"due_date\",\n",
        "        \"education\",\n",
        "        \"Gender\",\n",
        "    ],\n",
        "    axis=1,\n",
        ").agg([np.median, np.var, np.std])"
      ]
    },
    {
      "cell_type": "code",
      "execution_count": 5,
      "metadata": {
        "colab": {
          "base_uri": "https://localhost:8080/",
          "height": 175
        },
        "id": "uR9M1o6rRRmO",
        "outputId": "8d75afc1-59de-4e7c-9524-90bab04cb8e7"
      },
      "outputs": [
        {
          "data": {
            "text/html": [
              "<div>\n",
              "<style scoped>\n",
              "    .dataframe tbody tr th:only-of-type {\n",
              "        vertical-align: middle;\n",
              "    }\n",
              "\n",
              "    .dataframe tbody tr th {\n",
              "        vertical-align: top;\n",
              "    }\n",
              "\n",
              "    .dataframe thead th {\n",
              "        text-align: right;\n",
              "    }\n",
              "</style>\n",
              "<table border=\"1\" class=\"dataframe\">\n",
              "  <thead>\n",
              "    <tr style=\"text-align: right;\">\n",
              "      <th></th>\n",
              "      <th>loan_status</th>\n",
              "      <th>effective_date</th>\n",
              "      <th>due_date</th>\n",
              "      <th>education</th>\n",
              "      <th>Gender</th>\n",
              "    </tr>\n",
              "  </thead>\n",
              "  <tbody>\n",
              "    <tr>\n",
              "      <th>count</th>\n",
              "      <td>400</td>\n",
              "      <td>400</td>\n",
              "      <td>400</td>\n",
              "      <td>400</td>\n",
              "      <td>400</td>\n",
              "    </tr>\n",
              "    <tr>\n",
              "      <th>unique</th>\n",
              "      <td>2</td>\n",
              "      <td>7</td>\n",
              "      <td>24</td>\n",
              "      <td>4</td>\n",
              "      <td>2</td>\n",
              "    </tr>\n",
              "    <tr>\n",
              "      <th>top</th>\n",
              "      <td>PAIDOFF</td>\n",
              "      <td>9/11/2016</td>\n",
              "      <td>10/10/2016</td>\n",
              "      <td>High School or Below</td>\n",
              "      <td>male</td>\n",
              "    </tr>\n",
              "    <tr>\n",
              "      <th>freq</th>\n",
              "      <td>300</td>\n",
              "      <td>190</td>\n",
              "      <td>98</td>\n",
              "      <td>172</td>\n",
              "      <td>337</td>\n",
              "    </tr>\n",
              "  </tbody>\n",
              "</table>\n",
              "</div>"
            ],
            "text/plain": [
              "       loan_status effective_date    due_date             education Gender\n",
              "count          400            400         400                   400    400\n",
              "unique           2              7          24                     4      2\n",
              "top        PAIDOFF      9/11/2016  10/10/2016  High School or Below   male\n",
              "freq           300            190          98                   172    337"
            ]
          },
          "execution_count": 5,
          "metadata": {},
          "output_type": "execute_result"
        }
      ],
      "source": [
        "# Let's check the summary statistics for categorical features\n",
        "df.describe(include=[\"O\"])"
      ]
    },
    {
      "cell_type": "code",
      "execution_count": 6,
      "metadata": {},
      "outputs": [
        {
          "data": {
            "text/plain": [
              "Unnamed: 0.1      400\n",
              "Unnamed: 0        400\n",
              "loan_status         2\n",
              "Principal           6\n",
              "terms               3\n",
              "effective_date      7\n",
              "due_date           24\n",
              "age                32\n",
              "education           4\n",
              "Gender              2\n",
              "dtype: int64"
            ]
          },
          "execution_count": 6,
          "metadata": {},
          "output_type": "execute_result"
        }
      ],
      "source": [
        "# Check the variety of all data features\n",
        "df.nunique()"
      ]
    },
    {
      "cell_type": "code",
      "execution_count": 7,
      "metadata": {
        "colab": {
          "base_uri": "https://localhost:8080/"
        },
        "id": "mtzYEXozU9P8",
        "outputId": "de1741cc-ab0b-4d90-ef62-8d70b3371f01"
      },
      "outputs": [
        {
          "data": {
            "text/plain": [
              "Unnamed: 0.1      0\n",
              "Unnamed: 0        0\n",
              "loan_status       0\n",
              "Principal         0\n",
              "terms             0\n",
              "effective_date    0\n",
              "due_date          0\n",
              "age               0\n",
              "education         0\n",
              "Gender            0\n",
              "dtype: int64"
            ]
          },
          "execution_count": 7,
          "metadata": {},
          "output_type": "execute_result"
        }
      ],
      "source": [
        "# Let's look for non-existing values!\n",
        "df.isnull().sum()"
      ]
    },
    {
      "cell_type": "code",
      "execution_count": 8,
      "metadata": {
        "colab": {
          "base_uri": "https://localhost:8080/"
        },
        "id": "5Pzbb-YERy4t",
        "outputId": "669b30d5-416f-44e0-a75d-a3a37f098b44"
      },
      "outputs": [
        {
          "name": "stdout",
          "output_type": "stream",
          "text": [
            "<class 'pandas.core.frame.DataFrame'>\n",
            "RangeIndex: 400 entries, 0 to 399\n",
            "Data columns (total 10 columns):\n",
            " #   Column          Non-Null Count  Dtype \n",
            "---  ------          --------------  ----- \n",
            " 0   Unnamed: 0.1    400 non-null    int64 \n",
            " 1   Unnamed: 0      400 non-null    int64 \n",
            " 2   loan_status     400 non-null    object\n",
            " 3   Principal       400 non-null    int64 \n",
            " 4   terms           400 non-null    int64 \n",
            " 5   effective_date  400 non-null    object\n",
            " 6   due_date        400 non-null    object\n",
            " 7   age             400 non-null    int64 \n",
            " 8   education       400 non-null    object\n",
            " 9   Gender          400 non-null    object\n",
            "dtypes: int64(5), object(5)\n",
            "memory usage: 31.4+ KB\n"
          ]
        }
      ],
      "source": [
        "# Check data types and some more info\n",
        "df.info()"
      ]
    },
    {
      "attachments": {},
      "cell_type": "markdown",
      "metadata": {
        "id": "3f8zaU0qUcOj"
      },
      "source": [
        "***It has been found that some of the features are not relevant or they are not in the correct data type***"
      ]
    },
    {
      "cell_type": "code",
      "execution_count": 9,
      "metadata": {},
      "outputs": [],
      "source": [
        "# Eliminate the unnecessary features\n",
        "df = df.drop([\"Unnamed: 0\", \"Unnamed: 0.1\"], axis=1)"
      ]
    },
    {
      "cell_type": "code",
      "execution_count": 10,
      "metadata": {
        "colab": {
          "base_uri": "https://localhost:8080/",
          "height": 206
        },
        "id": "5mYHYsajUgSJ",
        "outputId": "f08ab884-e6c8-4043-fd83-ad4dc4313aad"
      },
      "outputs": [
        {
          "name": "stdout",
          "output_type": "stream",
          "text": [
            "<class 'pandas.core.frame.DataFrame'>\n",
            "RangeIndex: 400 entries, 0 to 399\n",
            "Data columns (total 8 columns):\n",
            " #   Column          Non-Null Count  Dtype         \n",
            "---  ------          --------------  -----         \n",
            " 0   loan_status     400 non-null    object        \n",
            " 1   Principal       400 non-null    int64         \n",
            " 2   terms           400 non-null    int64         \n",
            " 3   effective_date  400 non-null    datetime64[ns]\n",
            " 4   due_date        400 non-null    datetime64[ns]\n",
            " 5   age             400 non-null    int64         \n",
            " 6   education       400 non-null    object        \n",
            " 7   Gender          400 non-null    object        \n",
            "dtypes: datetime64[ns](2), int64(3), object(3)\n",
            "memory usage: 25.1+ KB\n"
          ]
        }
      ],
      "source": [
        "# Convert the data type from object to datetime\n",
        "df[\"due_date\"] = pd.to_datetime(df[\"due_date\"])\n",
        "df[\"effective_date\"] = pd.to_datetime(df[\"effective_date\"])\n",
        "df.info()"
      ]
    },
    {
      "cell_type": "code",
      "execution_count": 11,
      "metadata": {
        "colab": {
          "base_uri": "https://localhost:8080/",
          "height": 716
        },
        "id": "7W9-8p-fg-DV",
        "outputId": "d3a39ce6-9762-494c-b995-c3c812d8efef"
      },
      "outputs": [
        {
          "name": "stderr",
          "output_type": "stream",
          "text": [
            "C:\\Users\\util\\AppData\\Local\\Temp\\ipykernel_2000\\3087639345.py:4: FutureWarning: The default value of numeric_only in DataFrame.corr is deprecated. In a future version, it will default to False. Select only valid columns or specify the value of numeric_only to silence this warning.\n",
            "  sns.heatmap(df.corr(), vmax=1.0, annot=True, cmap=\"Greens\")\n"
          ]
        },
        {
          "data": {
            "image/png": "[encoded data removed]",
            "text/plain": [
              "<Figure size 1500x1200 with 2 Axes>"
            ]
          },
          "metadata": {},
          "output_type": "display_data"
        }
      ],
      "source": [
        "# HeatMap to check the potential or existing correlations before treating the data\n",
        "plt.figure(figsize=(15, 12))\n",
        "plt.title(\"Correlation of Features for Train Set\")\n",
        "sns.heatmap(df.corr(), vmax=1.0, annot=True, cmap=\"Greens\")\n",
        "plt.show()"
      ]
    },
    {
      "attachments": {},
      "cell_type": "markdown",
      "metadata": {
        "id": "mBni4K17j73j"
      },
      "source": [
        "## Let's analyze and visualize the different features depending on whether or not customers repay the loan on time"
      ]
    },
    {
      "attachments": {},
      "cell_type": "markdown",
      "metadata": {
        "id": "nVAgFl2uqfGg"
      },
      "source": [
        "***This is what we know from a first analysis:*** \\\n",
        "***We know that there more man then women.*** \\\n",
        "***We know from the summary statistics that the minimum principal amount was $300 and the maximum was $1000, and looking at the unique values we know that only 6 different principal amounts were requested.*** \\\n",
        "***We know that the minimum age registered was 19 years old and the maximum age was 51 years old, and looking at the unique values we know that 32 different ages were registered.***\n",
        "\n",
        "***Let's go a little deeper with this knowledge.***"
      ]
    },
    {
      "attachments": {},
      "cell_type": "markdown",
      "metadata": {
        "id": "m2a6ZOzvjb_G"
      },
      "source": [
        "***Of the 400 people, we can see that 300 paid the loans on time and the remaining 100 went into collection by missing the deadline, the classes are unbalanced.***"
      ]
    },
    {
      "cell_type": "code",
      "execution_count": 12,
      "metadata": {
        "colab": {
          "base_uri": "https://localhost:8080/"
        },
        "id": "T5s9oMH5U_t0",
        "outputId": "4d705533-f80b-43d5-ee4b-bb33e1f94657"
      },
      "outputs": [
        {
          "data": {
            "text/plain": [
              "PAIDOFF       300\n",
              "COLLECTION    100\n",
              "Name: loan_status, dtype: int64"
            ]
          },
          "execution_count": 12,
          "metadata": {},
          "output_type": "execute_result"
        }
      ],
      "source": [
        "df[\"loan_status\"].value_counts()"
      ]
    },
    {
      "attachments": {},
      "cell_type": "markdown",
      "metadata": {
        "id": "FxGwl-mRrU5C"
      },
      "source": [
        "***Of the 400 people, we can see that 337 (84.25%) are male and 63 (15.75%) are female.***"
      ]
    },
    {
      "cell_type": "code",
      "execution_count": 13,
      "metadata": {
        "colab": {
          "base_uri": "https://localhost:8080/"
        },
        "id": "s-BvpPq1ljOp",
        "outputId": "b367dafb-94e7-4da4-bd43-c9847e9361e0"
      },
      "outputs": [
        {
          "data": {
            "text/plain": [
              "male      337\n",
              "female     63\n",
              "Name: Gender, dtype: int64"
            ]
          },
          "execution_count": 13,
          "metadata": {},
          "output_type": "execute_result"
        }
      ],
      "source": [
        "df[\"Gender\"].value_counts()"
      ]
    },
    {
      "cell_type": "code",
      "execution_count": 14,
      "metadata": {},
      "outputs": [
        {
          "data": {
            "text/plain": [
              "male      84.25\n",
              "female    15.75\n",
              "Name: Gender, dtype: float64"
            ]
          },
          "execution_count": 14,
          "metadata": {},
          "output_type": "execute_result"
        }
      ],
      "source": [
        "df[\"Gender\"].value_counts(normalize=True) * 100"
      ]
    },
    {
      "attachments": {},
      "cell_type": "markdown",
      "metadata": {},
      "source": [
        "***Of these 63 women, 84.13% paid on time and the other 15.87% did not pay on time. Of the 337 men, 73.29% paid on time and 26.71% did not pay on time.***"
      ]
    },
    {
      "cell_type": "code",
      "execution_count": 15,
      "metadata": {
        "colab": {
          "base_uri": "https://localhost:8080/"
        },
        "id": "QHxRU8D8f9QZ",
        "outputId": "f721fa79-22ff-413a-cd72-0bf545d8559a"
      },
      "outputs": [
        {
          "data": {
            "text/html": [
              "<div>\n",
              "<style scoped>\n",
              "    .dataframe tbody tr th:only-of-type {\n",
              "        vertical-align: middle;\n",
              "    }\n",
              "\n",
              "    .dataframe tbody tr th {\n",
              "        vertical-align: top;\n",
              "    }\n",
              "\n",
              "    .dataframe thead th {\n",
              "        text-align: right;\n",
              "    }\n",
              "</style>\n",
              "<table border=\"1\" class=\"dataframe\">\n",
              "  <thead>\n",
              "    <tr style=\"text-align: right;\">\n",
              "      <th>loan_status</th>\n",
              "      <th>COLLECTION</th>\n",
              "      <th>PAIDOFF</th>\n",
              "    </tr>\n",
              "    <tr>\n",
              "      <th>Gender</th>\n",
              "      <th></th>\n",
              "      <th></th>\n",
              "    </tr>\n",
              "  </thead>\n",
              "  <tbody>\n",
              "    <tr>\n",
              "      <th>female</th>\n",
              "      <td>15.873016</td>\n",
              "      <td>84.126984</td>\n",
              "    </tr>\n",
              "    <tr>\n",
              "      <th>male</th>\n",
              "      <td>26.706231</td>\n",
              "      <td>73.293769</td>\n",
              "    </tr>\n",
              "  </tbody>\n",
              "</table>\n",
              "</div>"
            ],
            "text/plain": [
              "loan_status  COLLECTION    PAIDOFF\n",
              "Gender                            \n",
              "female        15.873016  84.126984\n",
              "male          26.706231  73.293769"
            ]
          },
          "execution_count": 15,
          "metadata": {},
          "output_type": "execute_result"
        }
      ],
      "source": [
        "groupby_gender = (\n",
        "    df.groupby([\"Gender\"])[\"loan_status\"].value_counts(normalize=True) * 100\n",
        ")\n",
        "groupby_gender.unstack(level=-1)"
      ]
    },
    {
      "attachments": {},
      "cell_type": "markdown",
      "metadata": {
        "id": "KOoj-nuLr2mF"
      },
      "source": [
        "***Let us then look at the number of people who, depending on gender and age, pay or do not pay the loans and at what ages do we see that there are more loan requests.***  \\\n",
        "***In this bar chart we can visually confirm that it is more usual for the loan to be in the name of a man, and there is a tendency for people to choose/need higher principal values than lower ones.*** \\\n",
        "***We can observe that there are more people asking for loans from the age of 25, we can associate it with the fact that this is when most people start to have their independence and their life plans come true, but there is no evidences of correlation that proves this fact.***"
      ]
    },
    {
      "cell_type": "code",
      "execution_count": 16,
      "metadata": {
        "colab": {
          "base_uri": "https://localhost:8080/",
          "height": 225
        },
        "id": "ESTNNWCUXWx8",
        "outputId": "cd70cfa2-176a-4cde-ed4f-568a91669026"
      },
      "outputs": [
        {
          "data": {
            "image/png": "[encoded data removed]",
            "text/plain": [
              "<Figure size 600x300 with 2 Axes>"
            ]
          },
          "metadata": {},
          "output_type": "display_data"
        }
      ],
      "source": [
        "# Plot the bar chart to visualize loan status trow ages split by gender\n",
        "bins = np.linspace(df.age.min(), df.age.max(), 33)\n",
        "g = sns.FacetGrid(df, col=\"Gender\", hue=\"loan_status\", palette=\"Set3\", col_wrap=2)\n",
        "g.map(plt.hist, \"age\", bins=bins, ec=\"k\")\n",
        "\n",
        "g.axes[1].legend()\n",
        "plt.show()"
      ]
    },
    {
      "attachments": {},
      "cell_type": "markdown",
      "metadata": {
        "id": "CIWCln6toRlv"
      },
      "source": [
        "***Let us then look at the number of people who, depending on their level of education and age, pay or not pay the loans and at what age there are more requests.***"
      ]
    },
    {
      "cell_type": "code",
      "execution_count": 17,
      "metadata": {
        "colab": {
          "base_uri": "https://localhost:8080/"
        },
        "id": "Mn0mMPlabAPY",
        "outputId": "7bc4d9d1-6f8b-4da5-d3cc-8cb98698492f"
      },
      "outputs": [
        {
          "data": {
            "text/html": [
              "<div>\n",
              "<style scoped>\n",
              "    .dataframe tbody tr th:only-of-type {\n",
              "        vertical-align: middle;\n",
              "    }\n",
              "\n",
              "    .dataframe tbody tr th {\n",
              "        vertical-align: top;\n",
              "    }\n",
              "\n",
              "    .dataframe thead th {\n",
              "        text-align: right;\n",
              "    }\n",
              "</style>\n",
              "<table border=\"1\" class=\"dataframe\">\n",
              "  <thead>\n",
              "    <tr style=\"text-align: right;\">\n",
              "      <th>education</th>\n",
              "      <th>Bechalor</th>\n",
              "      <th>High School or Below</th>\n",
              "      <th>Master or Above</th>\n",
              "      <th>college</th>\n",
              "    </tr>\n",
              "    <tr>\n",
              "      <th>loan_status</th>\n",
              "      <th></th>\n",
              "      <th></th>\n",
              "      <th></th>\n",
              "      <th></th>\n",
              "    </tr>\n",
              "  </thead>\n",
              "  <tbody>\n",
              "    <tr>\n",
              "      <th>COLLECTION</th>\n",
              "      <td>11.000000</td>\n",
              "      <td>49.0</td>\n",
              "      <td>1.0</td>\n",
              "      <td>39.000000</td>\n",
              "    </tr>\n",
              "    <tr>\n",
              "      <th>PAIDOFF</th>\n",
              "      <td>13.666667</td>\n",
              "      <td>41.0</td>\n",
              "      <td>1.0</td>\n",
              "      <td>44.333333</td>\n",
              "    </tr>\n",
              "  </tbody>\n",
              "</table>\n",
              "</div>"
            ],
            "text/plain": [
              "education     Bechalor  High School or Below  Master or Above    college\n",
              "loan_status                                                             \n",
              "COLLECTION   11.000000                  49.0              1.0  39.000000\n",
              "PAIDOFF      13.666667                  41.0              1.0  44.333333"
            ]
          },
          "execution_count": 17,
          "metadata": {},
          "output_type": "execute_result"
        }
      ],
      "source": [
        "# group by proportions of the education feature\n",
        "group_by_edu = df.groupby(\"loan_status\")[\"education\"].value_counts(normalize=True) * 100\n",
        "group_by_edu.unstack(level=-1)"
      ]
    },
    {
      "attachments": {},
      "cell_type": "markdown",
      "metadata": {
        "id": "DSZQXiOgX_70"
      },
      "source": [
        "***With the naked eye we see some differences, but we cannot rely on vision in such similar things, but we evaluated the situation numerically and know the proportions, verifying if it was worth normalizing these data to draw more accurate conclusions with the model.***"
      ]
    },
    {
      "cell_type": "code",
      "execution_count": 18,
      "metadata": {
        "colab": {
          "base_uri": "https://localhost:8080/",
          "height": 441
        },
        "id": "hFnWNRgRTBnM",
        "outputId": "d82c4c12-1e49-467d-f02a-de1190c3f071"
      },
      "outputs": [
        {
          "data": {
            "image/png": "[encoded data removed]",
            "text/plain": [
              "<Figure size 600x600 with 4 Axes>"
            ]
          },
          "metadata": {},
          "output_type": "display_data"
        }
      ],
      "source": [
        "# Plot the bar chart to visualize loan status trow ages split by education\n",
        "bins = np.linspace(df.age.min(), df.age.max(), 20)\n",
        "g = sns.FacetGrid(df, col=\"education\", hue=\"loan_status\", palette=\"Set3\", col_wrap=2)\n",
        "g.map(plt.hist, \"age\", bins=bins, ec=\"k\")\n",
        "\n",
        "g.axes[1].legend()\n",
        "plt.show()"
      ]
    },
    {
      "attachments": {},
      "cell_type": "markdown",
      "metadata": {
        "id": "HAWUD4FXRWZ5"
      },
      "source": [
        "### HERE\n",
        "***Through these observations below, we have already been able to observe a more concise correlation and that people who usually ask for loans with shorter terms and lower amounts tend to pay more on time.***"
      ]
    },
    {
      "attachments": {},
      "cell_type": "markdown",
      "metadata": {
        "id": "aHblQ7HwQgX8"
      },
      "source": [
        "***So let's look at the number of people who, depending on the loan they take out and the term of the same, whether or not they repay the loans and what are the loan terms and amounts in which it is verified that there are more people to pay or to enter into collection.***"
      ]
    },
    {
      "cell_type": "code",
      "execution_count": 19,
      "metadata": {
        "colab": {
          "base_uri": "https://localhost:8080/",
          "height": 112
        },
        "id": "FsuIDFdsO8-W",
        "outputId": "48899261-23b6-4ae4-ebb9-ec6205f3b8c9"
      },
      "outputs": [
        {
          "data": {
            "text/html": [
              "<div>\n",
              "<style scoped>\n",
              "    .dataframe tbody tr th:only-of-type {\n",
              "        vertical-align: middle;\n",
              "    }\n",
              "\n",
              "    .dataframe tbody tr th {\n",
              "        vertical-align: top;\n",
              "    }\n",
              "\n",
              "    .dataframe thead th {\n",
              "        text-align: right;\n",
              "    }\n",
              "</style>\n",
              "<table border=\"1\" class=\"dataframe\">\n",
              "  <thead>\n",
              "    <tr style=\"text-align: right;\">\n",
              "      <th></th>\n",
              "      <th>loan_status</th>\n",
              "      <th>Principal</th>\n",
              "    </tr>\n",
              "  </thead>\n",
              "  <tbody>\n",
              "    <tr>\n",
              "      <th>0</th>\n",
              "      <td>COLLECTION</td>\n",
              "      <td>954.0</td>\n",
              "    </tr>\n",
              "    <tr>\n",
              "      <th>1</th>\n",
              "      <td>PAIDOFF</td>\n",
              "      <td>935.0</td>\n",
              "    </tr>\n",
              "  </tbody>\n",
              "</table>\n",
              "</div>"
            ],
            "text/plain": [
              "  loan_status  Principal\n",
              "0  COLLECTION      954.0\n",
              "1     PAIDOFF      935.0"
            ]
          },
          "execution_count": 19,
          "metadata": {},
          "output_type": "execute_result"
        }
      ],
      "source": [
        "df[[\"loan_status\", \"Principal\"]].groupby([\"loan_status\"], as_index=False).mean()"
      ]
    },
    {
      "cell_type": "code",
      "execution_count": 20,
      "metadata": {
        "colab": {
          "base_uri": "https://localhost:8080/",
          "height": 112
        },
        "id": "6WQldHYEQDE2",
        "outputId": "642e41a9-f478-41b7-ef1e-3201e636de54"
      },
      "outputs": [
        {
          "data": {
            "text/html": [
              "<div>\n",
              "<style scoped>\n",
              "    .dataframe tbody tr th:only-of-type {\n",
              "        vertical-align: middle;\n",
              "    }\n",
              "\n",
              "    .dataframe tbody tr th {\n",
              "        vertical-align: top;\n",
              "    }\n",
              "\n",
              "    .dataframe thead th {\n",
              "        text-align: right;\n",
              "    }\n",
              "</style>\n",
              "<table border=\"1\" class=\"dataframe\">\n",
              "  <thead>\n",
              "    <tr style=\"text-align: right;\">\n",
              "      <th></th>\n",
              "      <th>loan_status</th>\n",
              "      <th>terms</th>\n",
              "    </tr>\n",
              "  </thead>\n",
              "  <tbody>\n",
              "    <tr>\n",
              "      <th>0</th>\n",
              "      <td>COLLECTION</td>\n",
              "      <td>23.850000</td>\n",
              "    </tr>\n",
              "    <tr>\n",
              "      <th>1</th>\n",
              "      <td>PAIDOFF</td>\n",
              "      <td>22.116667</td>\n",
              "    </tr>\n",
              "  </tbody>\n",
              "</table>\n",
              "</div>"
            ],
            "text/plain": [
              "  loan_status      terms\n",
              "0  COLLECTION  23.850000\n",
              "1     PAIDOFF  22.116667"
            ]
          },
          "execution_count": 20,
          "metadata": {},
          "output_type": "execute_result"
        }
      ],
      "source": [
        "df[[\"loan_status\", \"terms\"]].groupby([\"loan_status\"], as_index=False).mean()"
      ]
    },
    {
      "cell_type": "code",
      "execution_count": 21,
      "metadata": {
        "colab": {
          "base_uri": "https://localhost:8080/",
          "height": 143
        },
        "id": "-b1t6HH4P9mM",
        "outputId": "5b136cce-0d5b-4fc3-fb3e-17a7bed51fd1"
      },
      "outputs": [
        {
          "data": {
            "text/html": [
              "<div>\n",
              "<style scoped>\n",
              "    .dataframe tbody tr th:only-of-type {\n",
              "        vertical-align: middle;\n",
              "    }\n",
              "\n",
              "    .dataframe tbody tr th {\n",
              "        vertical-align: top;\n",
              "    }\n",
              "\n",
              "    .dataframe thead th {\n",
              "        text-align: right;\n",
              "    }\n",
              "</style>\n",
              "<table border=\"1\" class=\"dataframe\">\n",
              "  <thead>\n",
              "    <tr style=\"text-align: right;\">\n",
              "      <th></th>\n",
              "      <th>terms</th>\n",
              "      <th>Principal</th>\n",
              "    </tr>\n",
              "  </thead>\n",
              "  <tbody>\n",
              "    <tr>\n",
              "      <th>0</th>\n",
              "      <td>7</td>\n",
              "      <td>750.000000</td>\n",
              "    </tr>\n",
              "    <tr>\n",
              "      <th>1</th>\n",
              "      <td>15</td>\n",
              "      <td>893.452381</td>\n",
              "    </tr>\n",
              "    <tr>\n",
              "      <th>2</th>\n",
              "      <td>30</td>\n",
              "      <td>994.339623</td>\n",
              "    </tr>\n",
              "  </tbody>\n",
              "</table>\n",
              "</div>"
            ],
            "text/plain": [
              "   terms   Principal\n",
              "0      7  750.000000\n",
              "1     15  893.452381\n",
              "2     30  994.339623"
            ]
          },
          "execution_count": 21,
          "metadata": {},
          "output_type": "execute_result"
        }
      ],
      "source": [
        "df[[\"terms\", \"Principal\"]].groupby([\"terms\"], as_index=False).mean()"
      ]
    },
    {
      "cell_type": "code",
      "execution_count": 22,
      "metadata": {
        "colab": {
          "base_uri": "https://localhost:8080/",
          "height": 112
        },
        "id": "FsuIDFdsO8-W",
        "outputId": "48899261-23b6-4ae4-ebb9-ec6205f3b8c9"
      },
      "outputs": [
        {
          "data": {
            "text/html": [
              "<div>\n",
              "<style scoped>\n",
              "    .dataframe tbody tr th:only-of-type {\n",
              "        vertical-align: middle;\n",
              "    }\n",
              "\n",
              "    .dataframe tbody tr th {\n",
              "        vertical-align: top;\n",
              "    }\n",
              "\n",
              "    .dataframe thead th {\n",
              "        text-align: right;\n",
              "    }\n",
              "</style>\n",
              "<table border=\"1\" class=\"dataframe\">\n",
              "  <thead>\n",
              "    <tr style=\"text-align: right;\">\n",
              "      <th>Principal</th>\n",
              "      <th>300</th>\n",
              "      <th>500</th>\n",
              "      <th>700</th>\n",
              "      <th>800</th>\n",
              "      <th>900</th>\n",
              "      <th>1000</th>\n",
              "      <th>All</th>\n",
              "    </tr>\n",
              "    <tr>\n",
              "      <th>loan_status</th>\n",
              "      <th></th>\n",
              "      <th></th>\n",
              "      <th></th>\n",
              "      <th></th>\n",
              "      <th></th>\n",
              "      <th></th>\n",
              "      <th></th>\n",
              "    </tr>\n",
              "  </thead>\n",
              "  <tbody>\n",
              "    <tr>\n",
              "      <th>COLLECTION</th>\n",
              "      <td>0</td>\n",
              "      <td>0</td>\n",
              "      <td>0</td>\n",
              "      <td>15.652174</td>\n",
              "      <td>0</td>\n",
              "      <td>26.298701</td>\n",
              "      <td>23.850000</td>\n",
              "    </tr>\n",
              "    <tr>\n",
              "      <th>PAIDOFF</th>\n",
              "      <td>7</td>\n",
              "      <td>11</td>\n",
              "      <td>15</td>\n",
              "      <td>15.971014</td>\n",
              "      <td>11</td>\n",
              "      <td>24.690909</td>\n",
              "      <td>22.116667</td>\n",
              "    </tr>\n",
              "    <tr>\n",
              "      <th>All</th>\n",
              "      <td>7</td>\n",
              "      <td>11</td>\n",
              "      <td>15</td>\n",
              "      <td>15.891304</td>\n",
              "      <td>11</td>\n",
              "      <td>25.107744</td>\n",
              "      <td>22.550000</td>\n",
              "    </tr>\n",
              "  </tbody>\n",
              "</table>\n",
              "</div>"
            ],
            "text/plain": [
              "Principal    300  500  700        800  900       1000        All\n",
              "loan_status                                                     \n",
              "COLLECTION     0    0    0  15.652174    0  26.298701  23.850000\n",
              "PAIDOFF        7   11   15  15.971014   11  24.690909  22.116667\n",
              "All            7   11   15  15.891304   11  25.107744  22.550000"
            ]
          },
          "execution_count": 22,
          "metadata": {},
          "output_type": "execute_result"
        }
      ],
      "source": [
        "df.pivot_table(\n",
        "    values=\"terms\", index=\"loan_status\", columns=\"Principal\", fill_value=0, margins=True\n",
        ")"
      ]
    },
    {
      "attachments": {},
      "cell_type": "markdown",
      "metadata": {
        "id": "R1l1YpHkkh9W"
      },
      "source": [
        "***In this bar chart we can visually confirm, again, that it is more usual for the loan to be in the name of a man, and there is a tendency for people to choose/need higher principal values than lower ones.***"
      ]
    },
    {
      "cell_type": "code",
      "execution_count": 23,
      "metadata": {
        "colab": {
          "base_uri": "https://localhost:8080/",
          "height": 225
        },
        "id": "5Kb8AXPuWOXf",
        "outputId": "f269aa3b-e609-4c7b-a01e-8c5ff9cc549a"
      },
      "outputs": [
        {
          "data": {
            "image/png": "[encoded data removed]",
            "text/plain": [
              "<Figure size 600x300 with 2 Axes>"
            ]
          },
          "metadata": {},
          "output_type": "display_data"
        }
      ],
      "source": [
        "# Plot the bar chart to visualize principal values by gender\n",
        "sns.set(style=\"darkgrid\")\n",
        "\n",
        "bins = np.linspace(df.Principal.min(), df.Principal.max(), 7)\n",
        "\n",
        "g = sns.FacetGrid(df, col=\"Gender\", hue=\"loan_status\", palette=\"Set3\", col_wrap=2)\n",
        "g.map(plt.hist, \"Principal\", bins=bins, ec=\"k\")\n",
        "\n",
        "g.axes[1].legend()\n",
        "plt.show()"
      ]
    },
    {
      "cell_type": "markdown",
      "metadata": {
        "id": "guesJq9FoaXM"
      },
      "source": [
        "***Olhemos então para a quantidade de pessoas que consoante o dia da semana em que fazem o pedido e a idade, se pagam ou não pagam os empréstimos e quais os dias em que mais se verifica que há mais pedidos***"
      ]
    },
    {
      "cell_type": "code",
      "execution_count": 24,
      "metadata": {
        "colab": {
          "base_uri": "https://localhost:8080/",
          "height": 225
        },
        "id": "QnCFL1mTYBCV",
        "outputId": "5c252171-e2e0-4e22-a236-b90d8fedc017"
      },
      "outputs": [
        {
          "data": {
            "image/png": "[encoded data removed]",
            "text/plain": [
              "<Figure size 600x300 with 2 Axes>"
            ]
          },
          "metadata": {},
          "output_type": "display_data"
        }
      ],
      "source": [
        "df[\"dayofweek\"] = df[\"effective_date\"].dt.dayofweek\n",
        "bins = np.linspace(df.dayofweek.min(), df.dayofweek.max(), 8)\n",
        "g = sns.FacetGrid(df, col=\"Gender\", hue=\"loan_status\", palette=\"Set3\", col_wrap=2)\n",
        "g.map(plt.hist, \"dayofweek\", bins=bins, ec=\"k\")\n",
        "\n",
        "\n",
        "g.axes[-1].legend()\n",
        "plt.show()"
      ]
    },
    {
      "cell_type": "code",
      "execution_count": 25,
      "metadata": {
        "colab": {
          "base_uri": "https://localhost:8080/"
        },
        "id": "9FBKVl13aV4b",
        "outputId": "61ac1581-1b69-4bbf-c6f7-d0bfea0618ec"
      },
      "outputs": [
        {
          "data": {
            "text/plain": [
              "6    47.50\n",
              "0    25.25\n",
              "5     9.75\n",
              "2     8.25\n",
              "1     5.75\n",
              "4     2.50\n",
              "3     1.00\n",
              "Name: dayofweek, dtype: float64"
            ]
          },
          "execution_count": 25,
          "metadata": {},
          "output_type": "execute_result"
        }
      ],
      "source": [
        "df[\"dayofweek\"].value_counts(normalize=True) * 100"
      ]
    },
    {
      "cell_type": "markdown",
      "metadata": {
        "id": "laiBC05xmxvG"
      },
      "source": [
        "*Através deste gráfico já conseguimos arranjar uma correlação mais concisa, conseguimos observar que as pessoas que costumam pedir emprestimos ao fim de semana costumam atrasar se a pagar*"
      ]
    },
    {
      "cell_type": "markdown",
      "metadata": {
        "id": "bOzmfBdan1dS"
      },
      "source": [
        "***Depois da última observação o mais adequado é separar o fim de semana dos dias da semana***"
      ]
    },
    {
      "cell_type": "code",
      "execution_count": 26,
      "metadata": {
        "colab": {
          "base_uri": "https://localhost:8080/",
          "height": 363
        },
        "id": "ObzeTW_KfWf6",
        "outputId": "eace8fd4-abe0-4901-d420-2ec3a73b6e4c"
      },
      "outputs": [
        {
          "data": {
            "text/html": [
              "<div>\n",
              "<style scoped>\n",
              "    .dataframe tbody tr th:only-of-type {\n",
              "        vertical-align: middle;\n",
              "    }\n",
              "\n",
              "    .dataframe tbody tr th {\n",
              "        vertical-align: top;\n",
              "    }\n",
              "\n",
              "    .dataframe thead th {\n",
              "        text-align: right;\n",
              "    }\n",
              "</style>\n",
              "<table border=\"1\" class=\"dataframe\">\n",
              "  <thead>\n",
              "    <tr style=\"text-align: right;\">\n",
              "      <th></th>\n",
              "      <th>loan_status</th>\n",
              "      <th>Principal</th>\n",
              "      <th>terms</th>\n",
              "      <th>effective_date</th>\n",
              "      <th>due_date</th>\n",
              "      <th>age</th>\n",
              "      <th>education</th>\n",
              "      <th>Gender</th>\n",
              "      <th>dayofweek</th>\n",
              "      <th>weekend</th>\n",
              "    </tr>\n",
              "  </thead>\n",
              "  <tbody>\n",
              "    <tr>\n",
              "      <th>188</th>\n",
              "      <td>PAIDOFF</td>\n",
              "      <td>1000</td>\n",
              "      <td>15</td>\n",
              "      <td>2016-09-12</td>\n",
              "      <td>2016-09-26</td>\n",
              "      <td>35</td>\n",
              "      <td>college</td>\n",
              "      <td>male</td>\n",
              "      <td>0</td>\n",
              "      <td>0</td>\n",
              "    </tr>\n",
              "    <tr>\n",
              "      <th>57</th>\n",
              "      <td>PAIDOFF</td>\n",
              "      <td>1000</td>\n",
              "      <td>30</td>\n",
              "      <td>2016-09-11</td>\n",
              "      <td>2016-10-10</td>\n",
              "      <td>43</td>\n",
              "      <td>Bechalor</td>\n",
              "      <td>male</td>\n",
              "      <td>6</td>\n",
              "      <td>1</td>\n",
              "    </tr>\n",
              "    <tr>\n",
              "      <th>203</th>\n",
              "      <td>PAIDOFF</td>\n",
              "      <td>800</td>\n",
              "      <td>15</td>\n",
              "      <td>2016-09-12</td>\n",
              "      <td>2016-09-26</td>\n",
              "      <td>36</td>\n",
              "      <td>High School or Below</td>\n",
              "      <td>male</td>\n",
              "      <td>0</td>\n",
              "      <td>0</td>\n",
              "    </tr>\n",
              "    <tr>\n",
              "      <th>382</th>\n",
              "      <td>PAIDOFF</td>\n",
              "      <td>1000</td>\n",
              "      <td>30</td>\n",
              "      <td>2016-09-13</td>\n",
              "      <td>2016-10-12</td>\n",
              "      <td>28</td>\n",
              "      <td>High School or Below</td>\n",
              "      <td>male</td>\n",
              "      <td>1</td>\n",
              "      <td>0</td>\n",
              "    </tr>\n",
              "    <tr>\n",
              "      <th>230</th>\n",
              "      <td>PAIDOFF</td>\n",
              "      <td>1000</td>\n",
              "      <td>30</td>\n",
              "      <td>2016-09-14</td>\n",
              "      <td>2016-10-13</td>\n",
              "      <td>42</td>\n",
              "      <td>High School or Below</td>\n",
              "      <td>male</td>\n",
              "      <td>2</td>\n",
              "      <td>0</td>\n",
              "    </tr>\n",
              "    <tr>\n",
              "      <th>284</th>\n",
              "      <td>COLLECTION</td>\n",
              "      <td>1000</td>\n",
              "      <td>30</td>\n",
              "      <td>2016-09-11</td>\n",
              "      <td>2016-10-10</td>\n",
              "      <td>30</td>\n",
              "      <td>High School or Below</td>\n",
              "      <td>female</td>\n",
              "      <td>6</td>\n",
              "      <td>1</td>\n",
              "    </tr>\n",
              "    <tr>\n",
              "      <th>104</th>\n",
              "      <td>PAIDOFF</td>\n",
              "      <td>1000</td>\n",
              "      <td>30</td>\n",
              "      <td>2016-09-11</td>\n",
              "      <td>2016-10-10</td>\n",
              "      <td>26</td>\n",
              "      <td>college</td>\n",
              "      <td>male</td>\n",
              "      <td>6</td>\n",
              "      <td>1</td>\n",
              "    </tr>\n",
              "    <tr>\n",
              "      <th>236</th>\n",
              "      <td>PAIDOFF</td>\n",
              "      <td>1000</td>\n",
              "      <td>30</td>\n",
              "      <td>2016-09-14</td>\n",
              "      <td>2016-10-13</td>\n",
              "      <td>30</td>\n",
              "      <td>Bechalor</td>\n",
              "      <td>male</td>\n",
              "      <td>2</td>\n",
              "      <td>0</td>\n",
              "    </tr>\n",
              "    <tr>\n",
              "      <th>4</th>\n",
              "      <td>PAIDOFF</td>\n",
              "      <td>1000</td>\n",
              "      <td>30</td>\n",
              "      <td>2016-09-09</td>\n",
              "      <td>2016-10-08</td>\n",
              "      <td>29</td>\n",
              "      <td>college</td>\n",
              "      <td>male</td>\n",
              "      <td>4</td>\n",
              "      <td>1</td>\n",
              "    </tr>\n",
              "    <tr>\n",
              "      <th>267</th>\n",
              "      <td>COLLECTION</td>\n",
              "      <td>1000</td>\n",
              "      <td>30</td>\n",
              "      <td>2016-09-10</td>\n",
              "      <td>2016-10-09</td>\n",
              "      <td>27</td>\n",
              "      <td>High School or Below</td>\n",
              "      <td>male</td>\n",
              "      <td>5</td>\n",
              "      <td>1</td>\n",
              "    </tr>\n",
              "  </tbody>\n",
              "</table>\n",
              "</div>"
            ],
            "text/plain": [
              "    loan_status  Principal  terms effective_date   due_date  age  \\\n",
              "188     PAIDOFF       1000     15     2016-09-12 2016-09-26   35   \n",
              "57      PAIDOFF       1000     30     2016-09-11 2016-10-10   43   \n",
              "203     PAIDOFF        800     15     2016-09-12 2016-09-26   36   \n",
              "382     PAIDOFF       1000     30     2016-09-13 2016-10-12   28   \n",
              "230     PAIDOFF       1000     30     2016-09-14 2016-10-13   42   \n",
              "284  COLLECTION       1000     30     2016-09-11 2016-10-10   30   \n",
              "104     PAIDOFF       1000     30     2016-09-11 2016-10-10   26   \n",
              "236     PAIDOFF       1000     30     2016-09-14 2016-10-13   30   \n",
              "4       PAIDOFF       1000     30     2016-09-09 2016-10-08   29   \n",
              "267  COLLECTION       1000     30     2016-09-10 2016-10-09   27   \n",
              "\n",
              "                education  Gender  dayofweek  weekend  \n",
              "188               college    male          0        0  \n",
              "57               Bechalor    male          6        1  \n",
              "203  High School or Below    male          0        0  \n",
              "382  High School or Below    male          1        0  \n",
              "230  High School or Below    male          2        0  \n",
              "284  High School or Below  female          6        1  \n",
              "104               college    male          6        1  \n",
              "236              Bechalor    male          2        0  \n",
              "4                 college    male          4        1  \n",
              "267  High School or Below    male          5        1  "
            ]
          },
          "execution_count": 26,
          "metadata": {},
          "output_type": "execute_result"
        }
      ],
      "source": [
        "df[\"weekend\"] = df[\"dayofweek\"].apply(lambda x: 1 if (x > 3) else 0)\n",
        "df.sample(10)"
      ]
    },
    {
      "cell_type": "markdown",
      "metadata": {
        "id": "x06Ey4Aof2u6"
      },
      "source": [
        "### Conversão de features categóricas para numéricas"
      ]
    },
    {
      "cell_type": "markdown",
      "metadata": {
        "id": "BR6SZ55Pl9Kk"
      },
      "source": [
        "***Feature género, podemos então colocá-lo como valor binário***"
      ]
    },
    {
      "cell_type": "code",
      "execution_count": 27,
      "metadata": {
        "colab": {
          "base_uri": "https://localhost:8080/",
          "height": 206
        },
        "id": "Z3xB0u3li7ty",
        "outputId": "16618238-168a-4b0e-c61b-f993fa72d267"
      },
      "outputs": [
        {
          "data": {
            "text/html": [
              "<div>\n",
              "<style scoped>\n",
              "    .dataframe tbody tr th:only-of-type {\n",
              "        vertical-align: middle;\n",
              "    }\n",
              "\n",
              "    .dataframe tbody tr th {\n",
              "        vertical-align: top;\n",
              "    }\n",
              "\n",
              "    .dataframe thead th {\n",
              "        text-align: right;\n",
              "    }\n",
              "</style>\n",
              "<table border=\"1\" class=\"dataframe\">\n",
              "  <thead>\n",
              "    <tr style=\"text-align: right;\">\n",
              "      <th></th>\n",
              "      <th>loan_status</th>\n",
              "      <th>Principal</th>\n",
              "      <th>terms</th>\n",
              "      <th>effective_date</th>\n",
              "      <th>due_date</th>\n",
              "      <th>age</th>\n",
              "      <th>education</th>\n",
              "      <th>Gender</th>\n",
              "      <th>dayofweek</th>\n",
              "      <th>weekend</th>\n",
              "    </tr>\n",
              "  </thead>\n",
              "  <tbody>\n",
              "    <tr>\n",
              "      <th>46</th>\n",
              "      <td>PAIDOFF</td>\n",
              "      <td>1000</td>\n",
              "      <td>15</td>\n",
              "      <td>2016-09-11</td>\n",
              "      <td>2016-09-25</td>\n",
              "      <td>25</td>\n",
              "      <td>college</td>\n",
              "      <td>0</td>\n",
              "      <td>6</td>\n",
              "      <td>1</td>\n",
              "    </tr>\n",
              "    <tr>\n",
              "      <th>159</th>\n",
              "      <td>PAIDOFF</td>\n",
              "      <td>800</td>\n",
              "      <td>15</td>\n",
              "      <td>2016-09-12</td>\n",
              "      <td>2016-09-26</td>\n",
              "      <td>28</td>\n",
              "      <td>college</td>\n",
              "      <td>0</td>\n",
              "      <td>0</td>\n",
              "      <td>0</td>\n",
              "    </tr>\n",
              "    <tr>\n",
              "      <th>3</th>\n",
              "      <td>PAIDOFF</td>\n",
              "      <td>1000</td>\n",
              "      <td>30</td>\n",
              "      <td>2016-09-09</td>\n",
              "      <td>2016-10-08</td>\n",
              "      <td>28</td>\n",
              "      <td>college</td>\n",
              "      <td>1</td>\n",
              "      <td>4</td>\n",
              "      <td>1</td>\n",
              "    </tr>\n",
              "    <tr>\n",
              "      <th>97</th>\n",
              "      <td>PAIDOFF</td>\n",
              "      <td>1000</td>\n",
              "      <td>30</td>\n",
              "      <td>2016-09-11</td>\n",
              "      <td>2016-10-10</td>\n",
              "      <td>35</td>\n",
              "      <td>Bechalor</td>\n",
              "      <td>0</td>\n",
              "      <td>6</td>\n",
              "      <td>1</td>\n",
              "    </tr>\n",
              "    <tr>\n",
              "      <th>264</th>\n",
              "      <td>COLLECTION</td>\n",
              "      <td>800</td>\n",
              "      <td>15</td>\n",
              "      <td>2016-09-10</td>\n",
              "      <td>2016-10-09</td>\n",
              "      <td>28</td>\n",
              "      <td>college</td>\n",
              "      <td>0</td>\n",
              "      <td>5</td>\n",
              "      <td>1</td>\n",
              "    </tr>\n",
              "  </tbody>\n",
              "</table>\n",
              "</div>"
            ],
            "text/plain": [
              "    loan_status  Principal  terms effective_date   due_date  age education  \\\n",
              "46      PAIDOFF       1000     15     2016-09-11 2016-09-25   25   college   \n",
              "159     PAIDOFF        800     15     2016-09-12 2016-09-26   28   college   \n",
              "3       PAIDOFF       1000     30     2016-09-09 2016-10-08   28   college   \n",
              "97      PAIDOFF       1000     30     2016-09-11 2016-10-10   35  Bechalor   \n",
              "264  COLLECTION        800     15     2016-09-10 2016-10-09   28   college   \n",
              "\n",
              "     Gender  dayofweek  weekend  \n",
              "46        0          6        1  \n",
              "159       0          0        0  \n",
              "3         1          4        1  \n",
              "97        0          6        1  \n",
              "264       0          5        1  "
            ]
          },
          "execution_count": 27,
          "metadata": {},
          "output_type": "execute_result"
        }
      ],
      "source": [
        "df[\"Gender\"].replace(to_replace=[\"male\", \"female\"], value=[0, 1], inplace=True)\n",
        "df.sample(5)"
      ]
    },
    {
      "cell_type": "markdown",
      "metadata": {
        "id": "KCdAZmkS-6-x"
      },
      "source": [
        "## Seleção das Features"
      ]
    },
    {
      "cell_type": "markdown",
      "metadata": {
        "id": "ANvGiT4dsfBx"
      },
      "source": [
        "***Vamos agora fazer um novo Data Frame com as features definitivas com que queremos alimentar os nossos modelos***"
      ]
    },
    {
      "cell_type": "code",
      "execution_count": 28,
      "metadata": {
        "colab": {
          "base_uri": "https://localhost:8080/",
          "height": 206
        },
        "id": "4yjxyiy1nTsf",
        "outputId": "70dea6a9-90e3-44ae-f335-6cc38ed98fd0"
      },
      "outputs": [
        {
          "data": {
            "text/html": [
              "<div>\n",
              "<style scoped>\n",
              "    .dataframe tbody tr th:only-of-type {\n",
              "        vertical-align: middle;\n",
              "    }\n",
              "\n",
              "    .dataframe tbody tr th {\n",
              "        vertical-align: top;\n",
              "    }\n",
              "\n",
              "    .dataframe thead th {\n",
              "        text-align: right;\n",
              "    }\n",
              "</style>\n",
              "<table border=\"1\" class=\"dataframe\">\n",
              "  <thead>\n",
              "    <tr style=\"text-align: right;\">\n",
              "      <th></th>\n",
              "      <th>Principal</th>\n",
              "      <th>terms</th>\n",
              "      <th>age</th>\n",
              "      <th>Gender</th>\n",
              "      <th>weekend</th>\n",
              "      <th>dayofweek</th>\n",
              "      <th>Bechalor</th>\n",
              "      <th>High School or Below</th>\n",
              "      <th>Master or Above</th>\n",
              "      <th>college</th>\n",
              "    </tr>\n",
              "  </thead>\n",
              "  <tbody>\n",
              "    <tr>\n",
              "      <th>0</th>\n",
              "      <td>1000</td>\n",
              "      <td>30</td>\n",
              "      <td>45</td>\n",
              "      <td>0</td>\n",
              "      <td>0</td>\n",
              "      <td>3</td>\n",
              "      <td>0</td>\n",
              "      <td>1</td>\n",
              "      <td>0</td>\n",
              "      <td>0</td>\n",
              "    </tr>\n",
              "    <tr>\n",
              "      <th>1</th>\n",
              "      <td>1000</td>\n",
              "      <td>30</td>\n",
              "      <td>33</td>\n",
              "      <td>1</td>\n",
              "      <td>0</td>\n",
              "      <td>3</td>\n",
              "      <td>1</td>\n",
              "      <td>0</td>\n",
              "      <td>0</td>\n",
              "      <td>0</td>\n",
              "    </tr>\n",
              "    <tr>\n",
              "      <th>2</th>\n",
              "      <td>1000</td>\n",
              "      <td>15</td>\n",
              "      <td>27</td>\n",
              "      <td>0</td>\n",
              "      <td>0</td>\n",
              "      <td>3</td>\n",
              "      <td>0</td>\n",
              "      <td>0</td>\n",
              "      <td>0</td>\n",
              "      <td>1</td>\n",
              "    </tr>\n",
              "    <tr>\n",
              "      <th>3</th>\n",
              "      <td>1000</td>\n",
              "      <td>30</td>\n",
              "      <td>28</td>\n",
              "      <td>1</td>\n",
              "      <td>1</td>\n",
              "      <td>4</td>\n",
              "      <td>0</td>\n",
              "      <td>0</td>\n",
              "      <td>0</td>\n",
              "      <td>1</td>\n",
              "    </tr>\n",
              "    <tr>\n",
              "      <th>4</th>\n",
              "      <td>1000</td>\n",
              "      <td>30</td>\n",
              "      <td>29</td>\n",
              "      <td>0</td>\n",
              "      <td>1</td>\n",
              "      <td>4</td>\n",
              "      <td>0</td>\n",
              "      <td>0</td>\n",
              "      <td>0</td>\n",
              "      <td>1</td>\n",
              "    </tr>\n",
              "  </tbody>\n",
              "</table>\n",
              "</div>"
            ],
            "text/plain": [
              "   Principal  terms  age  Gender  weekend  dayofweek  Bechalor  \\\n",
              "0       1000     30   45       0        0          3         0   \n",
              "1       1000     30   33       1        0          3         1   \n",
              "2       1000     15   27       0        0          3         0   \n",
              "3       1000     30   28       1        1          4         0   \n",
              "4       1000     30   29       0        1          4         0   \n",
              "\n",
              "   High School or Below  Master or Above  college  \n",
              "0                     1                0        0  \n",
              "1                     0                0        0  \n",
              "2                     0                0        1  \n",
              "3                     0                0        1  \n",
              "4                     0                0        1  "
            ]
          },
          "execution_count": 28,
          "metadata": {},
          "output_type": "execute_result"
        }
      ],
      "source": [
        "Feature = df[[\"Principal\", \"terms\", \"age\", \"Gender\", \"weekend\", \"dayofweek\"]]\n",
        "Feature = pd.concat([Feature, pd.get_dummies(df[\"education\"])], axis=1)\n",
        "Feature.head(5)"
      ]
    },
    {
      "cell_type": "markdown",
      "metadata": {
        "id": "AVD3TtsoooyT"
      },
      "source": [
        "*Usamos um método de algoritmo \"dummie\" do pandas para fazer a normalização dos dados na feature educação e retiramos então a categoria mestrados*"
      ]
    },
    {
      "cell_type": "code",
      "execution_count": 29,
      "metadata": {
        "colab": {
          "base_uri": "https://localhost:8080/",
          "height": 812
        },
        "id": "u4Th2jold1J5",
        "outputId": "c5ea4a8c-9da7-4fb2-fa05-ab2bf389d770"
      },
      "outputs": [
        {
          "data": {
            "image/png": "[encoded data removed]",
            "text/plain": [
              "<Figure size 1500x1200 with 2 Axes>"
            ]
          },
          "metadata": {},
          "output_type": "display_data"
        }
      ],
      "source": [
        "# HeatMap\n",
        "plt.figure(figsize=(15, 12))\n",
        "plt.title(\"Correlation of Features for Train Set\")\n",
        "sns.heatmap(Feature.corr(), vmax=1.0, annot=True, cmap=\"Greens\")\n",
        "plt.show()"
      ]
    },
    {
      "cell_type": "code",
      "execution_count": 30,
      "metadata": {
        "colab": {
          "base_uri": "https://localhost:8080/",
          "height": 363
        },
        "id": "Aiqk8wQQoo9x",
        "outputId": "0f0980b4-0afb-4d6a-8c54-b0f43d4352e8"
      },
      "outputs": [
        {
          "data": {
            "text/html": [
              "<div>\n",
              "<style scoped>\n",
              "    .dataframe tbody tr th:only-of-type {\n",
              "        vertical-align: middle;\n",
              "    }\n",
              "\n",
              "    .dataframe tbody tr th {\n",
              "        vertical-align: top;\n",
              "    }\n",
              "\n",
              "    .dataframe thead th {\n",
              "        text-align: right;\n",
              "    }\n",
              "</style>\n",
              "<table border=\"1\" class=\"dataframe\">\n",
              "  <thead>\n",
              "    <tr style=\"text-align: right;\">\n",
              "      <th></th>\n",
              "      <th>Principal</th>\n",
              "      <th>terms</th>\n",
              "      <th>age</th>\n",
              "      <th>Gender</th>\n",
              "      <th>weekend</th>\n",
              "      <th>dayofweek</th>\n",
              "      <th>Bechalor</th>\n",
              "      <th>High School or Below</th>\n",
              "      <th>Master or Above</th>\n",
              "      <th>college</th>\n",
              "    </tr>\n",
              "  </thead>\n",
              "  <tbody>\n",
              "    <tr>\n",
              "      <th>0</th>\n",
              "      <td>1000</td>\n",
              "      <td>30</td>\n",
              "      <td>45</td>\n",
              "      <td>0</td>\n",
              "      <td>0</td>\n",
              "      <td>3</td>\n",
              "      <td>0</td>\n",
              "      <td>1</td>\n",
              "      <td>0</td>\n",
              "      <td>0</td>\n",
              "    </tr>\n",
              "    <tr>\n",
              "      <th>1</th>\n",
              "      <td>1000</td>\n",
              "      <td>30</td>\n",
              "      <td>33</td>\n",
              "      <td>1</td>\n",
              "      <td>0</td>\n",
              "      <td>3</td>\n",
              "      <td>1</td>\n",
              "      <td>0</td>\n",
              "      <td>0</td>\n",
              "      <td>0</td>\n",
              "    </tr>\n",
              "    <tr>\n",
              "      <th>2</th>\n",
              "      <td>1000</td>\n",
              "      <td>15</td>\n",
              "      <td>27</td>\n",
              "      <td>0</td>\n",
              "      <td>0</td>\n",
              "      <td>3</td>\n",
              "      <td>0</td>\n",
              "      <td>0</td>\n",
              "      <td>0</td>\n",
              "      <td>1</td>\n",
              "    </tr>\n",
              "    <tr>\n",
              "      <th>3</th>\n",
              "      <td>1000</td>\n",
              "      <td>30</td>\n",
              "      <td>28</td>\n",
              "      <td>1</td>\n",
              "      <td>1</td>\n",
              "      <td>4</td>\n",
              "      <td>0</td>\n",
              "      <td>0</td>\n",
              "      <td>0</td>\n",
              "      <td>1</td>\n",
              "    </tr>\n",
              "    <tr>\n",
              "      <th>4</th>\n",
              "      <td>1000</td>\n",
              "      <td>30</td>\n",
              "      <td>29</td>\n",
              "      <td>0</td>\n",
              "      <td>1</td>\n",
              "      <td>4</td>\n",
              "      <td>0</td>\n",
              "      <td>0</td>\n",
              "      <td>0</td>\n",
              "      <td>1</td>\n",
              "    </tr>\n",
              "    <tr>\n",
              "      <th>5</th>\n",
              "      <td>1000</td>\n",
              "      <td>30</td>\n",
              "      <td>36</td>\n",
              "      <td>0</td>\n",
              "      <td>1</td>\n",
              "      <td>4</td>\n",
              "      <td>0</td>\n",
              "      <td>0</td>\n",
              "      <td>0</td>\n",
              "      <td>1</td>\n",
              "    </tr>\n",
              "    <tr>\n",
              "      <th>6</th>\n",
              "      <td>1000</td>\n",
              "      <td>30</td>\n",
              "      <td>28</td>\n",
              "      <td>0</td>\n",
              "      <td>1</td>\n",
              "      <td>4</td>\n",
              "      <td>0</td>\n",
              "      <td>0</td>\n",
              "      <td>0</td>\n",
              "      <td>1</td>\n",
              "    </tr>\n",
              "    <tr>\n",
              "      <th>7</th>\n",
              "      <td>800</td>\n",
              "      <td>15</td>\n",
              "      <td>26</td>\n",
              "      <td>0</td>\n",
              "      <td>1</td>\n",
              "      <td>5</td>\n",
              "      <td>0</td>\n",
              "      <td>0</td>\n",
              "      <td>0</td>\n",
              "      <td>1</td>\n",
              "    </tr>\n",
              "    <tr>\n",
              "      <th>8</th>\n",
              "      <td>300</td>\n",
              "      <td>7</td>\n",
              "      <td>29</td>\n",
              "      <td>0</td>\n",
              "      <td>1</td>\n",
              "      <td>5</td>\n",
              "      <td>0</td>\n",
              "      <td>0</td>\n",
              "      <td>0</td>\n",
              "      <td>1</td>\n",
              "    </tr>\n",
              "    <tr>\n",
              "      <th>9</th>\n",
              "      <td>1000</td>\n",
              "      <td>15</td>\n",
              "      <td>39</td>\n",
              "      <td>0</td>\n",
              "      <td>1</td>\n",
              "      <td>5</td>\n",
              "      <td>0</td>\n",
              "      <td>1</td>\n",
              "      <td>0</td>\n",
              "      <td>0</td>\n",
              "    </tr>\n",
              "  </tbody>\n",
              "</table>\n",
              "</div>"
            ],
            "text/plain": [
              "   Principal  terms  age  Gender  weekend  dayofweek  Bechalor  \\\n",
              "0       1000     30   45       0        0          3         0   \n",
              "1       1000     30   33       1        0          3         1   \n",
              "2       1000     15   27       0        0          3         0   \n",
              "3       1000     30   28       1        1          4         0   \n",
              "4       1000     30   29       0        1          4         0   \n",
              "5       1000     30   36       0        1          4         0   \n",
              "6       1000     30   28       0        1          4         0   \n",
              "7        800     15   26       0        1          5         0   \n",
              "8        300      7   29       0        1          5         0   \n",
              "9       1000     15   39       0        1          5         0   \n",
              "\n",
              "   High School or Below  Master or Above  college  \n",
              "0                     1                0        0  \n",
              "1                     0                0        0  \n",
              "2                     0                0        1  \n",
              "3                     0                0        1  \n",
              "4                     0                0        1  \n",
              "5                     0                0        1  \n",
              "6                     0                0        1  \n",
              "7                     0                0        1  \n",
              "8                     0                0        1  \n",
              "9                     1                0        0  "
            ]
          },
          "execution_count": 30,
          "metadata": {},
          "output_type": "execute_result"
        }
      ],
      "source": [
        "X = Feature\n",
        "X[0:10]"
      ]
    },
    {
      "cell_type": "code",
      "execution_count": 31,
      "metadata": {
        "colab": {
          "base_uri": "https://localhost:8080/"
        },
        "id": "Qc_gAAbApKOB",
        "outputId": "a5539c9e-a472-447b-90b4-a4e320d4474a"
      },
      "outputs": [
        {
          "data": {
            "text/plain": [
              "(400,)"
            ]
          },
          "execution_count": 31,
          "metadata": {},
          "output_type": "execute_result"
        }
      ],
      "source": [
        "y = df['loan_status']\n",
        "y.shape"
      ]
    },
    {
      "cell_type": "markdown",
      "metadata": {
        "id": "vNNP3waFqjyN"
      },
      "source": [
        "### Normalização dos dados"
      ]
    },
    {
      "cell_type": "code",
      "execution_count": 32,
      "metadata": {
        "colab": {
          "base_uri": "https://localhost:8080/"
        },
        "id": "nArQmwV7qkEe",
        "outputId": "205d27fc-38da-47fe-9214-0b414075d4e8"
      },
      "outputs": [
        {
          "data": {
            "text/plain": [
              "array([[ 0.50130175,  0.92089421,  2.31334964, -0.43236977, -1.21838912,\n",
              "        -0.26462433, -0.38655567,  1.15133896, -0.10050378, -0.86855395],\n",
              "       [ 0.50130175,  0.92089421,  0.32194392,  2.31283513, -1.21838912,\n",
              "        -0.26462433,  2.5869495 , -0.86855395, -0.10050378, -0.86855395],\n",
              "       [ 0.50130175, -0.9332552 , -0.67375893, -0.43236977, -1.21838912,\n",
              "        -0.26462433, -0.38655567, -0.86855395, -0.10050378,  1.15133896],\n",
              "       [ 0.50130175,  0.92089421, -0.50780846,  2.31283513,  0.82075585,\n",
              "         0.11888919, -0.38655567, -0.86855395, -0.10050378,  1.15133896],\n",
              "       [ 0.50130175,  0.92089421, -0.34185798, -0.43236977,  0.82075585,\n",
              "         0.11888919, -0.38655567, -0.86855395, -0.10050378,  1.15133896]])"
            ]
          },
          "execution_count": 32,
          "metadata": {},
          "output_type": "execute_result"
        }
      ],
      "source": [
        "from sklearn import preprocessing\n",
        "\n",
        "# normalize the data\n",
        "X = preprocessing.StandardScaler().fit(X).transform(X)\n",
        "X[0:5]"
      ]
    },
    {
      "cell_type": "markdown",
      "metadata": {
        "id": "FEFkpxNgrK0x"
      },
      "source": [
        "# Classificação, qual o método que se adequa mais e obtém mais *accuracy*"
      ]
    },
    {
      "cell_type": "markdown",
      "metadata": {
        "id": "2H98vfTomXzw"
      },
      "source": [
        "## Train Test Split"
      ]
    },
    {
      "cell_type": "code",
      "execution_count": 33,
      "metadata": {
        "colab": {
          "base_uri": "https://localhost:8080/"
        },
        "id": "Ujbm9P_VscF_",
        "outputId": "a80218ac-9d91-458e-d113-b1a47e041935"
      },
      "outputs": [
        {
          "name": "stdout",
          "output_type": "stream",
          "text": [
            "Train set: (340, 10) (340,)\n",
            "Test set: (60, 10) (60,)\n"
          ]
        }
      ],
      "source": [
        "from sklearn.model_selection import train_test_split\n",
        "\n",
        "# train split test variables\n",
        "X_train, X_test, y_train, y_test = train_test_split(\n",
        "    X, y, test_size=0.15, random_state=4\n",
        ")\n",
        "print(\"Train set:\", X_train.shape, y_train.shape)\n",
        "print(\"Test set:\", X_test.shape, y_test.shape)"
      ]
    },
    {
      "cell_type": "markdown",
      "metadata": {
        "id": "0FqJCleKjXmW"
      },
      "source": [
        "## K-Nearest Neighbors"
      ]
    },
    {
      "cell_type": "markdown",
      "metadata": {
        "id": "VMhpQ_o2mejn"
      },
      "source": [
        "### Training (Para encontrar o melhor k)"
      ]
    },
    {
      "cell_type": "code",
      "execution_count": 34,
      "metadata": {
        "colab": {
          "base_uri": "https://localhost:8080/"
        },
        "id": "j1WdGUK1sg1v",
        "outputId": "81d84cd7-3649-4702-c007-49de895e817c"
      },
      "outputs": [
        {
          "data": {
            "text/html": [
              "<style>#sk-container-id-1 {color: black;background-color: white;}#sk-container-id-1 pre{padding: 0;}#sk-container-id-1 div.sk-toggleable {background-color: white;}#sk-container-id-1 label.sk-toggleable__label {cursor: pointer;display: block;width: 100%;margin-bottom: 0;padding: 0.3em;box-sizing: border-box;text-align: center;}#sk-container-id-1 label.sk-toggleable__label-arrow:before {content: \"▸\";float: left;margin-right: 0.25em;color: #696969;}#sk-container-id-1 label.sk-toggleable__label-arrow:hover:before {color: black;}#sk-container-id-1 div.sk-estimator:hover label.sk-toggleable__label-arrow:before {color: black;}#sk-container-id-1 div.sk-toggleable__content {max-height: 0;max-width: 0;overflow: hidden;text-align: left;background-color: #f0f8ff;}#sk-container-id-1 div.sk-toggleable__content pre {margin: 0.2em;color: black;border-radius: 0.25em;background-color: #f0f8ff;}#sk-container-id-1 input.sk-toggleable__control:checked~div.sk-toggleable__content {max-height: 200px;max-width: 100%;overflow: auto;}#sk-container-id-1 input.sk-toggleable__control:checked~label.sk-toggleable__label-arrow:before {content: \"▾\";}#sk-container-id-1 div.sk-estimator input.sk-toggleable__control:checked~label.sk-toggleable__label {background-color: #d4ebff;}#sk-container-id-1 div.sk-label input.sk-toggleable__control:checked~label.sk-toggleable__label {background-color: #d4ebff;}#sk-container-id-1 input.sk-hidden--visually {border: 0;clip: rect(1px 1px 1px 1px);clip: rect(1px, 1px, 1px, 1px);height: 1px;margin: -1px;overflow: hidden;padding: 0;position: absolute;width: 1px;}#sk-container-id-1 div.sk-estimator {font-family: monospace;background-color: #f0f8ff;border: 1px dotted black;border-radius: 0.25em;box-sizing: border-box;margin-bottom: 0.5em;}#sk-container-id-1 div.sk-estimator:hover {background-color: #d4ebff;}#sk-container-id-1 div.sk-parallel-item::after {content: \"\";width: 100%;border-bottom: 1px solid gray;flex-grow: 1;}#sk-container-id-1 div.sk-label:hover label.sk-toggleable__label {background-color: #d4ebff;}#sk-container-id-1 div.sk-serial::before {content: \"\";position: absolute;border-left: 1px solid gray;box-sizing: border-box;top: 0;bottom: 0;left: 50%;z-index: 0;}#sk-container-id-1 div.sk-serial {display: flex;flex-direction: column;align-items: center;background-color: white;padding-right: 0.2em;padding-left: 0.2em;position: relative;}#sk-container-id-1 div.sk-item {position: relative;z-index: 1;}#sk-container-id-1 div.sk-parallel {display: flex;align-items: stretch;justify-content: center;background-color: white;position: relative;}#sk-container-id-1 div.sk-item::before, #sk-container-id-1 div.sk-parallel-item::before {content: \"\";position: absolute;border-left: 1px solid gray;box-sizing: border-box;top: 0;bottom: 0;left: 50%;z-index: -1;}#sk-container-id-1 div.sk-parallel-item {display: flex;flex-direction: column;z-index: 1;position: relative;background-color: white;}#sk-container-id-1 div.sk-parallel-item:first-child::after {align-self: flex-end;width: 50%;}#sk-container-id-1 div.sk-parallel-item:last-child::after {align-self: flex-start;width: 50%;}#sk-container-id-1 div.sk-parallel-item:only-child::after {width: 0;}#sk-container-id-1 div.sk-dashed-wrapped {border: 1px dashed gray;margin: 0 0.4em 0.5em 0.4em;box-sizing: border-box;padding-bottom: 0.4em;background-color: white;}#sk-container-id-1 div.sk-label label {font-family: monospace;font-weight: bold;display: inline-block;line-height: 1.2em;}#sk-container-id-1 div.sk-label-container {text-align: center;}#sk-container-id-1 div.sk-container {/* jupyter's `normalize.less` sets `[hidden] { display: none; }` but bootstrap.min.css set `[hidden] { display: none !important; }` so we also need the `!important` here to be able to override the default hidden behavior on the sphinx rendered scikit-learn.org. See: https://github.com/scikit-learn/scikit-learn/issues/21755 */display: inline-block !important;position: relative;}#sk-container-id-1 div.sk-text-repr-fallback {display: none;}</style><div id=\"sk-container-id-1\" class=\"sk-top-container\"><div class=\"sk-text-repr-fallback\"><pre>KNeighborsClassifier(n_neighbors=3)</pre><b>In a Jupyter environment, please rerun this cell to show the HTML representation or trust the notebook. <br />On GitHub, the HTML representation is unable to render, please try loading this page with nbviewer.org.</b></div><div class=\"sk-container\" hidden><div class=\"sk-item\"><div class=\"sk-estimator sk-toggleable\"><input class=\"sk-toggleable__control sk-hidden--visually\" id=\"sk-estimator-id-1\" type=\"checkbox\" checked><label for=\"sk-estimator-id-1\" class=\"sk-toggleable__label sk-toggleable__label-arrow\">KNeighborsClassifier</label><div class=\"sk-toggleable__content\"><pre>KNeighborsClassifier(n_neighbors=3)</pre></div></div></div></div></div>"
            ],
            "text/plain": [
              "KNeighborsClassifier(n_neighbors=3)"
            ]
          },
          "execution_count": 34,
          "metadata": {},
          "output_type": "execute_result"
        }
      ],
      "source": [
        "from sklearn.neighbors import KNeighborsClassifier\n",
        "\n",
        "# test what the best k will be\n",
        "k = 3\n",
        "eKNN = KNeighborsClassifier(n_neighbors=k).fit(X_train, y_train)\n",
        "eKNN"
      ]
    },
    {
      "cell_type": "markdown",
      "metadata": {
        "id": "F10GLB4NmjRS"
      },
      "source": [
        "### Prediction (Para encontrar o melhor k)"
      ]
    },
    {
      "cell_type": "code",
      "execution_count": 35,
      "metadata": {
        "colab": {
          "base_uri": "https://localhost:8080/"
        },
        "id": "i5UPkMgUbogD",
        "outputId": "3a8d8ec5-3e60-4cd8-a081-97b8f38e0801"
      },
      "outputs": [
        {
          "data": {
            "text/plain": [
              "array(['PAIDOFF', 'PAIDOFF', 'COLLECTION', 'PAIDOFF', 'PAIDOFF'],\n",
              "      dtype=object)"
            ]
          },
          "execution_count": 35,
          "metadata": {},
          "output_type": "execute_result"
        }
      ],
      "source": [
        "# evaluate the predictions to see the best k\n",
        "yhat_knn = eKNN.predict(X_test)\n",
        "yhat_knn[0:5]"
      ]
    },
    {
      "cell_type": "markdown",
      "metadata": {
        "id": "IOO4yTyZih-d"
      },
      "source": [
        "### Visualization"
      ]
    },
    {
      "cell_type": "code",
      "execution_count": 36,
      "metadata": {
        "colab": {
          "base_uri": "https://localhost:8080/"
        },
        "id": "GKlkhPqPu-Gm",
        "outputId": "5e1ec22e-4869-467a-ccab-6f4e2eabd027"
      },
      "outputs": [
        {
          "data": {
            "text/plain": [
              "array([66.66666667, 63.33333333, 65.        , 65.        , 70.        ,\n",
              "       66.66666667, 66.66666667, 66.66666667, 68.33333333])"
            ]
          },
          "execution_count": 36,
          "metadata": {},
          "output_type": "execute_result"
        }
      ],
      "source": [
        "# foreach k we will fit and predict the score of all k's\n",
        "Ks = 10\n",
        "mean_acc = np.zeros((Ks - 1))\n",
        "std_acc = np.zeros((Ks - 1))\n",
        "ConfusionMx = []\n",
        "\n",
        "for k in range(1, Ks):\n",
        "\n",
        "    kNN_type = KNeighborsClassifier(n_neighbors=k).fit(X_train, y_train)\n",
        "    yhat_knn = kNN_type.predict(X_test)\n",
        "\n",
        "    mean_acc[k - 1] = np.mean(yhat_knn == y_test)\n",
        "\n",
        "    std_acc[k - 1] = np.std(yhat_knn == y_test) / np.sqrt(yhat_knn.shape[0])\n",
        "mean_acc * 100"
      ]
    },
    {
      "cell_type": "code",
      "execution_count": 37,
      "metadata": {
        "colab": {
          "base_uri": "https://localhost:8080/",
          "height": 314
        },
        "id": "0q-4HI57W3X4",
        "outputId": "ca81aff0-2fb1-4d3b-93e9-e515aa2203d7"
      },
      "outputs": [
        {
          "data": {
            "image/png": "[encoded data removed]",
            "text/plain": [
              "<Figure size 640x480 with 1 Axes>"
            ]
          },
          "metadata": {},
          "output_type": "display_data"
        },
        {
          "name": "stdout",
          "output_type": "stream",
          "text": [
            "The best accuracy was 70 % with k= 5\n"
          ]
        }
      ],
      "source": [
        "plt.plot(range(1, Ks), mean_acc, \"g\")\n",
        "plt.fill_between(\n",
        "    range(1, Ks), mean_acc - 1 * std_acc, mean_acc + 1 * std_acc, alpha=0.10\n",
        ")\n",
        "plt.legend((\"Accuracy \", \"+/­ 3xstd\"))\n",
        "plt.ylabel(\"Accuracy \")\n",
        "plt.xlabel(\"Number of Neighbors (K)\")\n",
        "plt.tight_layout()\n",
        "plt.show()\n",
        "best_k = mean_acc.argmax() + 1\n",
        "print(\"The best accuracy was\", int(mean_acc.max() * 100), \"% with k=\", best_k)"
      ]
    },
    {
      "cell_type": "markdown",
      "metadata": {
        "id": "giLOXd62J07Q"
      },
      "source": [
        "### Modeling"
      ]
    },
    {
      "cell_type": "code",
      "execution_count": 38,
      "metadata": {
        "colab": {
          "base_uri": "https://localhost:8080/"
        },
        "id": "Gbzh9I3wZqPi",
        "outputId": "ab34f246-ab06-47fb-c51b-2594674f3d5a"
      },
      "outputs": [
        {
          "data": {
            "text/html": [
              "<style>#sk-container-id-2 {color: black;background-color: white;}#sk-container-id-2 pre{padding: 0;}#sk-container-id-2 div.sk-toggleable {background-color: white;}#sk-container-id-2 label.sk-toggleable__label {cursor: pointer;display: block;width: 100%;margin-bottom: 0;padding: 0.3em;box-sizing: border-box;text-align: center;}#sk-container-id-2 label.sk-toggleable__label-arrow:before {content: \"▸\";float: left;margin-right: 0.25em;color: #696969;}#sk-container-id-2 label.sk-toggleable__label-arrow:hover:before {color: black;}#sk-container-id-2 div.sk-estimator:hover label.sk-toggleable__label-arrow:before {color: black;}#sk-container-id-2 div.sk-toggleable__content {max-height: 0;max-width: 0;overflow: hidden;text-align: left;background-color: #f0f8ff;}#sk-container-id-2 div.sk-toggleable__content pre {margin: 0.2em;color: black;border-radius: 0.25em;background-color: #f0f8ff;}#sk-container-id-2 input.sk-toggleable__control:checked~div.sk-toggleable__content {max-height: 200px;max-width: 100%;overflow: auto;}#sk-container-id-2 input.sk-toggleable__control:checked~label.sk-toggleable__label-arrow:before {content: \"▾\";}#sk-container-id-2 div.sk-estimator input.sk-toggleable__control:checked~label.sk-toggleable__label {background-color: #d4ebff;}#sk-container-id-2 div.sk-label input.sk-toggleable__control:checked~label.sk-toggleable__label {background-color: #d4ebff;}#sk-container-id-2 input.sk-hidden--visually {border: 0;clip: rect(1px 1px 1px 1px);clip: rect(1px, 1px, 1px, 1px);height: 1px;margin: -1px;overflow: hidden;padding: 0;position: absolute;width: 1px;}#sk-container-id-2 div.sk-estimator {font-family: monospace;background-color: #f0f8ff;border: 1px dotted black;border-radius: 0.25em;box-sizing: border-box;margin-bottom: 0.5em;}#sk-container-id-2 div.sk-estimator:hover {background-color: #d4ebff;}#sk-container-id-2 div.sk-parallel-item::after {content: \"\";width: 100%;border-bottom: 1px solid gray;flex-grow: 1;}#sk-container-id-2 div.sk-label:hover label.sk-toggleable__label {background-color: #d4ebff;}#sk-container-id-2 div.sk-serial::before {content: \"\";position: absolute;border-left: 1px solid gray;box-sizing: border-box;top: 0;bottom: 0;left: 50%;z-index: 0;}#sk-container-id-2 div.sk-serial {display: flex;flex-direction: column;align-items: center;background-color: white;padding-right: 0.2em;padding-left: 0.2em;position: relative;}#sk-container-id-2 div.sk-item {position: relative;z-index: 1;}#sk-container-id-2 div.sk-parallel {display: flex;align-items: stretch;justify-content: center;background-color: white;position: relative;}#sk-container-id-2 div.sk-item::before, #sk-container-id-2 div.sk-parallel-item::before {content: \"\";position: absolute;border-left: 1px solid gray;box-sizing: border-box;top: 0;bottom: 0;left: 50%;z-index: -1;}#sk-container-id-2 div.sk-parallel-item {display: flex;flex-direction: column;z-index: 1;position: relative;background-color: white;}#sk-container-id-2 div.sk-parallel-item:first-child::after {align-self: flex-end;width: 50%;}#sk-container-id-2 div.sk-parallel-item:last-child::after {align-self: flex-start;width: 50%;}#sk-container-id-2 div.sk-parallel-item:only-child::after {width: 0;}#sk-container-id-2 div.sk-dashed-wrapped {border: 1px dashed gray;margin: 0 0.4em 0.5em 0.4em;box-sizing: border-box;padding-bottom: 0.4em;background-color: white;}#sk-container-id-2 div.sk-label label {font-family: monospace;font-weight: bold;display: inline-block;line-height: 1.2em;}#sk-container-id-2 div.sk-label-container {text-align: center;}#sk-container-id-2 div.sk-container {/* jupyter's `normalize.less` sets `[hidden] { display: none; }` but bootstrap.min.css set `[hidden] { display: none !important; }` so we also need the `!important` here to be able to override the default hidden behavior on the sphinx rendered scikit-learn.org. See: https://github.com/scikit-learn/scikit-learn/issues/21755 */display: inline-block !important;position: relative;}#sk-container-id-2 div.sk-text-repr-fallback {display: none;}</style><div id=\"sk-container-id-2\" class=\"sk-top-container\"><div class=\"sk-text-repr-fallback\"><pre>KNeighborsClassifier()</pre><b>In a Jupyter environment, please rerun this cell to show the HTML representation or trust the notebook. <br />On GitHub, the HTML representation is unable to render, please try loading this page with nbviewer.org.</b></div><div class=\"sk-container\" hidden><div class=\"sk-item\"><div class=\"sk-estimator sk-toggleable\"><input class=\"sk-toggleable__control sk-hidden--visually\" id=\"sk-estimator-id-2\" type=\"checkbox\" checked><label for=\"sk-estimator-id-2\" class=\"sk-toggleable__label sk-toggleable__label-arrow\">KNeighborsClassifier</label><div class=\"sk-toggleable__content\"><pre>KNeighborsClassifier()</pre></div></div></div></div></div>"
            ],
            "text/plain": [
              "KNeighborsClassifier()"
            ]
          },
          "execution_count": 38,
          "metadata": {},
          "output_type": "execute_result"
        }
      ],
      "source": [
        "k = best_k\n",
        "eKNN = KNeighborsClassifier(n_neighbors=k).fit(X_train, y_train)\n",
        "eKNN"
      ]
    },
    {
      "cell_type": "markdown",
      "metadata": {
        "id": "qLmtTy2mih-j"
      },
      "source": [
        "### Evaluate KNN Predict"
      ]
    },
    {
      "cell_type": "code",
      "execution_count": 39,
      "metadata": {
        "id": "Vp6eoHIaih-j"
      },
      "outputs": [],
      "source": [
        "yhat_knn_pred = eKNN.predict(X_test)\n",
        "yhat_prob_knn = eKNN.predict_proba(X_test)"
      ]
    },
    {
      "cell_type": "markdown",
      "metadata": {
        "id": "XFU-dQQUih-j"
      },
      "source": [
        "### KNN Model Accuracy"
      ]
    },
    {
      "cell_type": "code",
      "execution_count": 40,
      "metadata": {
        "id": "iQNSTsem87ye"
      },
      "outputs": [],
      "source": [
        "def plot_confusion_matrix(cm, classes,\n",
        "                          normalize=False,\n",
        "                          title='Confusion matrix',\n",
        "                          cmap=plt.cm.gist_yarg):\n",
        "    \"\"\"\n",
        "    This function prints and plots the confusion matrix.\n",
        "    Normalization can be applied by setting `normalize=True`.\n",
        "    \"\"\"\n",
        "    if normalize:\n",
        "        cm = cm.astype('float') / cm.sum(axis=1)[:, np.newaxis]\n",
        "        print(\"Normalized confusion matrix\")\n",
        "    else:\n",
        "        print('Confusion matrix, without normalization')\n",
        "\n",
        "    print(cm)\n",
        "\n",
        "    plt.imshow(cm, interpolation='nearest', cmap=cmap)\n",
        "    plt.title(title)\n",
        "    plt.colorbar()\n",
        "    tick_marks = np.arange(len(classes))\n",
        "    plt.xticks(tick_marks, classes, rotation=45)\n",
        "    plt.yticks(tick_marks, classes)\n",
        "\n",
        "    fmt = '.2f' if normalize else 'd'\n",
        "    thresh = cm.max() / 2.\n",
        "    for i, j in itertools.product(range(cm.shape[0]), range(cm.shape[1])):\n",
        "        plt.text(j, i, format(cm[i, j], fmt),\n",
        "                 horizontalalignment=\"center\",\n",
        "                 color=\"white\" if cm[i, j] > thresh else \"black\")\n",
        "\n",
        "    plt.tight_layout()\n",
        "    plt.ylabel('True label')\n",
        "    plt.xlabel('Predicted label')"
      ]
    },
    {
      "cell_type": "code",
      "execution_count": 42,
      "metadata": {
        "colab": {
          "base_uri": "https://localhost:8080/",
          "height": 363
        },
        "id": "z7UvkPgK9E34",
        "outputId": "afd5570e-7b01-4804-af7f-7438f1228940"
      },
      "outputs": [
        {
          "name": "stdout",
          "output_type": "stream",
          "text": [
            "Confusion matrix, without normalization\n",
            "[[37 10]\n",
            " [ 8  5]]\n"
          ]
        },
        {
          "data": {
            "image/png": "[encoded data removed]",
            "text/plain": [
              "<Figure size 640x480 with 2 Axes>"
            ]
          },
          "metadata": {},
          "output_type": "display_data"
        }
      ],
      "source": [
        "from sklearn.metrics import confusion_matrix\n",
        "import itertools\n",
        "\n",
        "cmKNN = confusion_matrix(y_test, yhat_knn_pred, labels=['PAIDOFF','COLLECTION'])\n",
        "np.set_printoptions(precision=2)\n",
        "\n",
        "\n",
        "# Plot non-normalized confusion matrix\n",
        "plt.figure()\n",
        "plot_confusion_matrix(cmKNN, classes=['PAIDOFF', 'COLLECTION'], normalize= False, title='Confusion matrix')"
      ]
    },
    {
      "attachments": {},
      "cell_type": "markdown",
      "metadata": {},
      "source": [
        "### HERE"
      ]
    },
    {
      "cell_type": "code",
      "execution_count": 52,
      "metadata": {
        "colab": {
          "base_uri": "https://localhost:8080/",
          "height": 334
        },
        "id": "AYhGk8GVgVte",
        "outputId": "705d212b-080d-46f9-e5e9-c538541bbccf"
      },
      "outputs": [
        {
          "ename": "ImportError",
          "evalue": "cannot import name 'plot_roc_curve' from 'sklearn.metrics' (c:\\Users\\util\\anaconda3\\envs\\DS\\lib\\site-packages\\sklearn\\metrics\\__init__.py)",
          "output_type": "error",
          "traceback": [
            "\u001b[1;31m---------------------------------------------------------------------------\u001b[0m",
            "\u001b[1;31mImportError\u001b[0m                               Traceback (most recent call last)",
            "Cell \u001b[1;32mIn[52], line 2\u001b[0m\n\u001b[0;32m      1\u001b[0m \u001b[39mfrom\u001b[39;00m \u001b[39msklearn\u001b[39;00m \u001b[39mimport\u001b[39;00m metrics\n\u001b[1;32m----> 2\u001b[0m \u001b[39mfrom\u001b[39;00m \u001b[39msklearn\u001b[39;00m\u001b[39m.\u001b[39;00m\u001b[39mmetrics\u001b[39;00m \u001b[39mimport\u001b[39;00m plot_roc_curve\n\u001b[0;32m      4\u001b[0m metrics\u001b[39m.\u001b[39mplot_roc_curve(eKNN, X_test, y_test)\n\u001b[0;32m      5\u001b[0m plt\u001b[39m.\u001b[39mshow()\n",
            "\u001b[1;31mImportError\u001b[0m: cannot import name 'plot_roc_curve' from 'sklearn.metrics' (c:\\Users\\util\\anaconda3\\envs\\DS\\lib\\site-packages\\sklearn\\metrics\\__init__.py)"
          ]
        }
      ],
      "source": [
        "# from sklearn import metrics\n",
        "# from sklearn.metrics import plot_roc_curve\n",
        "# from scikitplot.metrics import plot_roc_curve\n",
        "# from sklearn.metrics import RocCurveDisplay\n",
        "\n",
        "metrics.plot_roc_curve(eKNN, X_test, y_test)\n",
        "plt.show()"
      ]
    },
    {
      "cell_type": "code",
      "execution_count": 54,
      "metadata": {
        "colab": {
          "base_uri": "https://localhost:8080/"
        },
        "id": "Dl34-FB7-7TL",
        "outputId": "7490b76d-7bf7-41c2-f2e0-f810633fe74a"
      },
      "outputs": [
        {
          "name": "stdout",
          "output_type": "stream",
          "text": [
            "KNN - Logloss é: 2.21\n",
            "KNN - Jaccard para PAIDOFF é: 0.67\n",
            "KNN - Jaccard para COLLECTION é: 0.22\n",
            "              precision    recall  f1-score   support\n",
            "\n",
            "  COLLECTION       0.33      0.38      0.36        13\n",
            "     PAIDOFF       0.82      0.79      0.80        47\n",
            "\n",
            "    accuracy                           0.70        60\n",
            "   macro avg       0.58      0.59      0.58        60\n",
            "weighted avg       0.72      0.70      0.71        60\n",
            "\n"
          ]
        }
      ],
      "source": [
        "from sklearn.metrics import log_loss, jaccard_score, classification_report #, f1_score, accuracy_score, roc_curve, roc_auc_score, plot_roc_curve\n",
        "#from matplotlib.pyplot import matshow\n",
        "\n",
        "print (\"KNN - Logloss é: %.2f\" % log_loss(y_test, yhat_prob_knn))\n",
        "print (\"KNN - Jaccard para PAIDOFF é: %.2f\" % jaccard_score(y_test, yhat_knn_pred, pos_label='PAIDOFF'))\n",
        "print (\"KNN - Jaccard para COLLECTION é: %.2f\" % jaccard_score(y_test, yhat_knn_pred, pos_label='COLLECTION'))\n",
        "print (classification_report(y_test, yhat_knn_pred))"
      ]
    },
    {
      "cell_type": "markdown",
      "metadata": {
        "id": "JIYwNa5VjzvL"
      },
      "source": [
        "## Árvore de Decisão"
      ]
    },
    {
      "cell_type": "markdown",
      "metadata": {
        "id": "6YxGGa3Jj4Ss"
      },
      "source": [
        "### Modeling"
      ]
    },
    {
      "cell_type": "code",
      "execution_count": 55,
      "metadata": {
        "colab": {
          "base_uri": "https://localhost:8080/"
        },
        "id": "O5-8jxyjj9H2",
        "outputId": "a4edb7e4-a562-4767-f6b9-65ef2a562ddd"
      },
      "outputs": [
        {
          "data": {
            "text/html": [
              "<style>#sk-container-id-3 {color: black;background-color: white;}#sk-container-id-3 pre{padding: 0;}#sk-container-id-3 div.sk-toggleable {background-color: white;}#sk-container-id-3 label.sk-toggleable__label {cursor: pointer;display: block;width: 100%;margin-bottom: 0;padding: 0.3em;box-sizing: border-box;text-align: center;}#sk-container-id-3 label.sk-toggleable__label-arrow:before {content: \"▸\";float: left;margin-right: 0.25em;color: #696969;}#sk-container-id-3 label.sk-toggleable__label-arrow:hover:before {color: black;}#sk-container-id-3 div.sk-estimator:hover label.sk-toggleable__label-arrow:before {color: black;}#sk-container-id-3 div.sk-toggleable__content {max-height: 0;max-width: 0;overflow: hidden;text-align: left;background-color: #f0f8ff;}#sk-container-id-3 div.sk-toggleable__content pre {margin: 0.2em;color: black;border-radius: 0.25em;background-color: #f0f8ff;}#sk-container-id-3 input.sk-toggleable__control:checked~div.sk-toggleable__content {max-height: 200px;max-width: 100%;overflow: auto;}#sk-container-id-3 input.sk-toggleable__control:checked~label.sk-toggleable__label-arrow:before {content: \"▾\";}#sk-container-id-3 div.sk-estimator input.sk-toggleable__control:checked~label.sk-toggleable__label {background-color: #d4ebff;}#sk-container-id-3 div.sk-label input.sk-toggleable__control:checked~label.sk-toggleable__label {background-color: #d4ebff;}#sk-container-id-3 input.sk-hidden--visually {border: 0;clip: rect(1px 1px 1px 1px);clip: rect(1px, 1px, 1px, 1px);height: 1px;margin: -1px;overflow: hidden;padding: 0;position: absolute;width: 1px;}#sk-container-id-3 div.sk-estimator {font-family: monospace;background-color: #f0f8ff;border: 1px dotted black;border-radius: 0.25em;box-sizing: border-box;margin-bottom: 0.5em;}#sk-container-id-3 div.sk-estimator:hover {background-color: #d4ebff;}#sk-container-id-3 div.sk-parallel-item::after {content: \"\";width: 100%;border-bottom: 1px solid gray;flex-grow: 1;}#sk-container-id-3 div.sk-label:hover label.sk-toggleable__label {background-color: #d4ebff;}#sk-container-id-3 div.sk-serial::before {content: \"\";position: absolute;border-left: 1px solid gray;box-sizing: border-box;top: 0;bottom: 0;left: 50%;z-index: 0;}#sk-container-id-3 div.sk-serial {display: flex;flex-direction: column;align-items: center;background-color: white;padding-right: 0.2em;padding-left: 0.2em;position: relative;}#sk-container-id-3 div.sk-item {position: relative;z-index: 1;}#sk-container-id-3 div.sk-parallel {display: flex;align-items: stretch;justify-content: center;background-color: white;position: relative;}#sk-container-id-3 div.sk-item::before, #sk-container-id-3 div.sk-parallel-item::before {content: \"\";position: absolute;border-left: 1px solid gray;box-sizing: border-box;top: 0;bottom: 0;left: 50%;z-index: -1;}#sk-container-id-3 div.sk-parallel-item {display: flex;flex-direction: column;z-index: 1;position: relative;background-color: white;}#sk-container-id-3 div.sk-parallel-item:first-child::after {align-self: flex-end;width: 50%;}#sk-container-id-3 div.sk-parallel-item:last-child::after {align-self: flex-start;width: 50%;}#sk-container-id-3 div.sk-parallel-item:only-child::after {width: 0;}#sk-container-id-3 div.sk-dashed-wrapped {border: 1px dashed gray;margin: 0 0.4em 0.5em 0.4em;box-sizing: border-box;padding-bottom: 0.4em;background-color: white;}#sk-container-id-3 div.sk-label label {font-family: monospace;font-weight: bold;display: inline-block;line-height: 1.2em;}#sk-container-id-3 div.sk-label-container {text-align: center;}#sk-container-id-3 div.sk-container {/* jupyter's `normalize.less` sets `[hidden] { display: none; }` but bootstrap.min.css set `[hidden] { display: none !important; }` so we also need the `!important` here to be able to override the default hidden behavior on the sphinx rendered scikit-learn.org. See: https://github.com/scikit-learn/scikit-learn/issues/21755 */display: inline-block !important;position: relative;}#sk-container-id-3 div.sk-text-repr-fallback {display: none;}</style><div id=\"sk-container-id-3\" class=\"sk-top-container\"><div class=\"sk-text-repr-fallback\"><pre>DecisionTreeClassifier(criterion=&#x27;entropy&#x27;, max_depth=4)</pre><b>In a Jupyter environment, please rerun this cell to show the HTML representation or trust the notebook. <br />On GitHub, the HTML representation is unable to render, please try loading this page with nbviewer.org.</b></div><div class=\"sk-container\" hidden><div class=\"sk-item\"><div class=\"sk-estimator sk-toggleable\"><input class=\"sk-toggleable__control sk-hidden--visually\" id=\"sk-estimator-id-3\" type=\"checkbox\" checked><label for=\"sk-estimator-id-3\" class=\"sk-toggleable__label sk-toggleable__label-arrow\">DecisionTreeClassifier</label><div class=\"sk-toggleable__content\"><pre>DecisionTreeClassifier(criterion=&#x27;entropy&#x27;, max_depth=4)</pre></div></div></div></div></div>"
            ],
            "text/plain": [
              "DecisionTreeClassifier(criterion='entropy', max_depth=4)"
            ]
          },
          "execution_count": 55,
          "metadata": {},
          "output_type": "execute_result"
        }
      ],
      "source": [
        "from sklearn.tree import DecisionTreeClassifier\n",
        "\n",
        "eTree = DecisionTreeClassifier(criterion=\"entropy\", max_depth = 4)\n",
        "eTree"
      ]
    },
    {
      "cell_type": "code",
      "execution_count": 56,
      "metadata": {
        "colab": {
          "base_uri": "https://localhost:8080/"
        },
        "id": "MswXcZpUih-e",
        "outputId": "96adee2c-5c18-4b23-811f-50c1beedeb61"
      },
      "outputs": [
        {
          "data": {
            "text/html": [
              "<style>#sk-container-id-4 {color: black;background-color: white;}#sk-container-id-4 pre{padding: 0;}#sk-container-id-4 div.sk-toggleable {background-color: white;}#sk-container-id-4 label.sk-toggleable__label {cursor: pointer;display: block;width: 100%;margin-bottom: 0;padding: 0.3em;box-sizing: border-box;text-align: center;}#sk-container-id-4 label.sk-toggleable__label-arrow:before {content: \"▸\";float: left;margin-right: 0.25em;color: #696969;}#sk-container-id-4 label.sk-toggleable__label-arrow:hover:before {color: black;}#sk-container-id-4 div.sk-estimator:hover label.sk-toggleable__label-arrow:before {color: black;}#sk-container-id-4 div.sk-toggleable__content {max-height: 0;max-width: 0;overflow: hidden;text-align: left;background-color: #f0f8ff;}#sk-container-id-4 div.sk-toggleable__content pre {margin: 0.2em;color: black;border-radius: 0.25em;background-color: #f0f8ff;}#sk-container-id-4 input.sk-toggleable__control:checked~div.sk-toggleable__content {max-height: 200px;max-width: 100%;overflow: auto;}#sk-container-id-4 input.sk-toggleable__control:checked~label.sk-toggleable__label-arrow:before {content: \"▾\";}#sk-container-id-4 div.sk-estimator input.sk-toggleable__control:checked~label.sk-toggleable__label {background-color: #d4ebff;}#sk-container-id-4 div.sk-label input.sk-toggleable__control:checked~label.sk-toggleable__label {background-color: #d4ebff;}#sk-container-id-4 input.sk-hidden--visually {border: 0;clip: rect(1px 1px 1px 1px);clip: rect(1px, 1px, 1px, 1px);height: 1px;margin: -1px;overflow: hidden;padding: 0;position: absolute;width: 1px;}#sk-container-id-4 div.sk-estimator {font-family: monospace;background-color: #f0f8ff;border: 1px dotted black;border-radius: 0.25em;box-sizing: border-box;margin-bottom: 0.5em;}#sk-container-id-4 div.sk-estimator:hover {background-color: #d4ebff;}#sk-container-id-4 div.sk-parallel-item::after {content: \"\";width: 100%;border-bottom: 1px solid gray;flex-grow: 1;}#sk-container-id-4 div.sk-label:hover label.sk-toggleable__label {background-color: #d4ebff;}#sk-container-id-4 div.sk-serial::before {content: \"\";position: absolute;border-left: 1px solid gray;box-sizing: border-box;top: 0;bottom: 0;left: 50%;z-index: 0;}#sk-container-id-4 div.sk-serial {display: flex;flex-direction: column;align-items: center;background-color: white;padding-right: 0.2em;padding-left: 0.2em;position: relative;}#sk-container-id-4 div.sk-item {position: relative;z-index: 1;}#sk-container-id-4 div.sk-parallel {display: flex;align-items: stretch;justify-content: center;background-color: white;position: relative;}#sk-container-id-4 div.sk-item::before, #sk-container-id-4 div.sk-parallel-item::before {content: \"\";position: absolute;border-left: 1px solid gray;box-sizing: border-box;top: 0;bottom: 0;left: 50%;z-index: -1;}#sk-container-id-4 div.sk-parallel-item {display: flex;flex-direction: column;z-index: 1;position: relative;background-color: white;}#sk-container-id-4 div.sk-parallel-item:first-child::after {align-self: flex-end;width: 50%;}#sk-container-id-4 div.sk-parallel-item:last-child::after {align-self: flex-start;width: 50%;}#sk-container-id-4 div.sk-parallel-item:only-child::after {width: 0;}#sk-container-id-4 div.sk-dashed-wrapped {border: 1px dashed gray;margin: 0 0.4em 0.5em 0.4em;box-sizing: border-box;padding-bottom: 0.4em;background-color: white;}#sk-container-id-4 div.sk-label label {font-family: monospace;font-weight: bold;display: inline-block;line-height: 1.2em;}#sk-container-id-4 div.sk-label-container {text-align: center;}#sk-container-id-4 div.sk-container {/* jupyter's `normalize.less` sets `[hidden] { display: none; }` but bootstrap.min.css set `[hidden] { display: none !important; }` so we also need the `!important` here to be able to override the default hidden behavior on the sphinx rendered scikit-learn.org. See: https://github.com/scikit-learn/scikit-learn/issues/21755 */display: inline-block !important;position: relative;}#sk-container-id-4 div.sk-text-repr-fallback {display: none;}</style><div id=\"sk-container-id-4\" class=\"sk-top-container\"><div class=\"sk-text-repr-fallback\"><pre>DecisionTreeClassifier(criterion=&#x27;entropy&#x27;, max_depth=4)</pre><b>In a Jupyter environment, please rerun this cell to show the HTML representation or trust the notebook. <br />On GitHub, the HTML representation is unable to render, please try loading this page with nbviewer.org.</b></div><div class=\"sk-container\" hidden><div class=\"sk-item\"><div class=\"sk-estimator sk-toggleable\"><input class=\"sk-toggleable__control sk-hidden--visually\" id=\"sk-estimator-id-4\" type=\"checkbox\" checked><label for=\"sk-estimator-id-4\" class=\"sk-toggleable__label sk-toggleable__label-arrow\">DecisionTreeClassifier</label><div class=\"sk-toggleable__content\"><pre>DecisionTreeClassifier(criterion=&#x27;entropy&#x27;, max_depth=4)</pre></div></div></div></div></div>"
            ],
            "text/plain": [
              "DecisionTreeClassifier(criterion='entropy', max_depth=4)"
            ]
          },
          "execution_count": 56,
          "metadata": {},
          "output_type": "execute_result"
        }
      ],
      "source": [
        "eTree.fit(X_train, y_train)"
      ]
    },
    {
      "cell_type": "markdown",
      "metadata": {
        "id": "YcfNQYWokMyj"
      },
      "source": [
        "### Visualization"
      ]
    },
    {
      "cell_type": "code",
      "execution_count": 57,
      "metadata": {
        "id": "XV1hiEsOkZsD"
      },
      "outputs": [
        {
          "ename": "ModuleNotFoundError",
          "evalue": "No module named 'pydotplus'",
          "output_type": "error",
          "traceback": [
            "\u001b[1;31m---------------------------------------------------------------------------\u001b[0m",
            "\u001b[1;31mModuleNotFoundError\u001b[0m                       Traceback (most recent call last)",
            "Cell \u001b[1;32mIn[57], line 2\u001b[0m\n\u001b[0;32m      1\u001b[0m \u001b[39mfrom\u001b[39;00m  \u001b[39mio\u001b[39;00m \u001b[39mimport\u001b[39;00m StringIO\n\u001b[1;32m----> 2\u001b[0m \u001b[39mimport\u001b[39;00m \u001b[39mpydotplus\u001b[39;00m\n\u001b[0;32m      3\u001b[0m \u001b[39mimport\u001b[39;00m \u001b[39mmatplotlib\u001b[39;00m\u001b[39m.\u001b[39;00m\u001b[39mimage\u001b[39;00m \u001b[39mas\u001b[39;00m \u001b[39mmpimg\u001b[39;00m\n\u001b[0;32m      4\u001b[0m \u001b[39mfrom\u001b[39;00m \u001b[39msklearn\u001b[39;00m \u001b[39mimport\u001b[39;00m tree\n",
            "\u001b[1;31mModuleNotFoundError\u001b[0m: No module named 'pydotplus'"
          ]
        }
      ],
      "source": [
        "from  io import StringIO\n",
        "import pydotplus\n",
        "import matplotlib.image as mpimg\n",
        "from sklearn import tree"
      ]
    },
    {
      "cell_type": "code",
      "execution_count": null,
      "metadata": {
        "colab": {
          "base_uri": "https://localhost:8080/",
          "height": 998
        },
        "id": "BVwnhI9Wkfxt",
        "outputId": "e71260a7-c499-4f8b-a9c9-de32a8755aa4"
      },
      "outputs": [
        {
          "ename": "",
          "evalue": "",
          "output_type": "error",
          "traceback": [
            "\u001b[1;31mRunning cells with 'DL' requires ipykernel package.\n",
            "\u001b[1;31mRun the following command to install 'ipykernel' into the Python environment. \n",
            "\u001b[1;31mCommand: 'conda install -n DL ipykernel --update-deps --force-reinstall'"
          ]
        }
      ],
      "source": [
        "dot_data = StringIO()\n",
        "filename = \"eTree.png\"\n",
        "featureNames = Feature.columns[0:10]\n",
        "out=tree.export_graphviz(eTree, feature_names=featureNames, out_file=dot_data, class_names= np.unique(y_train), filled=True,  special_characters=True, rotate=False)\n",
        "graph = pydotplus.graph_from_dot_data(dot_data.getvalue())  \n",
        "graph.write_png(filename)\n",
        "img = mpimg.imread(filename)\n",
        "plt.figure(figsize=(100, 200))\n",
        "plt.imshow(img,interpolation='nearest')"
      ]
    },
    {
      "cell_type": "markdown",
      "metadata": {
        "id": "JRZdpbL4ih-k"
      },
      "source": [
        "### Evaluate DT Predict"
      ]
    },
    {
      "cell_type": "code",
      "execution_count": null,
      "metadata": {
        "id": "Bhx8M_C6ih-k"
      },
      "outputs": [
        {
          "ename": "",
          "evalue": "",
          "output_type": "error",
          "traceback": [
            "\u001b[1;31mRunning cells with 'DL' requires ipykernel package.\n",
            "\u001b[1;31mRun the following command to install 'ipykernel' into the Python environment. \n",
            "\u001b[1;31mCommand: 'conda install -n DL ipykernel --update-deps --force-reinstall'"
          ]
        }
      ],
      "source": [
        "yhat_dt_pred = eTree.predict(X_test)\n",
        "yhat_prob_dt = eTree.predict_proba(X_test)"
      ]
    },
    {
      "cell_type": "markdown",
      "metadata": {
        "id": "jFi0k7jeih-k"
      },
      "source": [
        "### DT Model Accuracy"
      ]
    },
    {
      "cell_type": "code",
      "execution_count": null,
      "metadata": {
        "id": "odQ6cFsMDA2e"
      },
      "outputs": [
        {
          "ename": "",
          "evalue": "",
          "output_type": "error",
          "traceback": [
            "\u001b[1;31mRunning cells with 'DL' requires ipykernel package.\n",
            "\u001b[1;31mRun the following command to install 'ipykernel' into the Python environment. \n",
            "\u001b[1;31mCommand: 'conda install -n DL ipykernel --update-deps --force-reinstall'"
          ]
        }
      ],
      "source": [
        "def plot_confusion_matrix(cm, classes,\n",
        "                          normalize=False,\n",
        "                          title='Confusion matrix',\n",
        "                          cmap=plt.cm.gist_yarg):\n",
        "    \"\"\"\n",
        "    This function prints and plots the confusion matrix.\n",
        "    Normalization can be applied by setting `normalize=True`.\n",
        "    \"\"\"\n",
        "    if normalize:\n",
        "        cm = cm.astype('float') / cm.sum(axis=1)[:, np.newaxis]\n",
        "        print(\"Normalized confusion matrix\")\n",
        "    else:\n",
        "        print('Confusion matrix, without normalization')\n",
        "\n",
        "    print(cm)\n",
        "\n",
        "    plt.imshow(cm, interpolation='nearest', cmap=cmap)\n",
        "    plt.title(title)\n",
        "    plt.colorbar()\n",
        "    tick_marks = np.arange(len(classes))\n",
        "    plt.xticks(tick_marks, classes, rotation=45)\n",
        "    plt.yticks(tick_marks, classes)\n",
        "\n",
        "    fmt = '.2f' if normalize else 'd'\n",
        "    thresh = cm.max() / 2.\n",
        "    for i, j in itertools.product(range(cm.shape[0]), range(cm.shape[1])):\n",
        "        plt.text(j, i, format(cm[i, j], fmt),\n",
        "                 horizontalalignment=\"center\",\n",
        "                 color=\"white\" if cm[i, j] > thresh else \"black\")\n",
        "\n",
        "    plt.tight_layout()\n",
        "    plt.ylabel('True label')\n",
        "    plt.xlabel('Predicted label')"
      ]
    },
    {
      "cell_type": "code",
      "execution_count": null,
      "metadata": {
        "colab": {
          "base_uri": "https://localhost:8080/",
          "height": 363
        },
        "id": "lPT025dDDA2e",
        "outputId": "fb87c7dc-655e-4b14-ea27-bfb6e3f462d0"
      },
      "outputs": [
        {
          "ename": "",
          "evalue": "",
          "output_type": "error",
          "traceback": [
            "\u001b[1;31mRunning cells with 'DL' requires ipykernel package.\n",
            "\u001b[1;31mRun the following command to install 'ipykernel' into the Python environment. \n",
            "\u001b[1;31mCommand: 'conda install -n DL ipykernel --update-deps --force-reinstall'"
          ]
        }
      ],
      "source": [
        "cmDT = confusion_matrix(y_test, yhat_dt_pred, labels=['PAIDOFF','COLLECTION'])\n",
        "np.set_printoptions(precision=2)\n",
        "\n",
        "\n",
        "# Plot non-normalized confusion matrix\n",
        "plt.figure()\n",
        "plot_confusion_matrix(cmDT, classes=['PAIDOFF','COLLECTION'], normalize= False, title='Confusion matrix')"
      ]
    },
    {
      "cell_type": "code",
      "execution_count": null,
      "metadata": {
        "colab": {
          "base_uri": "https://localhost:8080/",
          "height": 334
        },
        "id": "d9D-zHUeYAvg",
        "outputId": "2fbe9aa4-9d32-44d4-e1d7-dad0e01c8a34"
      },
      "outputs": [
        {
          "ename": "",
          "evalue": "",
          "output_type": "error",
          "traceback": [
            "\u001b[1;31mRunning cells with 'DL' requires ipykernel package.\n",
            "\u001b[1;31mRun the following command to install 'ipykernel' into the Python environment. \n",
            "\u001b[1;31mCommand: 'conda install -n DL ipykernel --update-deps --force-reinstall'"
          ]
        }
      ],
      "source": [
        "metrics.plot_roc_curve(eTree, X_test, y_test)\n",
        "plt.show()"
      ]
    },
    {
      "cell_type": "code",
      "execution_count": null,
      "metadata": {
        "colab": {
          "base_uri": "https://localhost:8080/"
        },
        "id": "WIRrcaNgDA2e",
        "outputId": "194351c3-4d97-4731-93b9-b4f6aa71d40e"
      },
      "outputs": [
        {
          "ename": "",
          "evalue": "",
          "output_type": "error",
          "traceback": [
            "\u001b[1;31mRunning cells with 'DL' requires ipykernel package.\n",
            "\u001b[1;31mRun the following command to install 'ipykernel' into the Python environment. \n",
            "\u001b[1;31mCommand: 'conda install -n DL ipykernel --update-deps --force-reinstall'"
          ]
        }
      ],
      "source": [
        "print (\"DT - Logloss é: %.2f\" % log_loss(y_test, yhat_prob_dt))\n",
        "print (\"DT - Jaccard para PAIDOFF é: %.2f\" % jaccard_score(y_test, yhat_dt_pred, pos_label='PAIDOFF'))\n",
        "print (\"DT - Jaccard para COLLECTION é: %.2f\" % jaccard_score(y_test, yhat_dt_pred, pos_label='COLLECTION'))\n",
        "print (classification_report(y_test, yhat_dt_pred))"
      ]
    },
    {
      "cell_type": "markdown",
      "metadata": {
        "id": "zzKA5K0hofh0"
      },
      "source": [
        "## SVM"
      ]
    },
    {
      "cell_type": "markdown",
      "metadata": {
        "id": "tvZ7-ZT6sGbP"
      },
      "source": [
        "### Modeling"
      ]
    },
    {
      "cell_type": "code",
      "execution_count": null,
      "metadata": {
        "colab": {
          "base_uri": "https://localhost:8080/"
        },
        "id": "2DtLk45-poXH",
        "outputId": "29fb158c-b29f-475d-e92d-ae0e6f072ee2"
      },
      "outputs": [
        {
          "ename": "",
          "evalue": "",
          "output_type": "error",
          "traceback": [
            "\u001b[1;31mRunning cells with 'DL' requires ipykernel package.\n",
            "\u001b[1;31mRun the following command to install 'ipykernel' into the Python environment. \n",
            "\u001b[1;31mCommand: 'conda install -n DL ipykernel --update-deps --force-reinstall'"
          ]
        }
      ],
      "source": [
        "import scipy.optimize as opt\n",
        "from sklearn import svm\n",
        "\n",
        "eSVMrbf = svm.SVC(kernel='rbf')\n",
        "eSVMrbf.fit(X_train, y_train)"
      ]
    },
    {
      "cell_type": "code",
      "execution_count": null,
      "metadata": {
        "colab": {
          "base_uri": "https://localhost:8080/"
        },
        "id": "IPxZOUN-wOgv",
        "outputId": "93dd856e-bf47-4eee-cd42-8759309c37dc"
      },
      "outputs": [
        {
          "ename": "",
          "evalue": "",
          "output_type": "error",
          "traceback": [
            "\u001b[1;31mRunning cells with 'DL' requires ipykernel package.\n",
            "\u001b[1;31mRun the following command to install 'ipykernel' into the Python environment. \n",
            "\u001b[1;31mCommand: 'conda install -n DL ipykernel --update-deps --force-reinstall'"
          ]
        }
      ],
      "source": [
        "eSVMpoly = svm.SVC(kernel='poly')\n",
        "eSVMpoly.fit(X_train, y_train)"
      ]
    },
    {
      "cell_type": "code",
      "execution_count": null,
      "metadata": {
        "colab": {
          "base_uri": "https://localhost:8080/"
        },
        "id": "z9TSjpCuwQME",
        "outputId": "bff9ee4c-7176-4114-a108-3781aa8f6653"
      },
      "outputs": [],
      "source": [
        "eSVMsig = svm.SVC(kernel='sigmoid')\n",
        "eSVMsig.fit(X_train, y_train)"
      ]
    },
    {
      "cell_type": "markdown",
      "metadata": {
        "id": "kVwRx7sUih-l"
      },
      "source": [
        "### Evaluate SVM Predict"
      ]
    },
    {
      "cell_type": "code",
      "execution_count": null,
      "metadata": {
        "id": "NbWCG1JIih-l"
      },
      "outputs": [],
      "source": [
        "yhat_SVMrbf_pred = eSVMrbf.predict(X_test)\n",
        "yhat_SVMpoly_pred = eSVMpoly.predict(X_test)\n",
        "yhat_SVMsig_pred = eSVMsig.predict(X_test)"
      ]
    },
    {
      "cell_type": "markdown",
      "metadata": {
        "id": "_0bEneeXih-l"
      },
      "source": [
        "### SVM Model Accuracy "
      ]
    },
    {
      "cell_type": "code",
      "execution_count": null,
      "metadata": {
        "id": "KJleMxvbPyDb"
      },
      "outputs": [],
      "source": [
        "def plot_confusion_matrix(cm, classes,\n",
        "                          normalize=False,\n",
        "                          title='Confusion matrix',\n",
        "                          cmap=plt.cm.gist_yarg):\n",
        "    \"\"\"\n",
        "    This function prints and plots the confusion matrix.\n",
        "    Normalization can be applied by setting `normalize=True`.\n",
        "    \"\"\"\n",
        "    if normalize:\n",
        "        cm = cm.astype('float') / cm.sum(axis=1)[:, np.newaxis]\n",
        "        print(\"Normalized confusion matrix\")\n",
        "    else:\n",
        "        print('Confusion matrix, without normalization')\n",
        "\n",
        "    print(cm)\n",
        "\n",
        "    plt.imshow(cm, interpolation='nearest', cmap=cmap)\n",
        "    plt.title(title)\n",
        "    plt.colorbar()\n",
        "    tick_marks = np.arange(len(classes))\n",
        "    plt.xticks(tick_marks, classes, rotation=45)\n",
        "    plt.yticks(tick_marks, classes)\n",
        "\n",
        "    fmt = '.2f' if normalize else 'd'\n",
        "    thresh = cm.max() / 2.\n",
        "    for i, j in itertools.product(range(cm.shape[0]), range(cm.shape[1])):\n",
        "        plt.text(j, i, format(cm[i, j], fmt),\n",
        "                 horizontalalignment=\"center\",\n",
        "                 color=\"white\" if cm[i, j] > thresh else \"black\")\n",
        "\n",
        "    plt.tight_layout()\n",
        "    plt.ylabel('True label')\n",
        "    plt.xlabel('Predicted label')"
      ]
    },
    {
      "cell_type": "code",
      "execution_count": null,
      "metadata": {
        "colab": {
          "base_uri": "https://localhost:8080/",
          "height": 1000
        },
        "id": "NXY4MxUGPyDb",
        "outputId": "c915b017-6bdb-4388-a02f-5bfe5d8cb279"
      },
      "outputs": [
        {
          "ename": "",
          "evalue": "",
          "output_type": "error",
          "traceback": [
            "\u001b[1;31mRunning cells with 'DL' requires ipykernel package.\n",
            "\u001b[1;31mRun the following command to install 'ipykernel' into the Python environment. \n",
            "\u001b[1;31mCommand: 'conda install -n DL ipykernel --update-deps --force-reinstall'"
          ]
        }
      ],
      "source": [
        "cmSVMrbf = confusion_matrix(y_test, yhat_SVMrbf_pred, labels=['PAIDOFF','COLLECTION'])\n",
        "np.set_printoptions(precision=2)\n",
        "\n",
        "\n",
        "# Plot non-normalized confusion matrix\n",
        "plt.figure()\n",
        "plot_confusion_matrix(cmSVMrbf, classes=['PAIDOFF','COLLECTION'], normalize= False, title='Confusion matrix')\n",
        "\n",
        "#############################################################################################################\n",
        "\n",
        "cmSVMrbf = confusion_matrix(y_test, yhat_SVMpoly_pred, labels=['PAIDOFF','COLLECTION'])\n",
        "np.set_printoptions(precision=2)\n",
        "\n",
        "\n",
        "# Plot non-normalized confusion matrix\n",
        "plt.figure()\n",
        "plot_confusion_matrix(cmSVMrbf, classes=['PAIDOFF','COLLECTION'], normalize= False, title='Confusion matrix')\n",
        "\n",
        "#############################################################################################################\n",
        "\n",
        "cmSVMrbf = confusion_matrix(y_test, yhat_SVMsig_pred, labels=['PAIDOFF','COLLECTION'])\n",
        "np.set_printoptions(precision=2)\n",
        "\n",
        "\n",
        "# Plot non-normalized confusion matrix\n",
        "plt.figure()\n",
        "plot_confusion_matrix(cmSVMrbf, classes=['PAIDOFF','COLLECTION'], normalize= False, title='Confusion matrix')\n"
      ]
    },
    {
      "cell_type": "code",
      "execution_count": null,
      "metadata": {
        "colab": {
          "base_uri": "https://localhost:8080/",
          "height": 927
        },
        "id": "CMRbHHXk6yEb",
        "outputId": "3212fbe3-0619-4219-c10c-9b4de3a925d1"
      },
      "outputs": [],
      "source": [
        "metrics.plot_roc_curve(eSVMrbf, X_test, y_test)\n",
        "metrics.plot_roc_curve(eSVMpoly, X_test, y_test)\n",
        "metrics.plot_roc_curve(eSVMsig, X_test, y_test)\n",
        "plt.show()"
      ]
    },
    {
      "cell_type": "code",
      "execution_count": null,
      "metadata": {
        "colab": {
          "base_uri": "https://localhost:8080/"
        },
        "id": "uqy4hFPvPyDb",
        "outputId": "030e169c-94a0-4cc5-d53a-4d9172576413"
      },
      "outputs": [],
      "source": [
        "print('######################################################################')\n",
        "print (\"SVM Radical Basis Function - Jaccard para PAIDOFF é: %.2f\" % jaccard_score(y_test, yhat_SVMrbf_pred, pos_label='PAIDOFF'))\n",
        "print (\"SVM Radical Basis Function - Jaccard para COLLECTION é: %.2f\" % jaccard_score(y_test, yhat_SVMrbf_pred, pos_label='COLLECTION'))\n",
        "print (classification_report(y_test, yhat_SVMrbf_pred))\n",
        "print()\n",
        "\n",
        "print('######################################################################')\n",
        "print (\"SVM Polynomial - Jaccard para PAIDOFF é: %.2f\" % jaccard_score(y_test, yhat_SVMpoly_pred, pos_label='PAIDOFF'))\n",
        "print (\"SVM Polynomial - Jaccard para COLLECTION é: %.2f\" % jaccard_score(y_test, yhat_SVMpoly_pred, pos_label='COLLECTION'))\n",
        "print (classification_report(y_test, yhat_SVMpoly_pred))\n",
        "print()\n",
        "\n",
        "print('######################################################################')\n",
        "print (\"SVM Sigmoid - Jaccard para PAIDOFF é: %.2f\" % jaccard_score(y_test, yhat_SVMsig_pred, pos_label='PAIDOFF'))\n",
        "print (\"SVM Sigmoid - Jaccard para COLLECTION é: %.2f\" % jaccard_score(y_test, yhat_SVMsig_pred, pos_label='COLLECTION'))\n",
        "print (classification_report(y_test, yhat_SVMsig_pred))"
      ]
    },
    {
      "cell_type": "markdown",
      "metadata": {
        "id": "UebCngBQw7ZY"
      },
      "source": [
        "## Regressão Logistica"
      ]
    },
    {
      "cell_type": "markdown",
      "metadata": {
        "id": "lPZO4OfDxk95"
      },
      "source": [
        "### Modeling"
      ]
    },
    {
      "cell_type": "code",
      "execution_count": null,
      "metadata": {
        "colab": {
          "base_uri": "https://localhost:8080/"
        },
        "id": "T6MxBBmwxmsA",
        "outputId": "e28f968b-30f0-4df1-d4c9-1bc21dd5e13d"
      },
      "outputs": [],
      "source": [
        "from sklearn.linear_model import LogisticRegression\n",
        "eLr = LogisticRegression(C=0.01, solver='liblinear').fit(X_train, y_train)\n",
        "eLr"
      ]
    },
    {
      "cell_type": "markdown",
      "metadata": {
        "id": "4Z9-EW2yih-m"
      },
      "source": [
        "### Evaluate LR "
      ]
    },
    {
      "cell_type": "code",
      "execution_count": null,
      "metadata": {
        "id": "pRRpKuuuih-m"
      },
      "outputs": [],
      "source": [
        "yhat_lr_pred = eLr.predict(X_test)\n",
        "yhat_prob_lr = eLr.predict_proba(X_test)\n"
      ]
    },
    {
      "cell_type": "markdown",
      "metadata": {
        "id": "wd_PYpPbih-m"
      },
      "source": [
        "### LR Model Accuracy"
      ]
    },
    {
      "cell_type": "code",
      "execution_count": null,
      "metadata": {
        "colab": {
          "base_uri": "https://localhost:8080/"
        },
        "id": "jOcRYwxypMJr",
        "outputId": "725ce8c8-84dd-4ff4-912b-4f90026c1a55"
      },
      "outputs": [],
      "source": [
        "def plot_confusion_matrix(cm, classes,\n",
        "                          normalize=False,\n",
        "                          title='Confusion matrix',\n",
        "                          cmap=plt.cm.gist_yarg):\n",
        "    \"\"\"\n",
        "    This function prints and plots the confusion matrix.\n",
        "    Normalization can be applied by setting `normalize=True`.\n",
        "    \"\"\"\n",
        "    if normalize:\n",
        "        cm = cm.astype('float') / cm.sum(axis=1)[:, np.newaxis]\n",
        "        print(\"Normalized confusion matrix\")\n",
        "    else:\n",
        "        print('Confusion matrix, without normalization')\n",
        "\n",
        "    print(cm)\n",
        "\n",
        "    plt.imshow(cm, interpolation='nearest', cmap=cmap)\n",
        "    plt.title(title)\n",
        "    plt.colorbar()\n",
        "    tick_marks = np.arange(len(classes))\n",
        "    plt.xticks(tick_marks, classes, rotation=45)\n",
        "    plt.yticks(tick_marks, classes)\n",
        "\n",
        "    fmt = '.2f' if normalize else 'd'\n",
        "    thresh = cm.max() / 2.\n",
        "    for i, j in itertools.product(range(cm.shape[0]), range(cm.shape[1])):\n",
        "        plt.text(j, i, format(cm[i, j], fmt),\n",
        "                 horizontalalignment=\"center\",\n",
        "                 color=\"white\" if cm[i, j] > thresh else \"black\")\n",
        "\n",
        "    plt.tight_layout()\n",
        "    plt.ylabel('True label')\n",
        "    plt.xlabel('Predicted label')\n",
        "print(confusion_matrix(y_test, yhat_lr_pred , labels=['PAIDOFF','COLLECTION']))"
      ]
    },
    {
      "cell_type": "code",
      "execution_count": null,
      "metadata": {
        "colab": {
          "base_uri": "https://localhost:8080/",
          "height": 363
        },
        "id": "bEZPunv90zMi",
        "outputId": "abbdce43-a1e0-44f5-d97b-9fc2ba1ff11e"
      },
      "outputs": [],
      "source": [
        "cmLR = confusion_matrix(y_test, yhat_lr_pred, labels=['PAIDOFF','COLLECTION'])\n",
        "np.set_printoptions(precision=2)\n",
        "\n",
        "\n",
        "# Plot non-normalized confusion matrix\n",
        "plt.figure()\n",
        "plot_confusion_matrix(cmLR, classes=['PAIDOFF','COLLECTION'],normalize= False,  title='Confusion matrix')"
      ]
    },
    {
      "cell_type": "code",
      "execution_count": null,
      "metadata": {
        "colab": {
          "base_uri": "https://localhost:8080/",
          "height": 334
        },
        "id": "ZKVli0PYMwXF",
        "outputId": "389f7bd9-0f65-4383-ed6d-1402e894e1b9"
      },
      "outputs": [],
      "source": [
        "metrics.plot_roc_curve(eLr, X_test, y_test)\n",
        "plt.show()"
      ]
    },
    {
      "cell_type": "code",
      "execution_count": null,
      "metadata": {
        "colab": {
          "base_uri": "https://localhost:8080/"
        },
        "id": "keJ3o5Jiih-m",
        "outputId": "779eb815-266c-4eb0-d7d8-bb67c1162e0e"
      },
      "outputs": [],
      "source": [
        "print (\"LR - Logloss é: %.2f\" % log_loss(y_test, yhat_prob_lr))\n",
        "print (\"LR - Jaccard para PAIDOFF é: %.2f\" % jaccard_score(y_test, yhat_lr_pred, pos_label='PAIDOFF'))\n",
        "print (\"LR - Jaccard para COLLECTION é: %.2f\" % jaccard_score(y_test, yhat_lr_pred, pos_label='COLLECTION'))\n",
        "print (classification_report(y_test, yhat_lr_pred))"
      ]
    }
  ],
  "metadata": {
    "colab": {
      "collapsed_sections": [],
      "name": "Trabalho_SBC(v1).ipynb",
      "provenance": [],
      "toc_visible": true
    },
    "kernelspec": {
      "display_name": "DS",
      "language": "python",
      "name": "python3"
    },
    "language_info": {
      "codemirror_mode": {
        "name": "ipython",
        "version": 3
      },
      "file_extension": ".py",
      "mimetype": "text/x-python",
      "name": "python",
      "nbconvert_exporter": "python",
      "pygments_lexer": "ipython3",
      "version": "3.9.15"
    },
    "vscode": {
      "interpreter": {
        "hash": "b6e06aa152bb5be7cc8a24cf87a0924e79f179e62eb0ed013670794b05e86316"
      }
    }
  },
  "nbformat": 4,
  "nbformat_minor": 0
}

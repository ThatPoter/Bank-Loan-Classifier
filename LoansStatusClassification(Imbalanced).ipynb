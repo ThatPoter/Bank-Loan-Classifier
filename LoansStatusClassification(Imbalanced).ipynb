{
  "cells": [
    {
      "attachments": {},
      "cell_type": "markdown",
      "metadata": {
        "id": "I7N-FbHMFlLV"
      },
      "source": [
        "# Selection, transformation, pre-processing and visualization of data loaded from CSV file"
      ]
    },
    {
      "cell_type": "code",
      "execution_count": 1,
      "metadata": {
        "id": "qVVL08E8FQWK"
      },
      "outputs": [],
      "source": [
        "import pandas as pd\n",
        "import numpy as np\n",
        "from scipy.stats import skew, kurtosis \n",
        "import matplotlib.pyplot as plt\n",
        "import seaborn as sns\n",
        "%matplotlib inline"
      ]
    },
    {
      "attachments": {},
      "cell_type": "markdown",
      "metadata": {},
      "source": [
        "## Let's get to know the data set we are working with"
      ]
    },
    {
      "cell_type": "code",
      "execution_count": 2,
      "metadata": {
        "colab": {
          "base_uri": "https://localhost:8080/",
          "height": 363
        },
        "id": "jILVON7mFkho",
        "outputId": "6444afe8-c78b-4ac6-922d-cabefb26c93e"
      },
      "outputs": [
        {
          "data": {
            "text/html": [
              "<div>\n",
              "<style scoped>\n",
              "    .dataframe tbody tr th:only-of-type {\n",
              "        vertical-align: middle;\n",
              "    }\n",
              "\n",
              "    .dataframe tbody tr th {\n",
              "        vertical-align: top;\n",
              "    }\n",
              "\n",
              "    .dataframe thead th {\n",
              "        text-align: right;\n",
              "    }\n",
              "</style>\n",
              "<table border=\"1\" class=\"dataframe\">\n",
              "  <thead>\n",
              "    <tr style=\"text-align: right;\">\n",
              "      <th></th>\n",
              "      <th>Unnamed: 0</th>\n",
              "      <th>loan_status</th>\n",
              "      <th>Principal</th>\n",
              "      <th>terms</th>\n",
              "      <th>effective_date</th>\n",
              "      <th>due_date</th>\n",
              "      <th>age</th>\n",
              "      <th>education</th>\n",
              "      <th>Gender</th>\n",
              "    </tr>\n",
              "  </thead>\n",
              "  <tbody>\n",
              "    <tr>\n",
              "      <th>272</th>\n",
              "      <td>272</td>\n",
              "      <td>PAIDOFF</td>\n",
              "      <td>1000</td>\n",
              "      <td>30</td>\n",
              "      <td>9/14/2016</td>\n",
              "      <td>11/12/2016</td>\n",
              "      <td>28</td>\n",
              "      <td>college</td>\n",
              "      <td>male</td>\n",
              "    </tr>\n",
              "    <tr>\n",
              "      <th>51</th>\n",
              "      <td>51</td>\n",
              "      <td>PAIDOFF</td>\n",
              "      <td>1000</td>\n",
              "      <td>30</td>\n",
              "      <td>9/11/2016</td>\n",
              "      <td>10/10/2016</td>\n",
              "      <td>35</td>\n",
              "      <td>Bechalor</td>\n",
              "      <td>female</td>\n",
              "    </tr>\n",
              "    <tr>\n",
              "      <th>354</th>\n",
              "      <td>354</td>\n",
              "      <td>COLLECTION</td>\n",
              "      <td>1000</td>\n",
              "      <td>30</td>\n",
              "      <td>9/11/2016</td>\n",
              "      <td>10/10/2016</td>\n",
              "      <td>37</td>\n",
              "      <td>High School or Below</td>\n",
              "      <td>male</td>\n",
              "    </tr>\n",
              "    <tr>\n",
              "      <th>183</th>\n",
              "      <td>183</td>\n",
              "      <td>PAIDOFF</td>\n",
              "      <td>800</td>\n",
              "      <td>15</td>\n",
              "      <td>9/12/2016</td>\n",
              "      <td>9/26/2016</td>\n",
              "      <td>30</td>\n",
              "      <td>High School or Below</td>\n",
              "      <td>male</td>\n",
              "    </tr>\n",
              "    <tr>\n",
              "      <th>395</th>\n",
              "      <td>395</td>\n",
              "      <td>COLLECTION</td>\n",
              "      <td>1000</td>\n",
              "      <td>30</td>\n",
              "      <td>9/11/2016</td>\n",
              "      <td>10/10/2016</td>\n",
              "      <td>25</td>\n",
              "      <td>High School or Below</td>\n",
              "      <td>male</td>\n",
              "    </tr>\n",
              "    <tr>\n",
              "      <th>360</th>\n",
              "      <td>360</td>\n",
              "      <td>COLLECTION</td>\n",
              "      <td>1000</td>\n",
              "      <td>30</td>\n",
              "      <td>9/11/2016</td>\n",
              "      <td>10/10/2016</td>\n",
              "      <td>34</td>\n",
              "      <td>college</td>\n",
              "      <td>male</td>\n",
              "    </tr>\n",
              "    <tr>\n",
              "      <th>65</th>\n",
              "      <td>65</td>\n",
              "      <td>PAIDOFF</td>\n",
              "      <td>900</td>\n",
              "      <td>15</td>\n",
              "      <td>9/11/2016</td>\n",
              "      <td>9/25/2016</td>\n",
              "      <td>28</td>\n",
              "      <td>college</td>\n",
              "      <td>male</td>\n",
              "    </tr>\n",
              "    <tr>\n",
              "      <th>336</th>\n",
              "      <td>336</td>\n",
              "      <td>COLLECTION</td>\n",
              "      <td>1000</td>\n",
              "      <td>30</td>\n",
              "      <td>9/11/2016</td>\n",
              "      <td>10/10/2016</td>\n",
              "      <td>31</td>\n",
              "      <td>college</td>\n",
              "      <td>male</td>\n",
              "    </tr>\n",
              "    <tr>\n",
              "      <th>222</th>\n",
              "      <td>222</td>\n",
              "      <td>PAIDOFF</td>\n",
              "      <td>1000</td>\n",
              "      <td>30</td>\n",
              "      <td>9/12/2016</td>\n",
              "      <td>11/10/2016</td>\n",
              "      <td>29</td>\n",
              "      <td>college</td>\n",
              "      <td>male</td>\n",
              "    </tr>\n",
              "    <tr>\n",
              "      <th>112</th>\n",
              "      <td>112</td>\n",
              "      <td>PAIDOFF</td>\n",
              "      <td>1000</td>\n",
              "      <td>30</td>\n",
              "      <td>9/11/2016</td>\n",
              "      <td>10/10/2016</td>\n",
              "      <td>27</td>\n",
              "      <td>college</td>\n",
              "      <td>male</td>\n",
              "    </tr>\n",
              "  </tbody>\n",
              "</table>\n",
              "</div>"
            ],
            "text/plain": [
              "     Unnamed: 0 loan_status  Principal  terms effective_date    due_date  age  \\\n",
              "272         272     PAIDOFF       1000     30      9/14/2016  11/12/2016   28   \n",
              "51           51     PAIDOFF       1000     30      9/11/2016  10/10/2016   35   \n",
              "354         354  COLLECTION       1000     30      9/11/2016  10/10/2016   37   \n",
              "183         183     PAIDOFF        800     15      9/12/2016   9/26/2016   30   \n",
              "395         395  COLLECTION       1000     30      9/11/2016  10/10/2016   25   \n",
              "360         360  COLLECTION       1000     30      9/11/2016  10/10/2016   34   \n",
              "65           65     PAIDOFF        900     15      9/11/2016   9/25/2016   28   \n",
              "336         336  COLLECTION       1000     30      9/11/2016  10/10/2016   31   \n",
              "222         222     PAIDOFF       1000     30      9/12/2016  11/10/2016   29   \n",
              "112         112     PAIDOFF       1000     30      9/11/2016  10/10/2016   27   \n",
              "\n",
              "                education  Gender  \n",
              "272               college    male  \n",
              "51               Bechalor  female  \n",
              "354  High School or Below    male  \n",
              "183  High School or Below    male  \n",
              "395  High School or Below    male  \n",
              "360               college    male  \n",
              "65                college    male  \n",
              "336               college    male  \n",
              "222               college    male  \n",
              "112               college    male  "
            ]
          },
          "execution_count": 2,
          "metadata": {},
          "output_type": "execute_result"
        }
      ],
      "source": [
        "# Set the seed for reproducible results\n",
        "np.random.seed(123)\n",
        "\n",
        "# Set plot style\n",
        "sns.set_style(\"darkgrid\")\n",
        "\n",
        "# Load the data and get a sample of it\n",
        "df = pd.read_csv(\"loans.csv\", index_col=0)\n",
        "df.sample(10)"
      ]
    },
    {
      "cell_type": "code",
      "execution_count": 3,
      "metadata": {
        "colab": {
          "base_uri": "https://localhost:8080/",
          "height": 300
        },
        "id": "Dd9w_WNITzmH",
        "outputId": "e3e1a90c-75eb-4284-b18e-bf8db14120aa"
      },
      "outputs": [
        {
          "data": {
            "text/html": [
              "<div>\n",
              "<style scoped>\n",
              "    .dataframe tbody tr th:only-of-type {\n",
              "        vertical-align: middle;\n",
              "    }\n",
              "\n",
              "    .dataframe tbody tr th {\n",
              "        vertical-align: top;\n",
              "    }\n",
              "\n",
              "    .dataframe thead th {\n",
              "        text-align: right;\n",
              "    }\n",
              "</style>\n",
              "<table border=\"1\" class=\"dataframe\">\n",
              "  <thead>\n",
              "    <tr style=\"text-align: right;\">\n",
              "      <th></th>\n",
              "      <th>Unnamed: 0</th>\n",
              "      <th>Principal</th>\n",
              "      <th>terms</th>\n",
              "      <th>age</th>\n",
              "    </tr>\n",
              "  </thead>\n",
              "  <tbody>\n",
              "    <tr>\n",
              "      <th>count</th>\n",
              "      <td>400.000000</td>\n",
              "      <td>400.00000</td>\n",
              "      <td>400.000000</td>\n",
              "      <td>400.000000</td>\n",
              "    </tr>\n",
              "    <tr>\n",
              "      <th>mean</th>\n",
              "      <td>199.500000</td>\n",
              "      <td>939.75000</td>\n",
              "      <td>22.550000</td>\n",
              "      <td>31.060000</td>\n",
              "    </tr>\n",
              "    <tr>\n",
              "      <th>std</th>\n",
              "      <td>115.614301</td>\n",
              "      <td>120.33761</td>\n",
              "      <td>8.100094</td>\n",
              "      <td>6.033441</td>\n",
              "    </tr>\n",
              "    <tr>\n",
              "      <th>min</th>\n",
              "      <td>0.000000</td>\n",
              "      <td>300.00000</td>\n",
              "      <td>7.000000</td>\n",
              "      <td>18.000000</td>\n",
              "    </tr>\n",
              "    <tr>\n",
              "      <th>25%</th>\n",
              "      <td>99.750000</td>\n",
              "      <td>800.00000</td>\n",
              "      <td>15.000000</td>\n",
              "      <td>27.000000</td>\n",
              "    </tr>\n",
              "    <tr>\n",
              "      <th>50%</th>\n",
              "      <td>199.500000</td>\n",
              "      <td>1000.00000</td>\n",
              "      <td>30.000000</td>\n",
              "      <td>30.000000</td>\n",
              "    </tr>\n",
              "    <tr>\n",
              "      <th>75%</th>\n",
              "      <td>299.250000</td>\n",
              "      <td>1000.00000</td>\n",
              "      <td>30.000000</td>\n",
              "      <td>35.000000</td>\n",
              "    </tr>\n",
              "    <tr>\n",
              "      <th>max</th>\n",
              "      <td>399.000000</td>\n",
              "      <td>1000.00000</td>\n",
              "      <td>30.000000</td>\n",
              "      <td>51.000000</td>\n",
              "    </tr>\n",
              "  </tbody>\n",
              "</table>\n",
              "</div>"
            ],
            "text/plain": [
              "       Unnamed: 0   Principal       terms         age\n",
              "count  400.000000   400.00000  400.000000  400.000000\n",
              "mean   199.500000   939.75000   22.550000   31.060000\n",
              "std    115.614301   120.33761    8.100094    6.033441\n",
              "min      0.000000   300.00000    7.000000   18.000000\n",
              "25%     99.750000   800.00000   15.000000   27.000000\n",
              "50%    199.500000  1000.00000   30.000000   30.000000\n",
              "75%    299.250000  1000.00000   30.000000   35.000000\n",
              "max    399.000000  1000.00000   30.000000   51.000000"
            ]
          },
          "execution_count": 3,
          "metadata": {},
          "output_type": "execute_result"
        }
      ],
      "source": [
        "# Let's check the summary statistics for numeric features\n",
        "df.describe()"
      ]
    },
    {
      "cell_type": "code",
      "execution_count": 4,
      "metadata": {},
      "outputs": [
        {
          "data": {
            "text/html": [
              "<div>\n",
              "<style scoped>\n",
              "    .dataframe tbody tr th:only-of-type {\n",
              "        vertical-align: middle;\n",
              "    }\n",
              "\n",
              "    .dataframe tbody tr th {\n",
              "        vertical-align: top;\n",
              "    }\n",
              "\n",
              "    .dataframe thead th {\n",
              "        text-align: right;\n",
              "    }\n",
              "</style>\n",
              "<table border=\"1\" class=\"dataframe\">\n",
              "  <thead>\n",
              "    <tr style=\"text-align: right;\">\n",
              "      <th></th>\n",
              "      <th>Principal</th>\n",
              "      <th>terms</th>\n",
              "      <th>age</th>\n",
              "    </tr>\n",
              "  </thead>\n",
              "  <tbody>\n",
              "    <tr>\n",
              "      <th>median</th>\n",
              "      <td>1000.000000</td>\n",
              "      <td>30.000000</td>\n",
              "      <td>30.000000</td>\n",
              "    </tr>\n",
              "    <tr>\n",
              "      <th>var</th>\n",
              "      <td>14481.140351</td>\n",
              "      <td>65.611529</td>\n",
              "      <td>36.402406</td>\n",
              "    </tr>\n",
              "    <tr>\n",
              "      <th>std</th>\n",
              "      <td>120.337610</td>\n",
              "      <td>8.100094</td>\n",
              "      <td>6.033441</td>\n",
              "    </tr>\n",
              "  </tbody>\n",
              "</table>\n",
              "</div>"
            ],
            "text/plain": [
              "           Principal      terms        age\n",
              "median   1000.000000  30.000000  30.000000\n",
              "var     14481.140351  65.611529  36.402406\n",
              "std       120.337610   8.100094   6.033441"
            ]
          },
          "execution_count": 4,
          "metadata": {},
          "output_type": "execute_result"
        }
      ],
      "source": [
        "# Let's check the skewness and spread of the variables\n",
        "df.drop(\n",
        "    [\n",
        "        \"Unnamed: 0\",\n",
        "        \"loan_status\",\n",
        "        \"effective_date\",\n",
        "        \"due_date\",\n",
        "        \"education\",\n",
        "        \"Gender\",\n",
        "    ],\n",
        "    axis=1,\n",
        ").agg([np.median, np.var, np.std])"
      ]
    },
    {
      "cell_type": "code",
      "execution_count": 5,
      "metadata": {},
      "outputs": [
        {
          "data": {
            "text/html": [
              "<div>\n",
              "<style scoped>\n",
              "    .dataframe tbody tr th:only-of-type {\n",
              "        vertical-align: middle;\n",
              "    }\n",
              "\n",
              "    .dataframe tbody tr th {\n",
              "        vertical-align: top;\n",
              "    }\n",
              "\n",
              "    .dataframe thead th {\n",
              "        text-align: right;\n",
              "    }\n",
              "</style>\n",
              "<table border=\"1\" class=\"dataframe\">\n",
              "  <thead>\n",
              "    <tr style=\"text-align: right;\">\n",
              "      <th></th>\n",
              "      <th>principal</th>\n",
              "      <th>terms</th>\n",
              "      <th>age</th>\n",
              "    </tr>\n",
              "    <tr>\n",
              "      <th>index</th>\n",
              "      <th></th>\n",
              "      <th></th>\n",
              "      <th></th>\n",
              "    </tr>\n",
              "  </thead>\n",
              "  <tbody>\n",
              "    <tr>\n",
              "      <th>skew</th>\n",
              "      <td>-2.795277</td>\n",
              "      <td>-0.282557</td>\n",
              "      <td>0.699327</td>\n",
              "    </tr>\n",
              "    <tr>\n",
              "      <th>kurtosis</th>\n",
              "      <td>10.445157</td>\n",
              "      <td>-1.617725</td>\n",
              "      <td>0.471289</td>\n",
              "    </tr>\n",
              "  </tbody>\n",
              "</table>\n",
              "</div>"
            ],
            "text/plain": [
              "          principal     terms       age\n",
              "index                                  \n",
              "skew      -2.795277 -0.282557  0.699327\n",
              "kurtosis  10.445157 -1.617725  0.471289"
            ]
          },
          "execution_count": 5,
          "metadata": {},
          "output_type": "execute_result"
        }
      ],
      "source": [
        "# let's check the skewness and peak density of the data distribution\n",
        "skew_kurtosis = {\n",
        "    \"index\": [\"skew\", \"kurtosis\"],\n",
        "    \"principal\": [skew(df.Principal), kurtosis(df.Principal)],\n",
        "    \"terms\": [skew(df.terms), kurtosis(df.terms)],\n",
        "    \"age\": [skew(df.age), kurtosis(df.age)],\n",
        "}\n",
        "pd.DataFrame(skew_kurtosis).set_index(\"index\")"
      ]
    },
    {
      "cell_type": "code",
      "execution_count": 6,
      "metadata": {
        "colab": {
          "base_uri": "https://localhost:8080/",
          "height": 175
        },
        "id": "uR9M1o6rRRmO",
        "outputId": "8d75afc1-59de-4e7c-9524-90bab04cb8e7"
      },
      "outputs": [
        {
          "data": {
            "text/html": [
              "<div>\n",
              "<style scoped>\n",
              "    .dataframe tbody tr th:only-of-type {\n",
              "        vertical-align: middle;\n",
              "    }\n",
              "\n",
              "    .dataframe tbody tr th {\n",
              "        vertical-align: top;\n",
              "    }\n",
              "\n",
              "    .dataframe thead th {\n",
              "        text-align: right;\n",
              "    }\n",
              "</style>\n",
              "<table border=\"1\" class=\"dataframe\">\n",
              "  <thead>\n",
              "    <tr style=\"text-align: right;\">\n",
              "      <th></th>\n",
              "      <th>loan_status</th>\n",
              "      <th>effective_date</th>\n",
              "      <th>due_date</th>\n",
              "      <th>education</th>\n",
              "      <th>Gender</th>\n",
              "    </tr>\n",
              "  </thead>\n",
              "  <tbody>\n",
              "    <tr>\n",
              "      <th>count</th>\n",
              "      <td>400</td>\n",
              "      <td>400</td>\n",
              "      <td>400</td>\n",
              "      <td>400</td>\n",
              "      <td>400</td>\n",
              "    </tr>\n",
              "    <tr>\n",
              "      <th>unique</th>\n",
              "      <td>2</td>\n",
              "      <td>7</td>\n",
              "      <td>24</td>\n",
              "      <td>4</td>\n",
              "      <td>2</td>\n",
              "    </tr>\n",
              "    <tr>\n",
              "      <th>top</th>\n",
              "      <td>PAIDOFF</td>\n",
              "      <td>9/11/2016</td>\n",
              "      <td>10/10/2016</td>\n",
              "      <td>High School or Below</td>\n",
              "      <td>male</td>\n",
              "    </tr>\n",
              "    <tr>\n",
              "      <th>freq</th>\n",
              "      <td>300</td>\n",
              "      <td>190</td>\n",
              "      <td>98</td>\n",
              "      <td>172</td>\n",
              "      <td>337</td>\n",
              "    </tr>\n",
              "  </tbody>\n",
              "</table>\n",
              "</div>"
            ],
            "text/plain": [
              "       loan_status effective_date    due_date             education Gender\n",
              "count          400            400         400                   400    400\n",
              "unique           2              7          24                     4      2\n",
              "top        PAIDOFF      9/11/2016  10/10/2016  High School or Below   male\n",
              "freq           300            190          98                   172    337"
            ]
          },
          "execution_count": 6,
          "metadata": {},
          "output_type": "execute_result"
        }
      ],
      "source": [
        "# Let's check the summary statistics for categorical features\n",
        "df.describe(include=[\"O\"])"
      ]
    },
    {
      "cell_type": "code",
      "execution_count": 7,
      "metadata": {},
      "outputs": [
        {
          "data": {
            "text/plain": [
              "Unnamed: 0        400\n",
              "loan_status         2\n",
              "Principal           6\n",
              "terms               3\n",
              "effective_date      7\n",
              "due_date           24\n",
              "age                32\n",
              "education           4\n",
              "Gender              2\n",
              "dtype: int64"
            ]
          },
          "execution_count": 7,
          "metadata": {},
          "output_type": "execute_result"
        }
      ],
      "source": [
        "# Check the variety of all data features\n",
        "df.nunique()"
      ]
    },
    {
      "cell_type": "code",
      "execution_count": 8,
      "metadata": {
        "colab": {
          "base_uri": "https://localhost:8080/"
        },
        "id": "mtzYEXozU9P8",
        "outputId": "de1741cc-ab0b-4d90-ef62-8d70b3371f01"
      },
      "outputs": [
        {
          "data": {
            "text/plain": [
              "Unnamed: 0        0\n",
              "loan_status       0\n",
              "Principal         0\n",
              "terms             0\n",
              "effective_date    0\n",
              "due_date          0\n",
              "age               0\n",
              "education         0\n",
              "Gender            0\n",
              "dtype: int64"
            ]
          },
          "execution_count": 8,
          "metadata": {},
          "output_type": "execute_result"
        }
      ],
      "source": [
        "# Let's look for non-existing values!\n",
        "df.isnull().sum()"
      ]
    },
    {
      "cell_type": "code",
      "execution_count": 9,
      "metadata": {
        "colab": {
          "base_uri": "https://localhost:8080/"
        },
        "id": "5Pzbb-YERy4t",
        "outputId": "669b30d5-416f-44e0-a75d-a3a37f098b44"
      },
      "outputs": [
        {
          "name": "stdout",
          "output_type": "stream",
          "text": [
            "<class 'pandas.core.frame.DataFrame'>\n",
            "Int64Index: 400 entries, 0 to 396\n",
            "Data columns (total 9 columns):\n",
            " #   Column          Non-Null Count  Dtype \n",
            "---  ------          --------------  ----- \n",
            " 0   Unnamed: 0      400 non-null    int64 \n",
            " 1   loan_status     400 non-null    object\n",
            " 2   Principal       400 non-null    int64 \n",
            " 3   terms           400 non-null    int64 \n",
            " 4   effective_date  400 non-null    object\n",
            " 5   due_date        400 non-null    object\n",
            " 6   age             400 non-null    int64 \n",
            " 7   education       400 non-null    object\n",
            " 8   Gender          400 non-null    object\n",
            "dtypes: int64(4), object(5)\n",
            "memory usage: 31.2+ KB\n"
          ]
        }
      ],
      "source": [
        "# Check data types and some more info\n",
        "df.info()"
      ]
    },
    {
      "attachments": {},
      "cell_type": "markdown",
      "metadata": {
        "id": "3f8zaU0qUcOj"
      },
      "source": [
        "***It has been found that some of the features are not relevant, have wrong columns names or they are not in the correct data type***"
      ]
    },
    {
      "cell_type": "code",
      "execution_count": 10,
      "metadata": {},
      "outputs": [],
      "source": [
        "# Eliminate the unnecessary features\n",
        "df = df.drop([\"Unnamed: 0\"], axis=1)"
      ]
    },
    {
      "cell_type": "code",
      "execution_count": 11,
      "metadata": {},
      "outputs": [],
      "source": [
        "# rename the wring columns names\n",
        "df.rename(columns={\"Principal\": \"principal\", \"Gender\": \"gender\"}, inplace=True)"
      ]
    },
    {
      "cell_type": "code",
      "execution_count": 12,
      "metadata": {
        "colab": {
          "base_uri": "https://localhost:8080/",
          "height": 206
        },
        "id": "5mYHYsajUgSJ",
        "outputId": "f08ab884-e6c8-4043-fd83-ad4dc4313aad"
      },
      "outputs": [
        {
          "name": "stdout",
          "output_type": "stream",
          "text": [
            "<class 'pandas.core.frame.DataFrame'>\n",
            "Int64Index: 400 entries, 0 to 396\n",
            "Data columns (total 8 columns):\n",
            " #   Column          Non-Null Count  Dtype         \n",
            "---  ------          --------------  -----         \n",
            " 0   loan_status     400 non-null    object        \n",
            " 1   principal       400 non-null    int64         \n",
            " 2   terms           400 non-null    int64         \n",
            " 3   effective_date  400 non-null    datetime64[ns]\n",
            " 4   due_date        400 non-null    datetime64[ns]\n",
            " 5   age             400 non-null    int64         \n",
            " 6   education       400 non-null    object        \n",
            " 7   gender          400 non-null    object        \n",
            "dtypes: datetime64[ns](2), int64(3), object(3)\n",
            "memory usage: 28.1+ KB\n"
          ]
        }
      ],
      "source": [
        "# Convert the data type from object to datetime\n",
        "df[\"due_date\"] = pd.to_datetime(df[\"due_date\"])\n",
        "df[\"effective_date\"] = pd.to_datetime(df[\"effective_date\"])\n",
        "df.info()"
      ]
    },
    {
      "cell_type": "code",
      "execution_count": 13,
      "metadata": {
        "colab": {
          "base_uri": "https://localhost:8080/",
          "height": 716
        },
        "id": "7W9-8p-fg-DV",
        "outputId": "d3a39ce6-9762-494c-b995-c3c812d8efef"
      },
      "outputs": [
        {
          "data": {
            "image/png": "[encoded data removed]",
            "text/plain": [
              "<Figure size 1500x1200 with 2 Axes>"
            ]
          },
          "metadata": {},
          "output_type": "display_data"
        }
      ],
      "source": [
        "# HeatMap to check the potential or existing correlations before treating the data\n",
        "plt.figure(figsize=(15, 12))\n",
        "plt.title(\"Correlation of Features for Train Set\")\n",
        "sns.heatmap(df.corr(numeric_only=True), vmax=1.0, annot=True, cmap=\"Blues\")\n",
        "plt.show()"
      ]
    },
    {
      "attachments": {},
      "cell_type": "markdown",
      "metadata": {
        "id": "mBni4K17j73j"
      },
      "source": [
        "## Let's analyze and visualize the different features depending on whether or not customers repay the loan on time"
      ]
    },
    {
      "attachments": {},
      "cell_type": "markdown",
      "metadata": {
        "id": "nVAgFl2uqfGg"
      },
      "source": [
        "***This is what we know from a first analysis:*** \\\n",
        "***We know that there are more men than women.*** \\\n",
        "***We know from the summary statistics that the minimum principal amount was 300 dollars and the maximum was 1000, and looking at the unique values we know that only 6 different principal amounts were requested.*** \\\n",
        "***We know that the minimum age registered was 18 years old and the maximum age was 51 years old, and looking at the unique values we know that 32 different ages were registered.***\n",
        "\n",
        "***Let's go a little deeper with this knowledge.***"
      ]
    },
    {
      "attachments": {},
      "cell_type": "markdown",
      "metadata": {
        "id": "m2a6ZOzvjb_G"
      },
      "source": [
        "***Of the 400 clients, it seems that 300 paid their loans on time and the remaining 100 went into collection by missing the deadline, the classes are imbalanced.***"
      ]
    },
    {
      "cell_type": "code",
      "execution_count": 14,
      "metadata": {
        "colab": {
          "base_uri": "https://localhost:8080/"
        },
        "id": "T5s9oMH5U_t0",
        "outputId": "4d705533-f80b-43d5-ee4b-bb33e1f94657"
      },
      "outputs": [
        {
          "data": {
            "text/plain": [
              "<AxesSubplot: ylabel='loan_status'>"
            ]
          },
          "execution_count": 14,
          "metadata": {},
          "output_type": "execute_result"
        },
        {
          "data": {
            "image/png": "[encoded data removed]",
            "text/plain": [
              "<Figure size 640x480 with 1 Axes>"
            ]
          },
          "metadata": {},
          "output_type": "display_data"
        }
      ],
      "source": [
        "# proportion of the classes\n",
        "df[\"loan_status\"].value_counts().plot.pie(autopct=\"%0.2f\")"
      ]
    },
    {
      "attachments": {},
      "cell_type": "markdown",
      "metadata": {
        "id": "FxGwl-mRrU5C"
      },
      "source": [
        "***Of the 400 clients, we notice that 337 (84.25%) are male and 63 (15.75%) are female.***"
      ]
    },
    {
      "cell_type": "code",
      "execution_count": 15,
      "metadata": {
        "colab": {
          "base_uri": "https://localhost:8080/"
        },
        "id": "s-BvpPq1ljOp",
        "outputId": "b367dafb-94e7-4da4-bd43-c9847e9361e0"
      },
      "outputs": [
        {
          "data": {
            "text/plain": [
              "male      337\n",
              "female     63\n",
              "Name: gender, dtype: int64"
            ]
          },
          "execution_count": 15,
          "metadata": {},
          "output_type": "execute_result"
        }
      ],
      "source": [
        "# numeric proportion\n",
        "df[\"gender\"].value_counts()"
      ]
    },
    {
      "cell_type": "code",
      "execution_count": 16,
      "metadata": {},
      "outputs": [
        {
          "data": {
            "text/plain": [
              "male      84.25\n",
              "female    15.75\n",
              "Name: gender, dtype: float64"
            ]
          },
          "execution_count": 16,
          "metadata": {},
          "output_type": "execute_result"
        }
      ],
      "source": [
        "# percentage proportion\n",
        "df[\"gender\"].value_counts(normalize=True) * 100"
      ]
    },
    {
      "attachments": {},
      "cell_type": "markdown",
      "metadata": {},
      "source": [
        "***Of these 63 women, 84.13% paid on time and the other 15.87% did not paid on time. And of the 337 men, 73.29% paid on time and the other 26.71% didn't.***"
      ]
    },
    {
      "cell_type": "code",
      "execution_count": 17,
      "metadata": {
        "colab": {
          "base_uri": "https://localhost:8080/"
        },
        "id": "QHxRU8D8f9QZ",
        "outputId": "f721fa79-22ff-413a-cd72-0bf545d8559a"
      },
      "outputs": [
        {
          "data": {
            "text/html": [
              "<div>\n",
              "<style scoped>\n",
              "    .dataframe tbody tr th:only-of-type {\n",
              "        vertical-align: middle;\n",
              "    }\n",
              "\n",
              "    .dataframe tbody tr th {\n",
              "        vertical-align: top;\n",
              "    }\n",
              "\n",
              "    .dataframe thead th {\n",
              "        text-align: right;\n",
              "    }\n",
              "</style>\n",
              "<table border=\"1\" class=\"dataframe\">\n",
              "  <thead>\n",
              "    <tr style=\"text-align: right;\">\n",
              "      <th>loan_status</th>\n",
              "      <th>COLLECTION</th>\n",
              "      <th>PAIDOFF</th>\n",
              "    </tr>\n",
              "    <tr>\n",
              "      <th>gender</th>\n",
              "      <th></th>\n",
              "      <th></th>\n",
              "    </tr>\n",
              "  </thead>\n",
              "  <tbody>\n",
              "    <tr>\n",
              "      <th>female</th>\n",
              "      <td>15.873016</td>\n",
              "      <td>84.126984</td>\n",
              "    </tr>\n",
              "    <tr>\n",
              "      <th>male</th>\n",
              "      <td>26.706231</td>\n",
              "      <td>73.293769</td>\n",
              "    </tr>\n",
              "  </tbody>\n",
              "</table>\n",
              "</div>"
            ],
            "text/plain": [
              "loan_status  COLLECTION    PAIDOFF\n",
              "gender                            \n",
              "female        15.873016  84.126984\n",
              "male          26.706231  73.293769"
            ]
          },
          "execution_count": 17,
          "metadata": {},
          "output_type": "execute_result"
        }
      ],
      "source": [
        "# create a table with the proportion in percentage of male and female between the two classes\n",
        "groupby_gender = (\n",
        "    df.groupby([\"gender\"])[\"loan_status\"].value_counts(normalize=True) * 100\n",
        ")\n",
        "groupby_gender.unstack(level=-1)"
      ]
    },
    {
      "attachments": {},
      "cell_type": "markdown",
      "metadata": {
        "id": "KOoj-nuLr2mF"
      },
      "source": [
        "***Let us then look at the number of clients who, depending on gender and age, pay or do not pay the loans and at what ages do we see that there are more loan requests.***  \\\n",
        "***In this bar chart we can visually confirm that it is more usual for the loan to be in the name of a man, and there is a tendency for clients to choose/need higher principal values than lower ones.***"
      ]
    },
    {
      "cell_type": "code",
      "execution_count": 18,
      "metadata": {
        "colab": {
          "base_uri": "https://localhost:8080/",
          "height": 225
        },
        "id": "ESTNNWCUXWx8",
        "outputId": "cd70cfa2-176a-4cde-ed4f-568a91669026"
      },
      "outputs": [
        {
          "data": {
            "image/png": "[encoded data removed]",
            "text/plain": [
              "<Figure size 600x300 with 2 Axes>"
            ]
          },
          "metadata": {},
          "output_type": "display_data"
        }
      ],
      "source": [
        "# plot the bar chart to visualize loan status trow ages split by gender\n",
        "bins = np.linspace(df.principal.min(), df.principal.max(), 7)\n",
        "g = sns.FacetGrid(df, col=\"gender\", hue=\"loan_status\", palette=\"crest\", col_wrap=2)\n",
        "g.map(plt.hist, \"principal\", bins=bins, ec=\"k\")\n",
        "\n",
        "g.axes[1].legend()\n",
        "plt.show()"
      ]
    },
    {
      "attachments": {},
      "cell_type": "markdown",
      "metadata": {
        "id": "CIWCln6toRlv"
      },
      "source": [
        "***Let us then look at the number of clients who, depending on their level of education and age, pay or not pay the loans and at what age there are more requests.***"
      ]
    },
    {
      "cell_type": "code",
      "execution_count": 19,
      "metadata": {
        "colab": {
          "base_uri": "https://localhost:8080/"
        },
        "id": "Mn0mMPlabAPY",
        "outputId": "7bc4d9d1-6f8b-4da5-d3cc-8cb98698492f"
      },
      "outputs": [
        {
          "data": {
            "text/html": [
              "<div>\n",
              "<style scoped>\n",
              "    .dataframe tbody tr th:only-of-type {\n",
              "        vertical-align: middle;\n",
              "    }\n",
              "\n",
              "    .dataframe tbody tr th {\n",
              "        vertical-align: top;\n",
              "    }\n",
              "\n",
              "    .dataframe thead th {\n",
              "        text-align: right;\n",
              "    }\n",
              "</style>\n",
              "<table border=\"1\" class=\"dataframe\">\n",
              "  <thead>\n",
              "    <tr style=\"text-align: right;\">\n",
              "      <th>education</th>\n",
              "      <th>Bechalor</th>\n",
              "      <th>High School or Below</th>\n",
              "      <th>Master or Above</th>\n",
              "      <th>college</th>\n",
              "    </tr>\n",
              "    <tr>\n",
              "      <th>loan_status</th>\n",
              "      <th></th>\n",
              "      <th></th>\n",
              "      <th></th>\n",
              "      <th></th>\n",
              "    </tr>\n",
              "  </thead>\n",
              "  <tbody>\n",
              "    <tr>\n",
              "      <th>COLLECTION</th>\n",
              "      <td>11</td>\n",
              "      <td>49</td>\n",
              "      <td>1</td>\n",
              "      <td>39</td>\n",
              "    </tr>\n",
              "    <tr>\n",
              "      <th>PAIDOFF</th>\n",
              "      <td>41</td>\n",
              "      <td>123</td>\n",
              "      <td>3</td>\n",
              "      <td>133</td>\n",
              "    </tr>\n",
              "  </tbody>\n",
              "</table>\n",
              "</div>"
            ],
            "text/plain": [
              "education    Bechalor  High School or Below  Master or Above  college\n",
              "loan_status                                                          \n",
              "COLLECTION         11                    49                1       39\n",
              "PAIDOFF            41                   123                3      133"
            ]
          },
          "execution_count": 19,
          "metadata": {},
          "output_type": "execute_result"
        }
      ],
      "source": [
        "# group by method, proportions of the education feature\n",
        "group_by_edu = df.groupby(\"loan_status\")[\"education\"].value_counts()\n",
        "group_by_edu.unstack(level=-1)"
      ]
    },
    {
      "attachments": {},
      "cell_type": "markdown",
      "metadata": {
        "id": "DSZQXiOgX_70"
      },
      "source": [
        "***We can state that most of the clients that requested loans with less than 30 years in majority are undergraduate, being also the 2 biggest groups of the 4 with 172 clients each.*** "
      ]
    },
    {
      "cell_type": "code",
      "execution_count": 20,
      "metadata": {
        "colab": {
          "base_uri": "https://localhost:8080/",
          "height": 441
        },
        "id": "hFnWNRgRTBnM",
        "outputId": "d82c4c12-1e49-467d-f02a-de1190c3f071"
      },
      "outputs": [
        {
          "data": {
            "image/png": "[encoded data removed]",
            "text/plain": [
              "<Figure size 600x600 with 4 Axes>"
            ]
          },
          "metadata": {},
          "output_type": "display_data"
        }
      ],
      "source": [
        "# plot the bar chart to visualize loan status trow ages split by education\n",
        "bins = np.linspace(df.age.min(), df.age.max(), 33)\n",
        "g = sns.FacetGrid(df, col=\"education\", hue=\"loan_status\", palette=\"crest\", col_wrap=2)\n",
        "g.map(plt.hist, \"age\", bins=bins, ec=\"k\")\n",
        "\n",
        "g.axes[1].legend()\n",
        "plt.show()"
      ]
    },
    {
      "attachments": {},
      "cell_type": "markdown",
      "metadata": {
        "id": "aHblQ7HwQgX8"
      },
      "source": [
        "***So let's look at the number of clients who, depending on the loan they take out and the term of the same, whether or not they repay the loans and what are the loan terms and amounts in which it is verified that there are more clients to pay or to enter into collection.*** \\\n",
        "***Through these observations below, we have already been able to observe a more concise correlation and that clients who usually ask for loans with shorter terms and lower amounts tend to pay it on time, in this case above 800 dollars and most of the clients ask for 800 and 1000 loans.***"
      ]
    },
    {
      "cell_type": "code",
      "execution_count": 21,
      "metadata": {},
      "outputs": [
        {
          "data": {
            "text/plain": [
              "<AxesSubplot: xlabel='principal', ylabel='Count'>"
            ]
          },
          "execution_count": 21,
          "metadata": {},
          "output_type": "execute_result"
        },
        {
          "data": {
            "image/png": "[encoded data removed]",
            "text/plain": [
              "<Figure size 640x480 with 1 Axes>"
            ]
          },
          "metadata": {},
          "output_type": "display_data"
        }
      ],
      "source": [
        "sns.histplot(x='principal', data=df, kde=True)"
      ]
    },
    {
      "cell_type": "code",
      "execution_count": 22,
      "metadata": {},
      "outputs": [
        {
          "data": {
            "text/plain": [
              "<AxesSubplot: xlabel='terms', ylabel='Count'>"
            ]
          },
          "execution_count": 22,
          "metadata": {},
          "output_type": "execute_result"
        },
        {
          "data": {
            "image/png": "[encoded data removed]",
            "text/plain": [
              "<Figure size 640x480 with 1 Axes>"
            ]
          },
          "metadata": {},
          "output_type": "display_data"
        }
      ],
      "source": [
        "sns.histplot(x='terms', data=df, kde=True)"
      ]
    },
    {
      "cell_type": "code",
      "execution_count": 23,
      "metadata": {
        "colab": {
          "base_uri": "https://localhost:8080/",
          "height": 112
        },
        "id": "FsuIDFdsO8-W",
        "outputId": "48899261-23b6-4ae4-ebb9-ec6205f3b8c9"
      },
      "outputs": [
        {
          "data": {
            "text/html": [
              "<div>\n",
              "<style scoped>\n",
              "    .dataframe tbody tr th:only-of-type {\n",
              "        vertical-align: middle;\n",
              "    }\n",
              "\n",
              "    .dataframe tbody tr th {\n",
              "        vertical-align: top;\n",
              "    }\n",
              "\n",
              "    .dataframe thead th {\n",
              "        text-align: right;\n",
              "    }\n",
              "</style>\n",
              "<table border=\"1\" class=\"dataframe\">\n",
              "  <thead>\n",
              "    <tr style=\"text-align: right;\">\n",
              "      <th></th>\n",
              "      <th>terms</th>\n",
              "      <th>principal</th>\n",
              "      <th>loan_status</th>\n",
              "      <th>count</th>\n",
              "    </tr>\n",
              "  </thead>\n",
              "  <tbody>\n",
              "    <tr>\n",
              "      <th>0</th>\n",
              "      <td>7</td>\n",
              "      <td>300</td>\n",
              "      <td>PAIDOFF</td>\n",
              "      <td>6</td>\n",
              "    </tr>\n",
              "    <tr>\n",
              "      <th>1</th>\n",
              "      <td>7</td>\n",
              "      <td>500</td>\n",
              "      <td>PAIDOFF</td>\n",
              "      <td>1</td>\n",
              "    </tr>\n",
              "    <tr>\n",
              "      <th>2</th>\n",
              "      <td>7</td>\n",
              "      <td>800</td>\n",
              "      <td>PAIDOFF</td>\n",
              "      <td>1</td>\n",
              "    </tr>\n",
              "    <tr>\n",
              "      <th>3</th>\n",
              "      <td>7</td>\n",
              "      <td>900</td>\n",
              "      <td>PAIDOFF</td>\n",
              "      <td>1</td>\n",
              "    </tr>\n",
              "    <tr>\n",
              "      <th>4</th>\n",
              "      <td>7</td>\n",
              "      <td>1000</td>\n",
              "      <td>PAIDOFF</td>\n",
              "      <td>11</td>\n",
              "    </tr>\n",
              "    <tr>\n",
              "      <th>5</th>\n",
              "      <td>15</td>\n",
              "      <td>500</td>\n",
              "      <td>PAIDOFF</td>\n",
              "      <td>1</td>\n",
              "    </tr>\n",
              "    <tr>\n",
              "      <th>6</th>\n",
              "      <td>15</td>\n",
              "      <td>700</td>\n",
              "      <td>PAIDOFF</td>\n",
              "      <td>1</td>\n",
              "    </tr>\n",
              "    <tr>\n",
              "      <th>7</th>\n",
              "      <td>15</td>\n",
              "      <td>800</td>\n",
              "      <td>PAIDOFF</td>\n",
              "      <td>63</td>\n",
              "    </tr>\n",
              "    <tr>\n",
              "      <th>8</th>\n",
              "      <td>15</td>\n",
              "      <td>800</td>\n",
              "      <td>COLLECTION</td>\n",
              "      <td>22</td>\n",
              "    </tr>\n",
              "    <tr>\n",
              "      <th>9</th>\n",
              "      <td>15</td>\n",
              "      <td>900</td>\n",
              "      <td>PAIDOFF</td>\n",
              "      <td>1</td>\n",
              "    </tr>\n",
              "    <tr>\n",
              "      <th>10</th>\n",
              "      <td>15</td>\n",
              "      <td>1000</td>\n",
              "      <td>PAIDOFF</td>\n",
              "      <td>61</td>\n",
              "    </tr>\n",
              "    <tr>\n",
              "      <th>11</th>\n",
              "      <td>15</td>\n",
              "      <td>1000</td>\n",
              "      <td>COLLECTION</td>\n",
              "      <td>19</td>\n",
              "    </tr>\n",
              "    <tr>\n",
              "      <th>12</th>\n",
              "      <td>30</td>\n",
              "      <td>800</td>\n",
              "      <td>PAIDOFF</td>\n",
              "      <td>5</td>\n",
              "    </tr>\n",
              "    <tr>\n",
              "      <th>13</th>\n",
              "      <td>30</td>\n",
              "      <td>800</td>\n",
              "      <td>COLLECTION</td>\n",
              "      <td>1</td>\n",
              "    </tr>\n",
              "    <tr>\n",
              "      <th>14</th>\n",
              "      <td>30</td>\n",
              "      <td>1000</td>\n",
              "      <td>PAIDOFF</td>\n",
              "      <td>148</td>\n",
              "    </tr>\n",
              "    <tr>\n",
              "      <th>15</th>\n",
              "      <td>30</td>\n",
              "      <td>1000</td>\n",
              "      <td>COLLECTION</td>\n",
              "      <td>58</td>\n",
              "    </tr>\n",
              "  </tbody>\n",
              "</table>\n",
              "</div>"
            ],
            "text/plain": [
              "    terms  principal loan_status  count\n",
              "0       7        300     PAIDOFF      6\n",
              "1       7        500     PAIDOFF      1\n",
              "2       7        800     PAIDOFF      1\n",
              "3       7        900     PAIDOFF      1\n",
              "4       7       1000     PAIDOFF     11\n",
              "5      15        500     PAIDOFF      1\n",
              "6      15        700     PAIDOFF      1\n",
              "7      15        800     PAIDOFF     63\n",
              "8      15        800  COLLECTION     22\n",
              "9      15        900     PAIDOFF      1\n",
              "10     15       1000     PAIDOFF     61\n",
              "11     15       1000  COLLECTION     19\n",
              "12     30        800     PAIDOFF      5\n",
              "13     30        800  COLLECTION      1\n",
              "14     30       1000     PAIDOFF    148\n",
              "15     30       1000  COLLECTION     58"
            ]
          },
          "execution_count": 23,
          "metadata": {},
          "output_type": "execute_result"
        }
      ],
      "source": [
        "# since there are so few different values for principal and terms, let's use a groupby\n",
        "df.groupby([\"terms\", \"principal\"], as_index=False)[\"loan_status\"].value_counts(sort=True)"
      ]
    },
    {
      "cell_type": "code",
      "execution_count": 24,
      "metadata": {
        "colab": {
          "base_uri": "https://localhost:8080/",
          "height": 112
        },
        "id": "6WQldHYEQDE2",
        "outputId": "642e41a9-f478-41b7-ef1e-3201e636de54"
      },
      "outputs": [
        {
          "data": {
            "text/html": [
              "<div>\n",
              "<style scoped>\n",
              "    .dataframe tbody tr th:only-of-type {\n",
              "        vertical-align: middle;\n",
              "    }\n",
              "\n",
              "    .dataframe tbody tr th {\n",
              "        vertical-align: top;\n",
              "    }\n",
              "\n",
              "    .dataframe thead tr th {\n",
              "        text-align: left;\n",
              "    }\n",
              "\n",
              "    .dataframe thead tr:last-of-type th {\n",
              "        text-align: right;\n",
              "    }\n",
              "</style>\n",
              "<table border=\"1\" class=\"dataframe\">\n",
              "  <thead>\n",
              "    <tr>\n",
              "      <th></th>\n",
              "      <th>median</th>\n",
              "    </tr>\n",
              "    <tr>\n",
              "      <th></th>\n",
              "      <th>principal</th>\n",
              "    </tr>\n",
              "    <tr>\n",
              "      <th>terms</th>\n",
              "      <th></th>\n",
              "    </tr>\n",
              "  </thead>\n",
              "  <tbody>\n",
              "    <tr>\n",
              "      <th>7</th>\n",
              "      <td>1000</td>\n",
              "    </tr>\n",
              "    <tr>\n",
              "      <th>15</th>\n",
              "      <td>800</td>\n",
              "    </tr>\n",
              "    <tr>\n",
              "      <th>30</th>\n",
              "      <td>1000</td>\n",
              "    </tr>\n",
              "  </tbody>\n",
              "</table>\n",
              "</div>"
            ],
            "text/plain": [
              "         median\n",
              "      principal\n",
              "terms          \n",
              "7          1000\n",
              "15          800\n",
              "30         1000"
            ]
          },
          "execution_count": 24,
          "metadata": {},
          "output_type": "execute_result"
        }
      ],
      "source": [
        "# i'm showing the median to see if it differs a lot from the mean showed above\n",
        "df.pivot_table(values=\"principal\", index=\"terms\", aggfunc=[np.median])"
      ]
    },
    {
      "cell_type": "code",
      "execution_count": 25,
      "metadata": {
        "colab": {
          "base_uri": "https://localhost:8080/",
          "height": 112
        },
        "id": "FsuIDFdsO8-W",
        "outputId": "48899261-23b6-4ae4-ebb9-ec6205f3b8c9"
      },
      "outputs": [
        {
          "data": {
            "text/html": [
              "<div>\n",
              "<style scoped>\n",
              "    .dataframe tbody tr th:only-of-type {\n",
              "        vertical-align: middle;\n",
              "    }\n",
              "\n",
              "    .dataframe tbody tr th {\n",
              "        vertical-align: top;\n",
              "    }\n",
              "\n",
              "    .dataframe thead th {\n",
              "        text-align: right;\n",
              "    }\n",
              "</style>\n",
              "<table border=\"1\" class=\"dataframe\">\n",
              "  <thead>\n",
              "    <tr style=\"text-align: right;\">\n",
              "      <th>terms</th>\n",
              "      <th>7</th>\n",
              "      <th>15</th>\n",
              "      <th>30</th>\n",
              "      <th>All</th>\n",
              "    </tr>\n",
              "    <tr>\n",
              "      <th>loan_status</th>\n",
              "      <th></th>\n",
              "      <th></th>\n",
              "      <th></th>\n",
              "      <th></th>\n",
              "    </tr>\n",
              "  </thead>\n",
              "  <tbody>\n",
              "    <tr>\n",
              "      <th>COLLECTION</th>\n",
              "      <td>0</td>\n",
              "      <td>892.682927</td>\n",
              "      <td>996.610169</td>\n",
              "      <td>954.00</td>\n",
              "    </tr>\n",
              "    <tr>\n",
              "      <th>PAIDOFF</th>\n",
              "      <td>750</td>\n",
              "      <td>893.700787</td>\n",
              "      <td>993.464052</td>\n",
              "      <td>935.00</td>\n",
              "    </tr>\n",
              "    <tr>\n",
              "      <th>All</th>\n",
              "      <td>750</td>\n",
              "      <td>893.452381</td>\n",
              "      <td>994.339623</td>\n",
              "      <td>939.75</td>\n",
              "    </tr>\n",
              "  </tbody>\n",
              "</table>\n",
              "</div>"
            ],
            "text/plain": [
              "terms          7          15          30     All\n",
              "loan_status                                     \n",
              "COLLECTION     0  892.682927  996.610169  954.00\n",
              "PAIDOFF      750  893.700787  993.464052  935.00\n",
              "All          750  893.452381  994.339623  939.75"
            ]
          },
          "execution_count": 25,
          "metadata": {},
          "output_type": "execute_result"
        }
      ],
      "source": [
        "# this pivot table is showing us the mean principal for each terms\n",
        "df.pivot_table(\n",
        "    values=\"principal\", index=\"loan_status\", columns=\"terms\", fill_value=0, margins=True\n",
        ")"
      ]
    },
    {
      "cell_type": "code",
      "execution_count": 26,
      "metadata": {
        "colab": {
          "base_uri": "https://localhost:8080/",
          "height": 143
        },
        "id": "-b1t6HH4P9mM",
        "outputId": "5b136cce-0d5b-4fc3-fb3e-17a7bed51fd1"
      },
      "outputs": [
        {
          "data": {
            "text/html": [
              "<div>\n",
              "<style scoped>\n",
              "    .dataframe tbody tr th:only-of-type {\n",
              "        vertical-align: middle;\n",
              "    }\n",
              "\n",
              "    .dataframe tbody tr th {\n",
              "        vertical-align: top;\n",
              "    }\n",
              "\n",
              "    .dataframe thead tr th {\n",
              "        text-align: left;\n",
              "    }\n",
              "\n",
              "    .dataframe thead tr:last-of-type th {\n",
              "        text-align: right;\n",
              "    }\n",
              "</style>\n",
              "<table border=\"1\" class=\"dataframe\">\n",
              "  <thead>\n",
              "    <tr>\n",
              "      <th></th>\n",
              "      <th>median</th>\n",
              "    </tr>\n",
              "    <tr>\n",
              "      <th></th>\n",
              "      <th>terms</th>\n",
              "    </tr>\n",
              "    <tr>\n",
              "      <th>principal</th>\n",
              "      <th></th>\n",
              "    </tr>\n",
              "  </thead>\n",
              "  <tbody>\n",
              "    <tr>\n",
              "      <th>300</th>\n",
              "      <td>7</td>\n",
              "    </tr>\n",
              "    <tr>\n",
              "      <th>500</th>\n",
              "      <td>11</td>\n",
              "    </tr>\n",
              "    <tr>\n",
              "      <th>700</th>\n",
              "      <td>15</td>\n",
              "    </tr>\n",
              "    <tr>\n",
              "      <th>800</th>\n",
              "      <td>15</td>\n",
              "    </tr>\n",
              "    <tr>\n",
              "      <th>900</th>\n",
              "      <td>11</td>\n",
              "    </tr>\n",
              "    <tr>\n",
              "      <th>1000</th>\n",
              "      <td>30</td>\n",
              "    </tr>\n",
              "  </tbody>\n",
              "</table>\n",
              "</div>"
            ],
            "text/plain": [
              "          median\n",
              "           terms\n",
              "principal       \n",
              "300            7\n",
              "500           11\n",
              "700           15\n",
              "800           15\n",
              "900           11\n",
              "1000          30"
            ]
          },
          "execution_count": 26,
          "metadata": {},
          "output_type": "execute_result"
        }
      ],
      "source": [
        "# i'm showing the median to see if it differs a lot from the mean showed above\n",
        "df.pivot_table(values=\"terms\", index=\"principal\", aggfunc=[np.median])"
      ]
    },
    {
      "cell_type": "code",
      "execution_count": 27,
      "metadata": {
        "colab": {
          "base_uri": "https://localhost:8080/",
          "height": 112
        },
        "id": "FsuIDFdsO8-W",
        "outputId": "48899261-23b6-4ae4-ebb9-ec6205f3b8c9"
      },
      "outputs": [
        {
          "data": {
            "text/html": [
              "<div>\n",
              "<style scoped>\n",
              "    .dataframe tbody tr th:only-of-type {\n",
              "        vertical-align: middle;\n",
              "    }\n",
              "\n",
              "    .dataframe tbody tr th {\n",
              "        vertical-align: top;\n",
              "    }\n",
              "\n",
              "    .dataframe thead th {\n",
              "        text-align: right;\n",
              "    }\n",
              "</style>\n",
              "<table border=\"1\" class=\"dataframe\">\n",
              "  <thead>\n",
              "    <tr style=\"text-align: right;\">\n",
              "      <th>principal</th>\n",
              "      <th>300</th>\n",
              "      <th>500</th>\n",
              "      <th>700</th>\n",
              "      <th>800</th>\n",
              "      <th>900</th>\n",
              "      <th>1000</th>\n",
              "      <th>All</th>\n",
              "    </tr>\n",
              "    <tr>\n",
              "      <th>loan_status</th>\n",
              "      <th></th>\n",
              "      <th></th>\n",
              "      <th></th>\n",
              "      <th></th>\n",
              "      <th></th>\n",
              "      <th></th>\n",
              "      <th></th>\n",
              "    </tr>\n",
              "  </thead>\n",
              "  <tbody>\n",
              "    <tr>\n",
              "      <th>COLLECTION</th>\n",
              "      <td>0</td>\n",
              "      <td>0</td>\n",
              "      <td>0</td>\n",
              "      <td>15.652174</td>\n",
              "      <td>0</td>\n",
              "      <td>26.298701</td>\n",
              "      <td>23.850000</td>\n",
              "    </tr>\n",
              "    <tr>\n",
              "      <th>PAIDOFF</th>\n",
              "      <td>7</td>\n",
              "      <td>11</td>\n",
              "      <td>15</td>\n",
              "      <td>15.971014</td>\n",
              "      <td>11</td>\n",
              "      <td>24.690909</td>\n",
              "      <td>22.116667</td>\n",
              "    </tr>\n",
              "    <tr>\n",
              "      <th>All</th>\n",
              "      <td>7</td>\n",
              "      <td>11</td>\n",
              "      <td>15</td>\n",
              "      <td>15.891304</td>\n",
              "      <td>11</td>\n",
              "      <td>25.107744</td>\n",
              "      <td>22.550000</td>\n",
              "    </tr>\n",
              "  </tbody>\n",
              "</table>\n",
              "</div>"
            ],
            "text/plain": [
              "principal    300  500  700        800  900       1000        All\n",
              "loan_status                                                     \n",
              "COLLECTION     0    0    0  15.652174    0  26.298701  23.850000\n",
              "PAIDOFF        7   11   15  15.971014   11  24.690909  22.116667\n",
              "All            7   11   15  15.891304   11  25.107744  22.550000"
            ]
          },
          "execution_count": 27,
          "metadata": {},
          "output_type": "execute_result"
        }
      ],
      "source": [
        "# this pivot table is showing us the mean terms for each principal\n",
        "df.pivot_table(\n",
        "    values=\"terms\", index=\"loan_status\", columns=\"principal\", fill_value=0, margins=True\n",
        ")"
      ]
    },
    {
      "attachments": {},
      "cell_type": "markdown",
      "metadata": {},
      "source": [
        "***We can see that customers in this week when they ask for terms of 7 days tend to ask for approximately 764 dollars, with 15 ask 881, and with 30 about 998, this means that with each passing day the value increases 7.79 dollars or 54.53 every 7. But it's only one week of data, we can't know for sure if this will be true with future clients.***"
      ]
    },
    {
      "cell_type": "code",
      "execution_count": 28,
      "metadata": {},
      "outputs": [
        {
          "data": {
            "text/html": [
              "<div>\n",
              "<style scoped>\n",
              "    .dataframe tbody tr th:only-of-type {\n",
              "        vertical-align: middle;\n",
              "    }\n",
              "\n",
              "    .dataframe tbody tr th {\n",
              "        vertical-align: top;\n",
              "    }\n",
              "\n",
              "    .dataframe thead th {\n",
              "        text-align: right;\n",
              "    }\n",
              "</style>\n",
              "<table border=\"1\" class=\"dataframe\">\n",
              "  <thead>\n",
              "    <tr style=\"text-align: right;\">\n",
              "      <th></th>\n",
              "      <th>terms</th>\n",
              "      <th>prediction</th>\n",
              "    </tr>\n",
              "  </thead>\n",
              "  <tbody>\n",
              "    <tr>\n",
              "      <th>0</th>\n",
              "      <td>30</td>\n",
              "      <td>997.791359</td>\n",
              "    </tr>\n",
              "    <tr>\n",
              "      <th>1</th>\n",
              "      <td>15</td>\n",
              "      <td>880.929562</td>\n",
              "    </tr>\n",
              "  </tbody>\n",
              "</table>\n",
              "</div>"
            ],
            "text/plain": [
              "   terms  prediction\n",
              "0     30  997.791359\n",
              "1     15  880.929562"
            ]
          },
          "metadata": {},
          "output_type": "display_data"
        },
        {
          "data": {
            "text/plain": [
              "Intercept    764.067764\n",
              "terms          7.790787\n",
              "dtype: float64"
            ]
          },
          "metadata": {},
          "output_type": "display_data"
        }
      ],
      "source": [
        "import statsmodels.formula.api as smf\n",
        "\n",
        "# i used a regression model to analyze the relation between the principal and terms\n",
        "reg_model = smf.ols(\"principal ~ terms\", data=df).fit()\n",
        "terms = pd.DataFrame({\"terms\": [30, 15]})\n",
        "predictions = terms.assign(prediction=reg_model.predict(terms))\n",
        "display(predictions, reg_model.params)"
      ]
    },
    {
      "attachments": {},
      "cell_type": "markdown",
      "metadata": {
        "id": "R1l1YpHkkh9W"
      },
      "source": [
        "***In this scatter plot we can visually confirm that there is a tendency that usually clients who choose higher terms are getting higher principals, but we can also see that values under 800 only exist in loans with 7 and 15 days terms.***"
      ]
    },
    {
      "cell_type": "code",
      "execution_count": 29,
      "metadata": {},
      "outputs": [
        {
          "data": {
            "text/plain": [
              "<AxesSubplot: xlabel='terms', ylabel='principal'>"
            ]
          },
          "execution_count": 29,
          "metadata": {},
          "output_type": "execute_result"
        },
        {
          "data": {
            "image/png": "[encoded data removed]",
            "text/plain": [
              "<Figure size 640x480 with 1 Axes>"
            ]
          },
          "metadata": {},
          "output_type": "display_data"
        }
      ],
      "source": [
        "# plot with the fitted line and to visualize the relation between variables\n",
        "sns.regplot(x=\"terms\", y=\"principal\", data=df)"
      ]
    },
    {
      "attachments": {},
      "cell_type": "markdown",
      "metadata": {
        "id": "guesJq9FoaXM"
      },
      "source": [
        "***So let's look at the number of clients who, depending on the day of the week they make the application and their age, whether or not they repay the loans and which days there are more requests.*** \\\n",
        "***Through this graph we have already managed to get a more concise correlation, we have been able to observe that clients who usually borrow at the weekend tend to be late in paying it.***"
      ]
    },
    {
      "cell_type": "code",
      "execution_count": 30,
      "metadata": {
        "colab": {
          "base_uri": "https://localhost:8080/",
          "height": 225
        },
        "id": "QnCFL1mTYBCV",
        "outputId": "5c252171-e2e0-4e22-a236-b90d8fedc017"
      },
      "outputs": [
        {
          "data": {
            "image/png": "[encoded data removed]",
            "text/plain": [
              "<Figure size 600x300 with 2 Axes>"
            ]
          },
          "metadata": {},
          "output_type": "display_data"
        }
      ],
      "source": [
        "# extract which days of the week the loans were made\n",
        "df[\"dayofweek\"] = df[\"effective_date\"].dt.dayofweek\n",
        "bins = np.linspace(df.dayofweek.min(), df.dayofweek.max(), 8)\n",
        "\n",
        "g = sns.FacetGrid(df, col=\"gender\", hue=\"loan_status\", palette=\"crest\", col_wrap=2)\n",
        "g.map(plt.hist, \"dayofweek\", bins=bins, ec=\"k\")\n",
        "\n",
        "g.axes[-1].legend()\n",
        "plt.show()"
      ]
    },
    {
      "cell_type": "code",
      "execution_count": 31,
      "metadata": {
        "colab": {
          "base_uri": "https://localhost:8080/"
        },
        "id": "9FBKVl13aV4b",
        "outputId": "61ac1581-1b69-4bbf-c6f7-d0bfea0618ec"
      },
      "outputs": [
        {
          "data": {
            "text/plain": [
              "0    25.25\n",
              "1     5.75\n",
              "2     8.25\n",
              "3     1.00\n",
              "4     2.50\n",
              "5     9.75\n",
              "6    47.50\n",
              "Name: dayofweek, dtype: float64"
            ]
          },
          "execution_count": 31,
          "metadata": {},
          "output_type": "execute_result"
        }
      ],
      "source": [
        "# the proportion of each day in the dataset\n",
        "df[\"dayofweek\"].sort_values().value_counts(normalize=True, sort=False) * 100"
      ]
    },
    {
      "attachments": {},
      "cell_type": "markdown",
      "metadata": {
        "id": "KCdAZmkS-6-x"
      },
      "source": [
        "## Feature transformation and selection"
      ]
    },
    {
      "attachments": {},
      "cell_type": "markdown",
      "metadata": {
        "id": "bOzmfBdan1dS"
      },
      "source": [
        "***After the last observation, it is more appropriate to separate the weekend from the weekdays.***"
      ]
    },
    {
      "cell_type": "code",
      "execution_count": 32,
      "metadata": {
        "colab": {
          "base_uri": "https://localhost:8080/",
          "height": 363
        },
        "id": "ObzeTW_KfWf6",
        "outputId": "eace8fd4-abe0-4901-d420-2ec3a73b6e4c"
      },
      "outputs": [
        {
          "data": {
            "text/html": [
              "<div>\n",
              "<style scoped>\n",
              "    .dataframe tbody tr th:only-of-type {\n",
              "        vertical-align: middle;\n",
              "    }\n",
              "\n",
              "    .dataframe tbody tr th {\n",
              "        vertical-align: top;\n",
              "    }\n",
              "\n",
              "    .dataframe thead th {\n",
              "        text-align: right;\n",
              "    }\n",
              "</style>\n",
              "<table border=\"1\" class=\"dataframe\">\n",
              "  <thead>\n",
              "    <tr style=\"text-align: right;\">\n",
              "      <th></th>\n",
              "      <th>loan_status</th>\n",
              "      <th>principal</th>\n",
              "      <th>terms</th>\n",
              "      <th>effective_date</th>\n",
              "      <th>due_date</th>\n",
              "      <th>age</th>\n",
              "      <th>education</th>\n",
              "      <th>gender</th>\n",
              "      <th>dayofweek</th>\n",
              "      <th>weekend</th>\n",
              "    </tr>\n",
              "  </thead>\n",
              "  <tbody>\n",
              "    <tr>\n",
              "      <th>220</th>\n",
              "      <td>PAIDOFF</td>\n",
              "      <td>1000</td>\n",
              "      <td>15</td>\n",
              "      <td>2016-09-12</td>\n",
              "      <td>2016-09-26</td>\n",
              "      <td>35</td>\n",
              "      <td>college</td>\n",
              "      <td>male</td>\n",
              "      <td>0</td>\n",
              "      <td>0</td>\n",
              "    </tr>\n",
              "    <tr>\n",
              "      <th>69</th>\n",
              "      <td>PAIDOFF</td>\n",
              "      <td>1000</td>\n",
              "      <td>30</td>\n",
              "      <td>2016-09-11</td>\n",
              "      <td>2016-10-10</td>\n",
              "      <td>43</td>\n",
              "      <td>Bechalor</td>\n",
              "      <td>male</td>\n",
              "      <td>6</td>\n",
              "      <td>1</td>\n",
              "    </tr>\n",
              "    <tr>\n",
              "      <th>237</th>\n",
              "      <td>PAIDOFF</td>\n",
              "      <td>800</td>\n",
              "      <td>15</td>\n",
              "      <td>2016-09-12</td>\n",
              "      <td>2016-09-26</td>\n",
              "      <td>36</td>\n",
              "      <td>High School or Below</td>\n",
              "      <td>male</td>\n",
              "      <td>0</td>\n",
              "      <td>0</td>\n",
              "    </tr>\n",
              "    <tr>\n",
              "      <th>252</th>\n",
              "      <td>PAIDOFF</td>\n",
              "      <td>1000</td>\n",
              "      <td>30</td>\n",
              "      <td>2016-09-13</td>\n",
              "      <td>2016-10-12</td>\n",
              "      <td>28</td>\n",
              "      <td>High School or Below</td>\n",
              "      <td>male</td>\n",
              "      <td>1</td>\n",
              "      <td>0</td>\n",
              "    </tr>\n",
              "    <tr>\n",
              "      <th>268</th>\n",
              "      <td>PAIDOFF</td>\n",
              "      <td>1000</td>\n",
              "      <td>30</td>\n",
              "      <td>2016-09-14</td>\n",
              "      <td>2016-10-13</td>\n",
              "      <td>42</td>\n",
              "      <td>High School or Below</td>\n",
              "      <td>male</td>\n",
              "      <td>2</td>\n",
              "      <td>0</td>\n",
              "    </tr>\n",
              "  </tbody>\n",
              "</table>\n",
              "</div>"
            ],
            "text/plain": [
              "    loan_status  principal  terms effective_date   due_date  age  \\\n",
              "220     PAIDOFF       1000     15     2016-09-12 2016-09-26   35   \n",
              "69      PAIDOFF       1000     30     2016-09-11 2016-10-10   43   \n",
              "237     PAIDOFF        800     15     2016-09-12 2016-09-26   36   \n",
              "252     PAIDOFF       1000     30     2016-09-13 2016-10-12   28   \n",
              "268     PAIDOFF       1000     30     2016-09-14 2016-10-13   42   \n",
              "\n",
              "                education gender  dayofweek  weekend  \n",
              "220               college   male          0        0  \n",
              "69               Bechalor   male          6        1  \n",
              "237  High School or Below   male          0        0  \n",
              "252  High School or Below   male          1        0  \n",
              "268  High School or Below   male          2        0  "
            ]
          },
          "execution_count": 32,
          "metadata": {},
          "output_type": "execute_result"
        }
      ],
      "source": [
        "# we use lambda function to create a new column\n",
        "df[\"weekend\"] = df[\"dayofweek\"].apply(lambda x: 1 if (x > 3) else 0)\n",
        "df.sample(5)"
      ]
    },
    {
      "attachments": {},
      "cell_type": "markdown",
      "metadata": {
        "id": "x06Ey4Aof2u6"
      },
      "source": [
        "### Conversion of categorical features to numerical ones"
      ]
    },
    {
      "attachments": {},
      "cell_type": "markdown",
      "metadata": {
        "id": "BR6SZ55Pl9Kk"
      },
      "source": [
        "***Feature gender, we can put it as a binary value***"
      ]
    },
    {
      "cell_type": "code",
      "execution_count": 33,
      "metadata": {
        "colab": {
          "base_uri": "https://localhost:8080/",
          "height": 206
        },
        "id": "Z3xB0u3li7ty",
        "outputId": "16618238-168a-4b0e-c61b-f993fa72d267"
      },
      "outputs": [
        {
          "data": {
            "text/plain": [
              "55     0\n",
              "188    0\n",
              "4      1\n",
              "118    0\n",
              "306    0\n",
              "Name: gender, dtype: int64"
            ]
          },
          "execution_count": 33,
          "metadata": {},
          "output_type": "execute_result"
        }
      ],
      "source": [
        "# the models perform better with numbers than with strings\n",
        "df[\"gender\"].replace(to_replace=[\"male\", \"female\"], value=[0, 1], inplace=True)\n",
        "df[\"gender\"].sample(5)"
      ]
    },
    {
      "attachments": {},
      "cell_type": "markdown",
      "metadata": {
        "id": "ANvGiT4dsfBx"
      },
      "source": [
        "***Let's now make a new Dataframe with the definitive features that we want to feed our models.*** \\\n",
        "***We use a pandas \"dummy\" algorithm method to categorize the data in the education feature.***"
      ]
    },
    {
      "cell_type": "code",
      "execution_count": 34,
      "metadata": {
        "colab": {
          "base_uri": "https://localhost:8080/",
          "height": 206
        },
        "id": "4yjxyiy1nTsf",
        "outputId": "70dea6a9-90e3-44ae-f335-6cc38ed98fd0"
      },
      "outputs": [
        {
          "data": {
            "text/html": [
              "<div>\n",
              "<style scoped>\n",
              "    .dataframe tbody tr th:only-of-type {\n",
              "        vertical-align: middle;\n",
              "    }\n",
              "\n",
              "    .dataframe tbody tr th {\n",
              "        vertical-align: top;\n",
              "    }\n",
              "\n",
              "    .dataframe thead th {\n",
              "        text-align: right;\n",
              "    }\n",
              "</style>\n",
              "<table border=\"1\" class=\"dataframe\">\n",
              "  <thead>\n",
              "    <tr style=\"text-align: right;\">\n",
              "      <th></th>\n",
              "      <th>loan_status</th>\n",
              "      <th>principal</th>\n",
              "      <th>terms</th>\n",
              "      <th>age</th>\n",
              "      <th>gender</th>\n",
              "      <th>dayofweek</th>\n",
              "      <th>weekend</th>\n",
              "      <th>Bechalor</th>\n",
              "      <th>High School or Below</th>\n",
              "      <th>Master or Above</th>\n",
              "      <th>college</th>\n",
              "    </tr>\n",
              "  </thead>\n",
              "  <tbody>\n",
              "    <tr>\n",
              "      <th>364</th>\n",
              "      <td>COLLECTION</td>\n",
              "      <td>800</td>\n",
              "      <td>15</td>\n",
              "      <td>22</td>\n",
              "      <td>0</td>\n",
              "      <td>6</td>\n",
              "      <td>1</td>\n",
              "      <td>0</td>\n",
              "      <td>0</td>\n",
              "      <td>0</td>\n",
              "      <td>1</td>\n",
              "    </tr>\n",
              "    <tr>\n",
              "      <th>84</th>\n",
              "      <td>PAIDOFF</td>\n",
              "      <td>1000</td>\n",
              "      <td>30</td>\n",
              "      <td>37</td>\n",
              "      <td>1</td>\n",
              "      <td>6</td>\n",
              "      <td>1</td>\n",
              "      <td>0</td>\n",
              "      <td>1</td>\n",
              "      <td>0</td>\n",
              "      <td>0</td>\n",
              "    </tr>\n",
              "    <tr>\n",
              "      <th>1</th>\n",
              "      <td>PAIDOFF</td>\n",
              "      <td>1000</td>\n",
              "      <td>30</td>\n",
              "      <td>50</td>\n",
              "      <td>1</td>\n",
              "      <td>3</td>\n",
              "      <td>0</td>\n",
              "      <td>1</td>\n",
              "      <td>0</td>\n",
              "      <td>0</td>\n",
              "      <td>0</td>\n",
              "    </tr>\n",
              "    <tr>\n",
              "      <th>272</th>\n",
              "      <td>PAIDOFF</td>\n",
              "      <td>1000</td>\n",
              "      <td>30</td>\n",
              "      <td>28</td>\n",
              "      <td>0</td>\n",
              "      <td>2</td>\n",
              "      <td>0</td>\n",
              "      <td>0</td>\n",
              "      <td>0</td>\n",
              "      <td>0</td>\n",
              "      <td>1</td>\n",
              "    </tr>\n",
              "    <tr>\n",
              "      <th>301</th>\n",
              "      <td>COLLECTION</td>\n",
              "      <td>1000</td>\n",
              "      <td>30</td>\n",
              "      <td>37</td>\n",
              "      <td>0</td>\n",
              "      <td>4</td>\n",
              "      <td>1</td>\n",
              "      <td>0</td>\n",
              "      <td>1</td>\n",
              "      <td>0</td>\n",
              "      <td>0</td>\n",
              "    </tr>\n",
              "  </tbody>\n",
              "</table>\n",
              "</div>"
            ],
            "text/plain": [
              "    loan_status  principal  terms  age  gender  dayofweek  weekend  Bechalor  \\\n",
              "364  COLLECTION        800     15   22       0          6        1         0   \n",
              "84      PAIDOFF       1000     30   37       1          6        1         0   \n",
              "1       PAIDOFF       1000     30   50       1          3        0         1   \n",
              "272     PAIDOFF       1000     30   28       0          2        0         0   \n",
              "301  COLLECTION       1000     30   37       0          4        1         0   \n",
              "\n",
              "     High School or Below  Master or Above  college  \n",
              "364                     0                0        1  \n",
              "84                      1                0        0  \n",
              "1                       0                0        0  \n",
              "272                     0                0        1  \n",
              "301                     1                0        0  "
            ]
          },
          "execution_count": 34,
          "metadata": {},
          "output_type": "execute_result"
        }
      ],
      "source": [
        "# select the features to be used\n",
        "df = df.drop([\"effective_date\", \"due_date\"], axis=1)\n",
        "\n",
        "# one hot encode the features\n",
        "df = pd.concat([df, pd.get_dummies(df[\"education\"])], axis=1).drop(\n",
        "    [\"education\"], axis=1\n",
        ")\n",
        "df.sample(5)"
      ]
    },
    {
      "cell_type": "code",
      "execution_count": 35,
      "metadata": {
        "colab": {
          "base_uri": "https://localhost:8080/",
          "height": 812
        },
        "id": "u4Th2jold1J5",
        "outputId": "c5ea4a8c-9da7-4fb2-fa05-ab2bf389d770"
      },
      "outputs": [
        {
          "data": {
            "image/png": "[encoded data removed]",
            "text/plain": [
              "<Figure size 1500x1200 with 2 Axes>"
            ]
          },
          "metadata": {},
          "output_type": "display_data"
        }
      ],
      "source": [
        "# HeatMap Correlation after all the preparation\n",
        "plt.figure(figsize=(15, 12))\n",
        "plt.title(\"Correlation of Features for Train Set\")\n",
        "sns.heatmap(df.corr(numeric_only=True), vmax=1.0, annot=True, cmap=\"YlGnBu\")\n",
        "plt.show()"
      ]
    },
    {
      "cell_type": "code",
      "execution_count": 36,
      "metadata": {},
      "outputs": [],
      "source": [
        "# save the prepared DataFrame as a csv file\n",
        "df.to_csv(\"loans_imbalanced.csv\", index=False)"
      ]
    }
  ],
  "metadata": {
    "colab": {
      "collapsed_sections": [],
      "name": "Trabalho_SBC(v1).ipynb",
      "provenance": [],
      "toc_visible": true
    },
    "kernelspec": {
      "display_name": "DS",
      "language": "python",
      "name": "python3"
    },
    "language_info": {
      "codemirror_mode": {
        "name": "ipython",
        "version": 3
      },
      "file_extension": ".py",
      "mimetype": "text/x-python",
      "name": "python",
      "nbconvert_exporter": "python",
      "pygments_lexer": "ipython3",
      "version": "3.10.9"
    },
    "vscode": {
      "interpreter": {
        "hash": "a145b90f58b6271503e4899e4738757c4554a8ba65f33a82a247bf79487100ed"
      }
    }
  },
  "nbformat": 4,
  "nbformat_minor": 0
}
